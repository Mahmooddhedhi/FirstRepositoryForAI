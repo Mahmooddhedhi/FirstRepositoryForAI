{
 "cells": [
  {
   "cell_type": "markdown",
   "id": "2a7e1f68",
   "metadata": {},
   "source": [
    "# List Data type\n",
    "* start with `[` and end with `]`\n",
    "* value/item `store any data type`\n",
    "* seprator between two items `,`\n",
    "* indexing\n",
    "  * positive indexing `-->` lef to right always start Zero\n",
    "  * negative/reverse indexing `<--` right to lef always start -1\n",
    "* extract value from list with index value `variable_name[index_num]`\n",
    "\n",
    "# Slicing\n",
    "* `variable[start:end:step]` all parameters are numbers\n",
    "  * start include\n",
    "  * end exclude (end-1)\n",
    "  * step sequance (--> 1)"
   ]
  },
  {
   "cell_type": "code",
   "execution_count": 1,
   "id": "43ea576b",
   "metadata": {},
   "outputs": [],
   "source": [
    "stdid1 = 1\n",
    "stdname1 = \"Ali\"\n",
    "stdfname1 = \"Hamza\"\n",
    "\n",
    "stdid2 = 2\n",
    "stdname2 = \"Kashif\"\n",
    "stdfname2 = \"Asif\""
   ]
  },
  {
   "cell_type": "code",
   "execution_count": 2,
   "id": "9c62ee3d",
   "metadata": {},
   "outputs": [
    {
     "name": "stdout",
     "output_type": "stream",
     "text": [
      "['Asif', 'Kashif', 'Hamza', 1000, 2000, 3000, True]\n"
     ]
    }
   ],
   "source": [
    "names = ['Asif',\"Kashif\",'Hamza',1000,2000,3000,True]\n",
    "print(names)"
   ]
  },
  {
   "cell_type": "code",
   "execution_count": 3,
   "id": "cb90ffb5",
   "metadata": {},
   "outputs": [
    {
     "name": "stdout",
     "output_type": "stream",
     "text": [
      "['Asif', 'Kashif', 'Hamza', 1000, 2000, 3000, True]\n"
     ]
    }
   ],
   "source": [
    "# --->      0      1        2     3     4   5    6\n",
    "names = ['Asif',\"Kashif\",'Hamza',1000,2000,3000,True]\n",
    "# <---     -7     -6       -5     -4   -3   -2   -1\n",
    "print(names)"
   ]
  },
  {
   "cell_type": "code",
   "execution_count": 4,
   "id": "9fadafae",
   "metadata": {},
   "outputs": [
    {
     "name": "stdout",
     "output_type": "stream",
     "text": [
      "Hamza\n",
      "Hamza\n",
      "2000 2000\n"
     ]
    }
   ],
   "source": [
    "# --->      0      1        2     3     4   5    6\n",
    "names = ['Asif',\"Kashif\",'Hamza',1000,2000,3000,True]\n",
    "# <---     -7     -6       -5     -4   -3   -2   -1\n",
    "\n",
    "print(names[2])\n",
    "print(names[-5])\n",
    "print(names[4], names[-3])"
   ]
  },
  {
   "cell_type": "code",
   "execution_count": 5,
   "id": "f5a1924b",
   "metadata": {},
   "outputs": [
    {
     "name": "stdout",
     "output_type": "stream",
     "text": [
      "3000\n",
      "3000\n",
      "1000 1000\n"
     ]
    }
   ],
   "source": [
    "names = ['Asif',\"Kashif\",'Hamza',1000,2000,3000,True]\n",
    "print(names[-2])\n",
    "print(names[5])\n",
    "\n",
    "print(names[3], names[-4])"
   ]
  },
  {
   "cell_type": "markdown",
   "id": "8f17dcd0",
   "metadata": {},
   "source": [
    "# old programming code style for pinting all array values"
   ]
  },
  {
   "cell_type": "code",
   "execution_count": 6,
   "id": "f6363a42",
   "metadata": {},
   "outputs": [
    {
     "name": "stdout",
     "output_type": "stream",
     "text": [
      "Asif\n",
      "Kashif\n",
      "Hamza\n",
      "1000\n",
      "2000\n",
      "3000\n",
      "True\n"
     ]
    }
   ],
   "source": [
    "names = ['Asif',\"Kashif\",'Hamza',1000,2000,3000,True]\n",
    "\n",
    "counter = 0\n",
    "while counter < len(names):\n",
    "    print(names[counter])\n",
    "    counter += 1"
   ]
  },
  {
   "cell_type": "code",
   "execution_count": 7,
   "id": "242709a1",
   "metadata": {},
   "outputs": [
    {
     "name": "stdout",
     "output_type": "stream",
     "text": [
      "Kashif\n",
      "Hamza\n",
      "1000\n",
      "2000\n"
     ]
    }
   ],
   "source": [
    "names = ['Asif',\"Kashif\",'Hamza',1000,2000,3000,True]\n",
    "\n",
    "counter = 1\n",
    "while counter < 5:\n",
    "    print(names[counter])\n",
    "    counter += 1"
   ]
  },
  {
   "cell_type": "markdown",
   "id": "7605a114",
   "metadata": {},
   "source": [
    "# Now print with pythonic style"
   ]
  },
  {
   "cell_type": "code",
   "execution_count": 8,
   "id": "d2435b1f",
   "metadata": {},
   "outputs": [
    {
     "name": "stdout",
     "output_type": "stream",
     "text": [
      "Asif\n",
      "Kashif\n",
      "Hamza\n",
      "1000\n",
      "2000\n",
      "3000\n",
      "True\n"
     ]
    }
   ],
   "source": [
    "names = ['Asif',\"Kashif\",'Hamza',1000,2000,3000,True]\n",
    "\n",
    "for name in names:\n",
    "    print(name)"
   ]
  },
  {
   "cell_type": "markdown",
   "id": "d7c7532a",
   "metadata": {},
   "source": [
    "# Slicing"
   ]
  },
  {
   "cell_type": "code",
   "execution_count": 9,
   "id": "edb192bd",
   "metadata": {},
   "outputs": [
    {
     "name": "stdout",
     "output_type": "stream",
     "text": [
      "['Kashif', 'Hamza', 1000, 2000, 3000]\n",
      "['Kashif', 'Hamza', 1000, 2000, 3000]\n"
     ]
    }
   ],
   "source": [
    "# --->      0      1        2     3     4   5    6\n",
    "names = ['Asif',\"Kashif\",'Hamza',1000,2000,3000,True]\n",
    "# <---     -7     -6       -5     -4   -3   -2   -1\n",
    "\n",
    "\n",
    "print(names[1:6])\n",
    "print(names[1:6:1])"
   ]
  },
  {
   "cell_type": "code",
   "execution_count": 10,
   "id": "ee02b0cb",
   "metadata": {},
   "outputs": [
    {
     "name": "stdout",
     "output_type": "stream",
     "text": [
      "['Asif', 'Kashif', 'Hamza', 1000, 2000, 3000, True]\n",
      "['Asif', 'Hamza', 2000, True]\n",
      "['Asif', 1000, True]\n"
     ]
    }
   ],
   "source": [
    "# --->      0      1        2     3     4   5    6\n",
    "names = ['Asif',\"Kashif\",'Hamza',1000,2000,3000,True]\n",
    "# <---     -7     -6       -5     -4   -3   -2   -1\n",
    "\n",
    "print(names[::1])\n",
    "print(names[::2])\n",
    "print(names[::3])"
   ]
  },
  {
   "cell_type": "code",
   "execution_count": 11,
   "id": "93f7da32",
   "metadata": {},
   "outputs": [
    {
     "name": "stdout",
     "output_type": "stream",
     "text": [
      "[True, 3000, 2000, 1000, 'Hamza', 'Kashif', 'Asif']\n"
     ]
    }
   ],
   "source": [
    "# --->      0      1        2     3     4   5    6\n",
    "names = ['Asif',\"Kashif\",'Hamza',1000,2000,3000,True]\n",
    "# <---     -7     -6       -5     -4   -3   -2   -1\n",
    "\n",
    "print(names[::-1])"
   ]
  },
  {
   "cell_type": "code",
   "execution_count": 12,
   "id": "0a0c728f",
   "metadata": {},
   "outputs": [
    {
     "name": "stdout",
     "output_type": "stream",
     "text": [
      "[]\n",
      "[2000, 1000, 'Hamza', 'Kashif']\n",
      "['Asif', 'Kashif', 'Hamza', 1000]\n",
      "[3000, 2000, 1000, 'Hamza', 'Kashif']\n",
      "[3000, 2000, 1000, 'Hamza', 'Kashif']\n"
     ]
    }
   ],
   "source": [
    "# --->      0      1        2     3     4   5    6\n",
    "names = ['Asif',\"Kashif\",'Hamza',1000,2000,3000,True]\n",
    "# <---     -7     -6       -5     -4   -3   -2   -1\n",
    "\n",
    "print(names[4:-7])\n",
    "print(names[4:-7:-1])\n",
    "print(names[-7:4])\n",
    "\n",
    "print(names[5:-7:-1])\n",
    "print(names[5:0:-1])"
   ]
  },
  {
   "cell_type": "code",
   "execution_count": 13,
   "id": "cc3bbe76",
   "metadata": {},
   "outputs": [
    {
     "name": "stdout",
     "output_type": "stream",
     "text": [
      "[3000, True, 'pakistan']\n",
      "['Asif', 'Kashif', 'Hamza']\n",
      "['Asif', 'Kashif', 'Hamza']\n",
      "['Asif', 'Kashif', 'Hamza']\n",
      "['Asif', 'Kashif', 'Hamza']\n"
     ]
    }
   ],
   "source": [
    "# --->      0      1        2     3     4   5    6\n",
    "names = ['Asif',\"Kashif\",'Hamza',1000,2000,3000,True,'pakistan']\n",
    "# <---     -7     -6       -5     -4   -3   -2   -1\n",
    "\n",
    "print(names[-3:])\n",
    "print(names[0:3])\n",
    "print(names[:3])\n",
    "print(names[0:3:1])\n",
    "print(names[:3:1])"
   ]
  },
  {
   "cell_type": "markdown",
   "id": "07d57f86",
   "metadata": {},
   "source": [
    "# apply operators on list data type"
   ]
  },
  {
   "cell_type": "code",
   "execution_count": 14,
   "id": "2ca43709",
   "metadata": {},
   "outputs": [
    {
     "data": {
      "text/plain": [
       "['pakistan', 1000, 2000, 'abc', 'xyz']"
      ]
     },
     "execution_count": 14,
     "metadata": {},
     "output_type": "execute_result"
    }
   ],
   "source": [
    "l1 = ['pakistan',1000,2000]\n",
    "l2 = ['abc','xyz']\n",
    "\n",
    "l1 + l2"
   ]
  },
  {
   "cell_type": "code",
   "execution_count": 15,
   "id": "f941fef7",
   "metadata": {},
   "outputs": [
    {
     "data": {
      "text/plain": [
       "['pakistan', 1000, 2000, 'pakistan', 1000, 2000, 'pakistan', 1000, 2000]"
      ]
     },
     "execution_count": 15,
     "metadata": {},
     "output_type": "execute_result"
    }
   ],
   "source": [
    "l1 * 3"
   ]
  },
  {
   "cell_type": "code",
   "execution_count": 16,
   "id": "4b412c24",
   "metadata": {},
   "outputs": [
    {
     "data": {
      "text/plain": [
       "' pakistan pakistan pakistan'"
      ]
     },
     "execution_count": 16,
     "metadata": {},
     "output_type": "execute_result"
    }
   ],
   "source": [
    "\" pakistan\" * 3 "
   ]
  },
  {
   "cell_type": "markdown",
   "id": "43f6503a",
   "metadata": {},
   "source": [
    "# list data type methods"
   ]
  },
  {
   "cell_type": "code",
   "execution_count": 17,
   "id": "86cd7032",
   "metadata": {},
   "outputs": [
    {
     "data": {
      "text/plain": [
       "['append',\n",
       " 'clear',\n",
       " 'copy',\n",
       " 'count',\n",
       " 'extend',\n",
       " 'index',\n",
       " 'insert',\n",
       " 'pop',\n",
       " 'remove',\n",
       " 'reverse',\n",
       " 'sort']"
      ]
     },
     "execution_count": 17,
     "metadata": {},
     "output_type": "execute_result"
    }
   ],
   "source": [
    "[i for i in dir(list) if \"__\" not in i]"
   ]
  },
  {
   "cell_type": "markdown",
   "id": "5c021fa6",
   "metadata": {},
   "source": [
    "# append -> append value as a item"
   ]
  },
  {
   "cell_type": "code",
   "execution_count": 19,
   "id": "1c28cacf",
   "metadata": {},
   "outputs": [
    {
     "name": "stdout",
     "output_type": "stream",
     "text": [
      "['Asif', 'Hamza', 'Kashif', [1, 2, 3]]\n"
     ]
    }
   ],
   "source": [
    "\n",
    "names = []\n",
    "\n",
    "names.append(\"Asif\")\n",
    "names.append(\"Hamza\")\n",
    "names.append(\"Kashif\")\n",
    "names.append([1,2,3])\n",
    "\n",
    "print(names)"
   ]
  },
  {
   "cell_type": "code",
   "execution_count": 20,
   "id": "c15d11a1",
   "metadata": {},
   "outputs": [
    {
     "data": {
      "text/plain": [
       "[1, 2, 3]"
      ]
     },
     "execution_count": 20,
     "metadata": {},
     "output_type": "execute_result"
    }
   ],
   "source": [
    "names[-1]"
   ]
  },
  {
   "cell_type": "code",
   "execution_count": 21,
   "id": "586ea980",
   "metadata": {},
   "outputs": [
    {
     "name": "stdout",
     "output_type": "stream",
     "text": [
      "['pakistan', 1000, 2000]\n"
     ]
    },
    {
     "ename": "NameError",
     "evalue": "name 'l1' is not defined",
     "output_type": "error",
     "traceback": [
      "\u001b[1;31m---------------------------------------------------------------------------\u001b[0m",
      "\u001b[1;31mNameError\u001b[0m                                 Traceback (most recent call last)",
      "\u001b[1;32m~\\AppData\\Local\\Temp\\ipykernel_484\\1144491815.py\u001b[0m in \u001b[0;36m<module>\u001b[1;34m\u001b[0m\n\u001b[0;32m      4\u001b[0m \u001b[1;32mdel\u001b[0m \u001b[0ml1\u001b[0m\u001b[1;33m\u001b[0m\u001b[1;33m\u001b[0m\u001b[0m\n\u001b[0;32m      5\u001b[0m \u001b[1;33m\u001b[0m\u001b[0m\n\u001b[1;32m----> 6\u001b[1;33m \u001b[0mprint\u001b[0m\u001b[1;33m(\u001b[0m\u001b[0ml1\u001b[0m\u001b[1;33m)\u001b[0m\u001b[1;33m\u001b[0m\u001b[1;33m\u001b[0m\u001b[0m\n\u001b[0m",
      "\u001b[1;31mNameError\u001b[0m: name 'l1' is not defined"
     ]
    }
   ],
   "source": [
    "l1 = ['pakistan',1000,2000]\n",
    "\n",
    "print(l1)\n",
    "del l1\n",
    "\n",
    "print(l1)"
   ]
  },
  {
   "cell_type": "code",
   "execution_count": 22,
   "id": "e8236605",
   "metadata": {},
   "outputs": [
    {
     "name": "stdout",
     "output_type": "stream",
     "text": [
      "['pakistan', 1000, 2000]\n",
      "[]\n"
     ]
    }
   ],
   "source": [
    "l1 = ['pakistan',1000,2000]\n",
    "\n",
    "print(l1)\n",
    "l1.clear()\n",
    "\n",
    "print(l1)"
   ]
  },
  {
   "cell_type": "code",
   "execution_count": 23,
   "id": "e1eb35e8",
   "metadata": {},
   "outputs": [
    {
     "name": "stdout",
     "output_type": "stream",
     "text": [
      "['pakistan', 1000, 2000]\n",
      "['pakistan', 1000, 2000]\n"
     ]
    }
   ],
   "source": [
    "l1 = ['pakistan',1000,2000]\n",
    "l2 = l1\n",
    "\n",
    "print(l1)\n",
    "print(l2)"
   ]
  },
  {
   "cell_type": "code",
   "execution_count": 24,
   "id": "e70e4f29",
   "metadata": {},
   "outputs": [
    {
     "name": "stdout",
     "output_type": "stream",
     "text": [
      "['pakistan', 7000, 2000]\n",
      "['pakistan', 7000, 2000]\n"
     ]
    }
   ],
   "source": [
    "l1 = ['pakistan',1000,2000]\n",
    "l2 = l1\n",
    "\n",
    "l2[1] = 7000\n",
    "\n",
    "print(l1)\n",
    "print(l2)"
   ]
  },
  {
   "cell_type": "code",
   "execution_count": 26,
   "id": "a3c05bfc",
   "metadata": {},
   "outputs": [
    {
     "name": "stdout",
     "output_type": "stream",
     "text": [
      "['pakistan', 1000, 2000]\n",
      "['pakistan', 7000, 2000]\n"
     ]
    }
   ],
   "source": [
    "l1 = ['pakistan',1000,2000]\n",
    "l2 = l1.copy()\n",
    "\n",
    "l2[1] = 7000\n",
    "\n",
    "print(l1)\n",
    "print(l2)"
   ]
  },
  {
   "cell_type": "code",
   "execution_count": 27,
   "id": "3b09f626",
   "metadata": {},
   "outputs": [
    {
     "data": {
      "text/plain": [
       "2"
      ]
     },
     "execution_count": 27,
     "metadata": {},
     "output_type": "execute_result"
    }
   ],
   "source": [
    "l1 = ['a','b','c','a','x','y','z']\n",
    "\n",
    "l1.count('a')"
   ]
  },
  {
   "cell_type": "code",
   "execution_count": 28,
   "id": "1215663b",
   "metadata": {},
   "outputs": [
    {
     "name": "stdout",
     "output_type": "stream",
     "text": [
      "['Asif', 'Hamza', 'Kashif', [1, 2, 3]]\n"
     ]
    }
   ],
   "source": [
    "names = []\n",
    "\n",
    "names.append(\"Asif\")\n",
    "names.append(\"Hamza\")\n",
    "names.append(\"Kashif\")\n",
    "names.append([1,2,3])\n",
    "\n",
    "print(names)"
   ]
  },
  {
   "cell_type": "code",
   "execution_count": 29,
   "id": "a6059abb",
   "metadata": {},
   "outputs": [
    {
     "name": "stdout",
     "output_type": "stream",
     "text": [
      "['Asif', 'Hamza', 'Kashif', 1, 2, 3]\n"
     ]
    }
   ],
   "source": [
    "names = []\n",
    "\n",
    "names.append(\"Asif\")\n",
    "names.append(\"Hamza\")\n",
    "names.append(\"Kashif\")\n",
    "names.extend([1,2,3])\n",
    "\n",
    "print(names)"
   ]
  },
  {
   "cell_type": "code",
   "execution_count": 30,
   "id": "592e5d20",
   "metadata": {},
   "outputs": [
    {
     "name": "stdout",
     "output_type": "stream",
     "text": [
      "[1, 2, 3, 'a', 'b', 'c']\n",
      "[1, 2, 3] ['a', 'b', 'c']\n"
     ]
    }
   ],
   "source": [
    "l1 = [1,2,3]\n",
    "l2 = ['a','b','c']\n",
    "\n",
    "print(l1 + l2)\n",
    "\n",
    "print(l1,l2)"
   ]
  },
  {
   "cell_type": "code",
   "execution_count": 31,
   "id": "105784c9",
   "metadata": {},
   "outputs": [
    {
     "name": "stdout",
     "output_type": "stream",
     "text": [
      "[1, 2, 3, 'a', 'b', 'c'] ['a', 'b', 'c']\n"
     ]
    }
   ],
   "source": [
    "l1 = [1,2,3]\n",
    "l2 = ['a','b','c']\n",
    "\n",
    "l1.extend(l2)\n",
    "\n",
    "\n",
    "print(l1,l2)"
   ]
  },
  {
   "cell_type": "code",
   "execution_count": 32,
   "id": "9603ed72",
   "metadata": {},
   "outputs": [
    {
     "data": {
      "text/plain": [
       "4"
      ]
     },
     "execution_count": 32,
     "metadata": {},
     "output_type": "execute_result"
    }
   ],
   "source": [
    "l1 = ['a','b','c','a','x','y','z']\n",
    "\n",
    "l1.index('x')"
   ]
  },
  {
   "cell_type": "code",
   "execution_count": 33,
   "id": "71871ee9",
   "metadata": {},
   "outputs": [
    {
     "name": "stdout",
     "output_type": "stream",
     "text": [
      "0\n",
      "3\n"
     ]
    }
   ],
   "source": [
    "l1 = ['a','b','c','a','x','y','z']\n",
    "\n",
    "print(l1.index('a'))\n",
    "print(l1.index('a',1))"
   ]
  },
  {
   "cell_type": "markdown",
   "id": "5d8fcd36",
   "metadata": {},
   "source": [
    "# Insert"
   ]
  },
  {
   "cell_type": "code",
   "execution_count": 34,
   "id": "32a24fbd",
   "metadata": {},
   "outputs": [
    {
     "name": "stdout",
     "output_type": "stream",
     "text": [
      "['a', 'pakistan', 'b', 'c', 'a', 'x', 'y', 'z']\n"
     ]
    }
   ],
   "source": [
    "l1 = ['a','b','c','a','x','y','z']\n",
    "\n",
    "l1.insert(1,\"pakistan\")\n",
    "print(l1)"
   ]
  },
  {
   "cell_type": "code",
   "execution_count": 35,
   "id": "6b6f951f",
   "metadata": {},
   "outputs": [
    {
     "name": "stdout",
     "output_type": "stream",
     "text": [
      "['a', 'b', 'c', 'a', 'x', 'y', 'z']\n",
      "['a', 'b', 'c', 'a', 'x', 'y']\n",
      "['a', 'b', 'c', 'a', 'x']\n",
      "['b', 'c', 'a', 'x']\n"
     ]
    }
   ],
   "source": [
    "l1 = ['a','b','c','a','x','y','z']\n",
    "print(l1)\n",
    "l1.pop()\n",
    "print(l1)\n",
    "l1.pop()\n",
    "print(l1)\n",
    "l1.pop(0)\n",
    "print(l1)"
   ]
  },
  {
   "cell_type": "code",
   "execution_count": 36,
   "id": "ef923122",
   "metadata": {},
   "outputs": [
    {
     "name": "stdout",
     "output_type": "stream",
     "text": [
      "['a', 'b', 'c', 'a', 'x', 'y', 'z']\n",
      "['a', 'b', 'c', 'a', 'x', 'y']\n",
      "['a', 'b', 'c', 'a', 'x']\n",
      "['b', 'c', 'a', 'x']\n",
      "Completed list  ['z', 'y', 'a']\n"
     ]
    }
   ],
   "source": [
    "l1 = ['a','b','c','a','x','y','z']\n",
    "l2 = []\n",
    "\n",
    "print(l1)\n",
    "l2.append(l1.pop())\n",
    "print(l1)\n",
    "l2.append(l1.pop())\n",
    "print(l1)\n",
    "l2.append(l1.pop(0))\n",
    "print(l1)\n",
    "\n",
    "print(\"Completed list \",l2)"
   ]
  },
  {
   "cell_type": "code",
   "execution_count": 37,
   "id": "2d7fc419",
   "metadata": {},
   "outputs": [
    {
     "name": "stdout",
     "output_type": "stream",
     "text": [
      "['a', 'a', 'b', 'c', 'x', 'y', 'z']\n"
     ]
    }
   ],
   "source": [
    "l1 = ['a','b','c','a','x','y','z']\n",
    "\n",
    "l1.sort()\n",
    "\n",
    "print(l1)"
   ]
  },
  {
   "cell_type": "code",
   "execution_count": 38,
   "id": "dd63f130",
   "metadata": {},
   "outputs": [
    {
     "name": "stdout",
     "output_type": "stream",
     "text": [
      "['z', 'y', 'x', 'a', 'c', 'b', 'a']\n"
     ]
    }
   ],
   "source": [
    "l1 = ['a','b','c','a','x','y','z']\n",
    "\n",
    "l1.reverse()\n",
    "\n",
    "print(l1)"
   ]
  },
  {
   "cell_type": "code",
   "execution_count": 39,
   "id": "7908f4cd",
   "metadata": {},
   "outputs": [
    {
     "name": "stdout",
     "output_type": "stream",
     "text": [
      "['z', 'y', 'x', 'c', 'b', 'a', 'a']\n"
     ]
    }
   ],
   "source": [
    "l1 = ['a','b','c','a','x','y','z']\n",
    "\n",
    "l1.sort()\n",
    "l1.reverse()\n",
    "\n",
    "print(l1)"
   ]
  },
  {
   "cell_type": "code",
   "execution_count": 40,
   "id": "a18a1a5a",
   "metadata": {},
   "outputs": [
    {
     "name": "stdout",
     "output_type": "stream",
     "text": [
      "['z', 'y', 'x', 'c', 'b', 'a', 'a']\n"
     ]
    }
   ],
   "source": [
    "l1 = ['a','b','c','a','x','y','z']\n",
    "\n",
    "l1.sort(reverse=True)\n",
    "\n",
    "print(l1)"
   ]
  },
  {
   "cell_type": "markdown",
   "id": "3a819fb8",
   "metadata": {},
   "source": [
    "# Remove value from list search with string"
   ]
  },
  {
   "cell_type": "code",
   "execution_count": 41,
   "id": "a1c2863b",
   "metadata": {},
   "outputs": [
    {
     "name": "stdout",
     "output_type": "stream",
     "text": [
      "Enter item: x\n",
      "x <class 'str'>\n",
      "4 <class 'int'>\n",
      "['a', 'b', 'c', 'a', 'y', 'z']\n"
     ]
    }
   ],
   "source": [
    "l1 = ['a','b','c','a','x','y','z']\n",
    "\n",
    "\n",
    "remove_item = input(\"Enter item: \")\n",
    "indx = l1.index(remove_item)\n",
    "\n",
    "print(remove_item,type(remove_item))\n",
    "print(indx, type(indx))\n",
    "l1.pop(indx)\n",
    "\n",
    "print(l1)"
   ]
  },
  {
   "cell_type": "code",
   "execution_count": 42,
   "id": "4a90403b",
   "metadata": {},
   "outputs": [
    {
     "name": "stdout",
     "output_type": "stream",
     "text": [
      "['a', 'b', 'c', 'a', 'y', 'z']\n"
     ]
    }
   ],
   "source": [
    "l1 = ['a','b','c','a','x','y','z']\n",
    "\n",
    "l1.remove('x')\n",
    "print(l1)"
   ]
  },
  {
   "cell_type": "code",
   "execution_count": 43,
   "id": "aa9653ae",
   "metadata": {},
   "outputs": [
    {
     "name": "stdout",
     "output_type": "stream",
     "text": [
      "Enter item: b\n",
      "['a', 'c', 'a', 'b', 'x', 'y', 'z'] None\n"
     ]
    }
   ],
   "source": [
    "l1 = ['a','b','c','a','b','x','y','z']\n",
    "\n",
    "remove_item = input(\"Enter item: \")\n",
    "\n",
    "a = l1.remove(remove_item)\n",
    "print(l1,a)"
   ]
  },
  {
   "cell_type": "code",
   "execution_count": 44,
   "id": "810da397",
   "metadata": {},
   "outputs": [
    {
     "name": "stdout",
     "output_type": "stream",
     "text": [
      "Enter item: b\n",
      "None\n",
      "None\n",
      "['a', 'c', 'a', 'x', 'y', 'z']\n"
     ]
    }
   ],
   "source": [
    "l1 = ['a','b','c','a','b','x','y','z']\n",
    "\n",
    "\n",
    "remove_item = input(\"Enter item: \")\n",
    "\n",
    "for i in range(l1.count(remove_item)):\n",
    "    a = l1.remove(remove_item)\n",
    "    print(a)\n",
    "print(l1)"
   ]
  },
  {
   "cell_type": "markdown",
   "id": "a4eb9e01",
   "metadata": {},
   "source": [
    "# Loop"
   ]
  },
  {
   "cell_type": "code",
   "execution_count": 45,
   "id": "8c7fee7d",
   "metadata": {},
   "outputs": [
    {
     "name": "stdout",
     "output_type": "stream",
     "text": [
      "a\n",
      "b\n",
      "c\n",
      "a\n",
      "b\n",
      "x\n",
      "y\n",
      "z\n"
     ]
    }
   ],
   "source": [
    "for i in ['a','b','c','a','b','x','y','z']:\n",
    "    print(i)"
   ]
  },
  {
   "cell_type": "code",
   "execution_count": null,
   "id": "87d64122",
   "metadata": {},
   "outputs": [],
   "source": []
  }
 ],
 "metadata": {
  "kernelspec": {
   "display_name": "Python 3 (ipykernel)",
   "language": "python",
   "name": "python3"
  },
  "language_info": {
   "codemirror_mode": {
    "name": "ipython",
    "version": 3
   },
   "file_extension": ".py",
   "mimetype": "text/x-python",
   "name": "python",
   "nbconvert_exporter": "python",
   "pygments_lexer": "ipython3",
   "version": "3.9.13"
  }
 },
 "nbformat": 4,
 "nbformat_minor": 5
}
