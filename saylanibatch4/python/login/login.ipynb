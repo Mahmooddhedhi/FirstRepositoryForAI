{
 "cells": [
  {
   "cell_type": "markdown",
   "id": "3a5b941b",
   "metadata": {},
   "source": [
    "# Assignment"
   ]
  },
  {
   "cell_type": "code",
   "execution_count": 12,
   "id": "32a1ab14",
   "metadata": {},
   "outputs": [
    {
     "name": "stdout",
     "output_type": "stream",
     "text": [
      "Enter usernamemehmood\n",
      "Enter your password279\n",
      "incorrect username and password\n"
     ]
    }
   ],
   "source": [
    "data = [{\"name\": \"John\",\"id\": 1,\"user\": \"john123\",\"password\": \"password123\",\"email\": \"john@example.com\",\"phone\": \"123-456-7890\"},\n",
    "         {\"name\": \"Sarah\",\"id\": 2,\"user\": \"sarah456\",\"password\": \"password456\",\"email\": \"sarah@example.com\",\"phone\": \"555-555-5555\"},\n",
    "         {\"name\": \"Mike\",\"id\": 3,\"user\": \"mike789\",\"password\": \"password789\",\"email\": \"mike@example.com\",\"phone\": \"555-123-4567\"}]\n",
    "\n",
    "username = input(\"Enter username\")\n",
    "password = input(\"Enter your password\")\n",
    "\n",
    "for d in data:\n",
    "    if d[\"user\"] == username and d[\"password\"] == password:\n",
    "        print(d)\n",
    "        break\n",
    "else:\n",
    "    print(\"incorrect username and password\")"
   ]
  },
  {
   "cell_type": "code",
   "execution_count": 16,
   "id": "08ce66d2",
   "metadata": {},
   "outputs": [
    {
     "name": "stdout",
     "output_type": "stream",
     "text": [
      "Enter usernamejohn123\n",
      "Enter your passwordpassword123\n",
      "{'name': 'John', 'id': 1, 'user': 'john123', 'password': 'password123', 'email': 'john@example.com', 'phone': '123-456-7890'}\n"
     ]
    }
   ],
   "source": [
    "data = [{\"name\": \"John\",\"id\": 1,\"user\": \"john123\",\"password\": \"password123\",\"email\": \"john@example.com\",\"phone\": \"123-456-7890\"},\n",
    "         {\"name\": \"Sarah\",\"id\": 2,\"user\": \"sarah456\",\"password\": \"password456\",\"email\": \"sarah@example.com\",\"phone\": \"555-555-5555\"},\n",
    "         {\"name\": \"Mike\",\"id\": 3,\"user\": \"mike789\",\"password\": \"password789\",\"email\": \"mike@example.com\",\"phone\": \"555-123-4567\"}]\n",
    "\n",
    "username = input(\"Enter username\")\n",
    "password = input(\"Enter your password\")\n",
    "\n",
    "for d in data:\n",
    "    if d[\"user\"] == username and d[\"password\"] == password:\n",
    "        print(d)\n",
    "        break\n",
    "        \n",
    "else:\n",
    "    print(\"incorrect username and password\")"
   ]
  },
  {
   "cell_type": "code",
   "execution_count": 17,
   "id": "ac8a2999",
   "metadata": {},
   "outputs": [
    {
     "name": "stdout",
     "output_type": "stream",
     "text": [
      "Enter  your nameSarah\n",
      "Enter your passwordpassword456\n",
      "{'name': 'Sarah', 'id': 2, 'user': 'sarah456', 'password': 'password456', 'email': 'sarah@example.com', 'phone': '555-555-5555'}\n"
     ]
    }
   ],
   "source": [
    "data = [{\"name\": \"John\",\"id\": 1,\"user\": \"john123\",\"password\": \"password123\",\"email\": \"john@example.com\",\"phone\": \"123-456-7890\"},\n",
    "         {\"name\": \"Sarah\",\"id\": 2,\"user\": \"sarah456\",\"password\": \"password456\",\"email\": \"sarah@example.com\",\"phone\": \"555-555-5555\"},\n",
    "         {\"name\": \"Mike\",\"id\": 3,\"user\": \"mike789\",\"password\": \"password789\",\"email\": \"mike@example.com\",\"phone\": \"555-123-4567\"}]\n",
    "\n",
    "username = input(\"Enter  your name\")\n",
    "password = input(\"Enter your password\")\n",
    "\n",
    "for d in data:\n",
    "    if d[\"name\"] == username and d[\"password\"] == password:\n",
    "        print(d)\n",
    "        break\n",
    "else:\n",
    "    print(\"incorrect username and password\")"
   ]
  },
  {
   "cell_type": "code",
   "execution_count": 20,
   "id": "b1792f0c",
   "metadata": {},
   "outputs": [
    {
     "name": "stdout",
     "output_type": "stream",
     "text": [
      "Enter  your phone number555-123-4567\n",
      "Enter your passwordpassword789\n",
      "{'name': 'Mike', 'id': 3, 'user': 'mike789', 'password': 'password789', 'email': 'mike@example.com', 'phone': '555-123-4567'}\n"
     ]
    }
   ],
   "source": [
    "data = [\n",
    "    {\n",
    "        \"name\": \"John\",\n",
    "        \"id\": 1,\n",
    "        \"user\": \"john123\",\n",
    "        \"password\": \"password123\",\n",
    "        \"email\": \"john@example.com\",\n",
    "        \"phone\": \"123-456-7890\"\n",
    "    },\n",
    "    {\n",
    "        \"name\": \"Sarah\",\n",
    "        \"id\": 2,\n",
    "        \"user\": \"sarah456\",\n",
    "        \"password\": \"password456\",\n",
    "        \"email\": \"sarah@example.com\",\n",
    "        \"phone\": \"555-555-5555\"\n",
    "    },\n",
    "    {\n",
    "        \"name\": \"Mike\",\n",
    "        \"id\": 3,\n",
    "        \"user\": \"mike789\",\n",
    "        \"password\": \"password789\",\n",
    "        \"email\": \"mike@example.com\",\n",
    "        \"phone\": \"555-123-4567\"\n",
    "    }\n",
    "]\n",
    "\n",
    "username = input(\"Enter  your phone number\")\n",
    "password = input(\"Enter your password\")\n",
    "\n",
    "for d in data:\n",
    "    if d[\"phone\"] == username and d[\"password\"] == password:\n",
    "        print(d)\n",
    "        break\n",
    "else:\n",
    "    print(\"incorrect phone number and password\")"
   ]
  },
  {
   "cell_type": "code",
   "execution_count": 21,
   "id": "68417cc8",
   "metadata": {},
   "outputs": [
    {
     "name": "stdout",
     "output_type": "stream",
     "text": [
      "Enter  your emailsarah@example.com\n",
      "Enter your passwordpassword456\n",
      "{'name': 'Sarah', 'id': 2, 'user': 'sarah456', 'password': 'password456', 'email': 'sarah@example.com', 'phone': '555-555-5555'}\n"
     ]
    }
   ],
   "source": [
    "data = [\n",
    "    {\n",
    "        \"name\": \"John\",\n",
    "        \"id\": 1,\n",
    "        \"user\": \"john123\",\n",
    "        \"password\": \"password123\",\n",
    "        \"email\": \"john@example.com\",\n",
    "        \"phone\": \"123-456-7890\"\n",
    "    },\n",
    "    {\n",
    "        \"name\": \"Sarah\",\n",
    "        \"id\": 2,\n",
    "        \"user\": \"sarah456\",\n",
    "        \"password\": \"password456\",\n",
    "        \"email\": \"sarah@example.com\",\n",
    "        \"phone\": \"555-555-5555\"\n",
    "    },\n",
    "    {\n",
    "        \"name\": \"Mike\",\n",
    "        \"id\": 3,\n",
    "        \"user\": \"mike789\",\n",
    "        \"password\": \"password789\",\n",
    "        \"email\": \"mike@example.com\",\n",
    "        \"phone\": \"555-123-4567\"\n",
    "    }\n",
    "]\n",
    " \n",
    "username = input(\"Enter  your email\")\n",
    "password = input(\"Enter your password\")\n",
    "\n",
    "for d in data:\n",
    "    if d[\"email\"] == username and d[\"password\"] == password:\n",
    "        print(d)\n",
    "        break\n",
    "else:\n",
    "    print(\"incorrect phone number and password\")"
   ]
  },
  {
   "cell_type": "code",
   "execution_count": 26,
   "id": "9071e0a5",
   "metadata": {},
   "outputs": [
    {
     "name": "stdout",
     "output_type": "stream",
     "text": [
      "Enter username, email or phone numbermike789\n",
      "Enter your passwordpassword789\n",
      "login successful\n"
     ]
    }
   ],
   "source": [
    "data = [{\"name\": \"John\",\"id\": 1,\"user\": \"john123\",\"password\": \"password123\",\"email\": \"john@example.com\",\"phone\": \"123-456-7890\"},\n",
    "         {\"name\": \"Sarah\",\"id\": 2,\"user\": \"sarah456\",\"password\": \"password456\",\"email\": \"sarah@example.com\",\"phone\": \"555-555-5555\"},\n",
    "         {\"name\": \"Mike\",\"id\": 3,\"user\": \"mike789\",\"password\": \"password789\",\"email\": \"mike@example.com\",\"phone\": \"555-123-4567\"}]\n",
    "\n",
    "username = input(\"Enter username, email or phone number\")\n",
    "password = input(\"Enter your password\")\n",
    "\n",
    "for d in data:\n",
    "    if username in [d[\"user\"], d[\"email\"], d[\"phone\"]]:\n",
    "            if password == d[\"password\"]:\n",
    "                print(\"login successful\")\n",
    "                break\n",
    "else:\n",
    "    print(\"incorrect username or password\")\n"
   ]
  },
  {
   "cell_type": "code",
   "execution_count": null,
   "id": "29da1795",
   "metadata": {},
   "outputs": [],
   "source": []
  }
 ],
 "metadata": {
  "kernelspec": {
   "display_name": "Python 3 (ipykernel)",
   "language": "python",
   "name": "python3"
  },
  "language_info": {
   "codemirror_mode": {
    "name": "ipython",
    "version": 3
   },
   "file_extension": ".py",
   "mimetype": "text/x-python",
   "name": "python",
   "nbconvert_exporter": "python",
   "pygments_lexer": "ipython3",
   "version": "3.9.13"
  }
 },
 "nbformat": 4,
 "nbformat_minor": 5
}
