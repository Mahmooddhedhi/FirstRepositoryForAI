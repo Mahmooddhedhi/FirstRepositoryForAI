{
 "cells": [
  {
   "cell_type": "markdown",
   "id": "cd52dafe",
   "metadata": {},
   "source": [
    "# Apply 45 strong class method or card variable in class 3"
   ]
  },
  {
   "cell_type": "code",
   "execution_count": 14,
   "id": "42383dd2",
   "metadata": {},
   "outputs": [
    {
     "name": "stdout",
     "output_type": "stream",
     "text": [
      "Institute Name: Saylani Mass IT Training\n",
      "Student Full name: Muhammad Mehmood Yaseen\n"
     ]
    }
   ],
   "source": [
    "first_name=\"Muhammad Mehmood\"\n",
    "last_name=\"Yaseen\"\n",
    "institute_name=\"Saylani Mass IT Training\"\n",
    "Age= 35\n",
    "\n",
    "card= \"Institute Name: \" + institute_name + \"\\nStudent Full name: \" + first_name + \" \"  + last_name\n",
    "print(card)"
   ]
  },
  {
   "cell_type": "code",
   "execution_count": 5,
   "id": "50d8ef7a",
   "metadata": {},
   "outputs": [
    {
     "ename": "NameError",
     "evalue": "name 'age' is not defined",
     "output_type": "error",
     "traceback": [
      "\u001b[1;31m---------------------------------------------------------------------------\u001b[0m",
      "\u001b[1;31mNameError\u001b[0m                                 Traceback (most recent call last)",
      "\u001b[1;32m~\\AppData\\Local\\Temp\\ipykernel_11384\\2768757192.py\u001b[0m in \u001b[0;36m<module>\u001b[1;34m\u001b[0m\n\u001b[0;32m      4\u001b[0m \u001b[0mAge\u001b[0m\u001b[1;33m=\u001b[0m \u001b[1;36m35\u001b[0m\u001b[1;33m\u001b[0m\u001b[1;33m\u001b[0m\u001b[0m\n\u001b[0;32m      5\u001b[0m \u001b[1;33m\u001b[0m\u001b[0m\n\u001b[1;32m----> 6\u001b[1;33m \u001b[0mcard\u001b[0m\u001b[1;33m=\u001b[0m \u001b[1;34m\"Institute Name: \"\u001b[0m \u001b[1;33m+\u001b[0m \u001b[0minstitute_name\u001b[0m \u001b[1;33m+\u001b[0m \u001b[1;34m\"\\nStudent Full Name: \"\u001b[0m \u001b[1;33m+\u001b[0m \u001b[0mfirst_name\u001b[0m \u001b[1;33m+\u001b[0m \u001b[1;34m\" \"\u001b[0m  \u001b[1;33m+\u001b[0m \u001b[0mlast_name\u001b[0m \u001b[1;33m+\u001b[0m \u001b[0mage\u001b[0m\u001b[1;33m\u001b[0m\u001b[1;33m\u001b[0m\u001b[0m\n\u001b[0m\u001b[0;32m      7\u001b[0m \u001b[0mprint\u001b[0m\u001b[1;33m(\u001b[0m\u001b[0mcard\u001b[0m\u001b[1;33m)\u001b[0m\u001b[1;33m\u001b[0m\u001b[1;33m\u001b[0m\u001b[0m\n",
      "\u001b[1;31mNameError\u001b[0m: name 'age' is not defined"
     ]
    }
   ],
   "source": [
    "first_name=\"Muhammad Mehmood\"\n",
    "last_name=\"Yaseen\"\n",
    "institute_name=\"Saylani Mass IT Training\"\n",
    "Age= 35\n",
    "\n",
    "card= \"Institute Name: \" + institute_name + \"\\nStudent Full Name: \" + first_name + \" \"  + last_name + age\n",
    "print(card)"
   ]
  },
  {
   "cell_type": "code",
   "execution_count": 6,
   "id": "d204af80",
   "metadata": {},
   "outputs": [
    {
     "name": "stdout",
     "output_type": "stream",
     "text": [
      "35 <class 'int'>\n",
      "35 <class 'str'>\n"
     ]
    }
   ],
   "source": [
    "age= 35\n",
    "print(age, type(age))\n",
    "\n",
    "age= str(age)\n",
    "print(age, type(age))"
   ]
  },
  {
   "cell_type": "code",
   "execution_count": 15,
   "id": "09466eb5",
   "metadata": {},
   "outputs": [
    {
     "name": "stdout",
     "output_type": "stream",
     "text": [
      "Institute Name: Saylani Mass IT Training\n",
      "Student Full Name: Muhammad Mehmood Yaseen\n",
      "Age: 35\n"
     ]
    }
   ],
   "source": [
    "first_name=\"Muhammad Mehmood\"\n",
    "last_name=\"Yaseen\"\n",
    "institute_name=\"Saylani Mass IT Training\"\n",
    "Age= 35\n",
    "\n",
    "card= \"Institute Name: \" + institute_name + \"\\nStudent Full Name: \" + first_name + \" \"  + last_name + \"\\nAge: \" + str(age)\n",
    "print(card)"
   ]
  },
  {
   "cell_type": "code",
   "execution_count": 93,
   "id": "6f82e880",
   "metadata": {},
   "outputs": [
    {
     "name": "stdout",
     "output_type": "stream",
     "text": [
      "0 capitalize\n",
      "1 casefold\n",
      "2 center\n",
      "3 count\n",
      "4 encode\n",
      "5 endswith\n",
      "6 expandtabs\n",
      "7 find\n",
      "8 format\n",
      "9 index\n",
      "10 isalnum\n",
      "11 isalpha\n",
      "12 isascii\n",
      "13 isdecimal\n",
      "14 isdigit\n",
      "15 isidentifier\n",
      "16 islower\n",
      "17 isnumeric\n",
      "18 isprintable\n",
      "19 isspace\n",
      "20 istitle\n",
      "21 isupper\n",
      "22 join\n",
      "23 ljust\n",
      "24 lower\n",
      "25 lstrip\n",
      "26 maketrans\n",
      "27 partition\n",
      "28 removeprefix\n",
      "29 removesuffix\n",
      "30 replace\n",
      "31 rfind\n",
      "32 rindex\n",
      "33 rjust\n",
      "34 rpartition\n",
      "35 rsplit\n",
      "36 rstrip\n",
      "37 split\n",
      "38 splitlines\n",
      "39 startswith\n",
      "40 strip\n",
      "41 swapcase\n",
      "42 title\n",
      "43 translate\n",
      "44 upper\n",
      "45 zfill\n"
     ]
    }
   ],
   "source": [
    "for idx, i in enumerate([i for i in dir(card) if \"_\" not in i]):\n",
    "    print(idx,i)"
   ]
  },
  {
   "cell_type": "markdown",
   "id": "1fff514b",
   "metadata": {},
   "source": [
    "# Python String capitalize()\n",
    "* The capitalize() method converts the first character of a string to an uppercase letter and all other alphabets to lowercase."
   ]
  },
  {
   "cell_type": "code",
   "execution_count": 57,
   "id": "68ba14c5",
   "metadata": {},
   "outputs": [
    {
     "name": "stdout",
     "output_type": "stream",
     "text": [
      "Institutë namë: saylani mass it training\n",
      "studënt full namë: muhammad qasim\n",
      "agë: 40\n",
      "\n"
     ]
    }
   ],
   "source": [
    "print(card.capitalize())"
   ]
  },
  {
   "cell_type": "markdown",
   "id": "792ce25d",
   "metadata": {},
   "source": [
    "# Python String casefold()\n",
    "* The casefold() method converts all characters of the string into lowercase letters and returns a new string.\n"
   ]
  },
  {
   "cell_type": "code",
   "execution_count": 58,
   "id": "d4cac41b",
   "metadata": {},
   "outputs": [
    {
     "name": "stdout",
     "output_type": "stream",
     "text": [
      "institutë namë: saylani mass it training\n",
      "studënt full namë: muhammad qasim\n",
      "agë: 40\n",
      "\n"
     ]
    }
   ],
   "source": [
    "print(card.casefold())"
   ]
  },
  {
   "cell_type": "code",
   "execution_count": 19,
   "id": "31d88530",
   "metadata": {},
   "outputs": [
    {
     "ename": "TypeError",
     "evalue": "The fill character must be a unicode character, not int",
     "output_type": "error",
     "traceback": [
      "\u001b[1;31m---------------------------------------------------------------------------\u001b[0m",
      "\u001b[1;31mTypeError\u001b[0m                                 Traceback (most recent call last)",
      "\u001b[1;32m~\\AppData\\Local\\Temp\\ipykernel_11384\\1317632612.py\u001b[0m in \u001b[0;36m<module>\u001b[1;34m\u001b[0m\n\u001b[1;32m----> 1\u001b[1;33m \u001b[0mprint\u001b[0m\u001b[1;33m(\u001b[0m\u001b[0mcard\u001b[0m\u001b[1;33m.\u001b[0m\u001b[0mcenter\u001b[0m\u001b[1;33m(\u001b[0m\u001b[1;36m20\u001b[0m\u001b[1;33m,\u001b[0m \u001b[1;36m0\u001b[0m\u001b[1;33m)\u001b[0m\u001b[1;33m)\u001b[0m\u001b[1;33m\u001b[0m\u001b[1;33m\u001b[0m\u001b[0m\n\u001b[0m",
      "\u001b[1;31mTypeError\u001b[0m: The fill character must be a unicode character, not int"
     ]
    }
   ],
   "source": [
    "print(card.center(20, 0))"
   ]
  },
  {
   "cell_type": "code",
   "execution_count": 33,
   "id": "be52d79a",
   "metadata": {},
   "outputs": [
    {
     "name": "stdout",
     "output_type": "stream",
     "text": [
      "Institute Name: Saylani Mass IT Training\n",
      "Student Full Name: Muhammad Qasim\n",
      "Age: 40\n",
      "\n"
     ]
    }
   ],
   "source": [
    "card=\"\"\"Institute Name: Saylani Mass IT Training\n",
    "Student Full Name: Muhammad Qasim\n",
    "Age: 40\n",
    "\"\"\"\n",
    "x= card.center(20)\n",
    "print(x)"
   ]
  },
  {
   "cell_type": "code",
   "execution_count": 34,
   "id": "64d41043",
   "metadata": {},
   "outputs": [
    {
     "name": "stdout",
     "output_type": "stream",
     "text": [
      "Institute Name: Saylani Mass IT Training\n",
      "Student Full Name Muhammad Mehmood Yaseen\n",
      "Age: 35\n"
     ]
    }
   ],
   "source": [
    "card=\"Institute Name: \" + institute_name + \"\\nStudent Full Name \" + first_name + \" \" + last_name + \"\\nAge: \" + str(age)\n",
    "x= card.center(20, \"O\")\n",
    "print(x)"
   ]
  },
  {
   "cell_type": "code",
   "execution_count": 28,
   "id": "bf8196ab",
   "metadata": {},
   "outputs": [
    {
     "name": "stdout",
     "output_type": "stream",
     "text": [
      "Institute Name: Saylani Mass IT Training\n",
      "Student Full Name Muhammad Mehmood Yaseen\n",
      "Age: 35\n"
     ]
    }
   ],
   "source": [
    "txt = \"Institute Name: \" + institute_name + \"\\nStudent Full Name \" + first_name + \" \" + last_name + \"\\nAge: \" + str(age)\n",
    "x= txt.center(20)\n",
    "print(x)"
   ]
  },
  {
   "cell_type": "code",
   "execution_count": 35,
   "id": "cdbfba09",
   "metadata": {},
   "outputs": [
    {
     "name": "stdout",
     "output_type": "stream",
     "text": [
      "Institute Name: Saylani Mass IT Training\n",
      "Student Full Name: Muhammad Qasim\n",
      "Age: 40\n",
      "\n"
     ]
    }
   ],
   "source": [
    "txt = \"\"\"Institute Name: Saylani Mass IT Training\n",
    "Student Full Name: Muhammad Qasim\n",
    "Age: 40\n",
    "\"\"\"\n",
    "x= txt.center(20, \"O\")\n",
    "print(x)"
   ]
  },
  {
   "cell_type": "markdown",
   "id": "9b296501",
   "metadata": {},
   "source": [
    "# Python String center() Method\n",
    "* The center() method will center align the string, using a specified character (space is default) as the fill character.\n"
   ]
  },
  {
   "cell_type": "code",
   "execution_count": 31,
   "id": "003ff989",
   "metadata": {},
   "outputs": [
    {
     "name": "stdout",
     "output_type": "stream",
     "text": [
      "       banana       \n"
     ]
    }
   ],
   "source": [
    "txt=\"banana\"\n",
    "x= txt.center(20)\n",
    "print(x)"
   ]
  },
  {
   "cell_type": "code",
   "execution_count": 32,
   "id": "2b12d9fb",
   "metadata": {},
   "outputs": [
    {
     "name": "stdout",
     "output_type": "stream",
     "text": [
      "OOOOOOObananaOOOOOOO\n"
     ]
    }
   ],
   "source": [
    "txt=\"banana\"\n",
    "x= txt.center(20,\"O\")\n",
    "print(x)"
   ]
  },
  {
   "cell_type": "markdown",
   "id": "61afd241",
   "metadata": {},
   "source": [
    "# Python String count() Method\n",
    "* The count() method returns the number of times a specified value appears in the string."
   ]
  },
  {
   "cell_type": "code",
   "execution_count": 37,
   "id": "90c97d15",
   "metadata": {},
   "outputs": [
    {
     "name": "stdout",
     "output_type": "stream",
     "text": [
      "Institute Name: Saylani Mass IT Training\n",
      "Student Full Name Muhammad Mehmood Yaseen\n",
      "Age: 35\n"
     ]
    },
    {
     "data": {
      "text/plain": [
       "1"
      ]
     },
     "execution_count": 37,
     "metadata": {},
     "output_type": "execute_result"
    }
   ],
   "source": [
    "print(card)\n",
    "card.count(\"Mehmood\")"
   ]
  },
  {
   "cell_type": "markdown",
   "id": "81da96e5",
   "metadata": {},
   "source": [
    "# Python String encode()\n",
    "* The encode() method encodes the string, using the specified encoding. If no encoding is specified, UTF-8 will be used.\n"
   ]
  },
  {
   "cell_type": "code",
   "execution_count": 38,
   "id": "06ea683e",
   "metadata": {},
   "outputs": [
    {
     "name": "stdout",
     "output_type": "stream",
     "text": [
      "old value Institute Name: Saylani Mass IT Training\n",
      "Student Full Name: Muhammad Qasim\n",
      "Age: 40\n",
      "\n",
      "Encoded Value b'Institute Name: Saylani Mass IT Training\\nStudent Full Name: Muhammad Qasim\\nAge: 40\\n'\n"
     ]
    }
   ],
   "source": [
    "card=\"\"\"Institute Name: Saylani Mass IT Training\n",
    "Student Full Name: Muhammad Qasim\n",
    "Age: 40\n",
    "\"\"\"\n",
    "encode=card.encode()\n",
    "print(\"old value\", card)\n",
    "print(\"Encoded Value\", encode)"
   ]
  },
  {
   "cell_type": "code",
   "execution_count": 40,
   "id": "534b6e2c",
   "metadata": {},
   "outputs": [
    {
     "name": "stdout",
     "output_type": "stream",
     "text": [
      "old value InstitutË NamË: Saylani Mass IT Training\n",
      "StudËnt Full NamË: Muhammad Qasim\n",
      "AgË: 40\n",
      "\n",
      "Encoded Value b'Institut\\xc3\\x8b Nam\\xc3\\x8b: Saylani Mass IT Training\\nStud\\xc3\\x8bnt Full Nam\\xc3\\x8b: Muhammad Qasim\\nAg\\xc3\\x8b: 40\\n'\n"
     ]
    }
   ],
   "source": [
    "card=\"\"\"InstitutË NamË: Saylani Mass IT Training\n",
    "StudËnt Full NamË: Muhammad Qasim\n",
    "AgË: 40\n",
    "\"\"\"\n",
    "encode=card.encode()\n",
    "print(\"old value\", card)\n",
    "print(\"Encoded Value\", encode)"
   ]
  },
  {
   "cell_type": "markdown",
   "id": "b9405404",
   "metadata": {},
   "source": [
    "# Python String Endswith()\n",
    "* The endswith() method returns True if the string ends with the specified value, otherwise False."
   ]
  },
  {
   "cell_type": "code",
   "execution_count": 51,
   "id": "e29dc7aa",
   "metadata": {},
   "outputs": [
    {
     "name": "stdout",
     "output_type": "stream",
     "text": [
      "False\n"
     ]
    }
   ],
   "source": [
    "card=\"\"\"InstitutË NamË: Saylani Mass IT Training\n",
    "StudËnt Full NamË: Muhammad Qasim.\n",
    "\"\"\"\n",
    "x= card.endswith(\" Muhammad Qasim.\")\n",
    "print(x)"
   ]
  },
  {
   "cell_type": "code",
   "execution_count": 45,
   "id": "4abf54ce",
   "metadata": {},
   "outputs": [
    {
     "name": "stdout",
     "output_type": "stream",
     "text": [
      "True\n"
     ]
    }
   ],
   "source": [
    "txt = \"Hello, welcome to my world.\"\n",
    "\n",
    "x = txt.endswith(\".\")\n",
    "\n",
    "print(x)"
   ]
  },
  {
   "cell_type": "markdown",
   "id": "82659bf0",
   "metadata": {},
   "source": [
    "# Python String expandtabs() Method\n",
    "* The expandtabs() method sets the tab size to the specified number of whitespaces."
   ]
  },
  {
   "cell_type": "code",
   "execution_count": 53,
   "id": "f989684a",
   "metadata": {},
   "outputs": [
    {
     "name": "stdout",
     "output_type": "stream",
     "text": [
      "InstitutË NamË: Saylani Mass IT Training\n",
      "StudËnt Full NamË: Muhammad Qasim\n",
      "AgË: 40\n",
      "\n"
     ]
    }
   ],
   "source": [
    "card=\"\"\"InstitutË NamË: Saylani Mass IT Training\n",
    "StudËnt Full NamË: Muhammad Qasim\n",
    "AgË: 40\n",
    "\"\"\"\n",
    "\n",
    "print(card.expandtabs(2))"
   ]
  },
  {
   "cell_type": "code",
   "execution_count": 54,
   "id": "5e89490b",
   "metadata": {},
   "outputs": [
    {
     "name": "stdout",
     "output_type": "stream",
     "text": [
      "H e l l o\n"
     ]
    }
   ],
   "source": [
    "txt = \"H\\te\\tl\\tl\\to\"\n",
    "\n",
    "x =  txt.expandtabs(2)\n",
    "\n",
    "print(x)"
   ]
  },
  {
   "cell_type": "code",
   "execution_count": 55,
   "id": "2f79c912",
   "metadata": {},
   "outputs": [
    {
     "name": "stdout",
     "output_type": "stream",
     "text": [
      "H\te\tl\tl\to\n",
      "H       e       l       l       o\n",
      "H e l l o\n",
      "H   e   l   l   o\n",
      "H         e         l         l         o\n"
     ]
    }
   ],
   "source": [
    "txt = \"H\\te\\tl\\tl\\to\"\n",
    "\n",
    "print(txt)\n",
    "print(txt.expandtabs())\n",
    "print(txt.expandtabs(2))\n",
    "print(txt.expandtabs(4))\n",
    "print(txt.expandtabs(10))"
   ]
  },
  {
   "cell_type": "markdown",
   "id": "5032a912",
   "metadata": {},
   "source": [
    "# string find () in Python\n",
    "* The find() method finds the first occurrence of the specified value. The find() method returns -1 if the value is not found "
   ]
  },
  {
   "cell_type": "code",
   "execution_count": 59,
   "id": "6611147d",
   "metadata": {},
   "outputs": [
    {
     "name": "stdout",
     "output_type": "stream",
     "text": [
      "60\n"
     ]
    }
   ],
   "source": [
    "card=\"\"\"InstitutË NamË: Saylani Mass IT Training\n",
    "StudËnt Full NamË: Muhammad Qasim\n",
    "AgË: 40\n",
    "\"\"\"\n",
    "x= card.find(\"Muhammad\")\n",
    "print(x)"
   ]
  },
  {
   "cell_type": "code",
   "execution_count": 60,
   "id": "1d0d5ce4",
   "metadata": {},
   "outputs": [
    {
     "name": "stdout",
     "output_type": "stream",
     "text": [
      "0\n"
     ]
    }
   ],
   "source": [
    "card=\"\"\"InstitutË NamË: Saylani Mass IT Training\n",
    "StudËnt Full NamË: Muhammad Qasim\n",
    "AgË: 40\n",
    "\"\"\"\n",
    "x= card.find(\"InstitutË\")\n",
    "print(x)"
   ]
  },
  {
   "cell_type": "markdown",
   "id": "34b51178",
   "metadata": {},
   "source": [
    "# Python String Format()\n",
    "* The format() method formats the specified value(s) and insert them inside the string's placeholder.The placeholder is defined   using curly brackets: {}.The format() method returns the formatted string."
   ]
  },
  {
   "cell_type": "code",
   "execution_count": 61,
   "id": "92481554",
   "metadata": {},
   "outputs": [
    {
     "name": "stdout",
     "output_type": "stream",
     "text": [
      "For only 49.00 dollars!\n"
     ]
    }
   ],
   "source": [
    "txt = \"For only {price:.2f} dollars!\"\n",
    "print(txt.format(price = 49))"
   ]
  },
  {
   "cell_type": "code",
   "execution_count": 64,
   "id": "ca3e0360",
   "metadata": {},
   "outputs": [
    {
     "name": "stdout",
     "output_type": "stream",
     "text": [
      "My name is John, I'm 36\n",
      "My name is John, I'm 36\n",
      "My name is John, I'm 36\n"
     ]
    }
   ],
   "source": [
    "txt1 = \"My name is {fname}, I'm {age}\".format(fname = \"John\", age = 36)\n",
    "txt2 = \"My name is {0}, I'm {1}\".format(\"John\",36)\n",
    "txt3 = \"My name is {}, I'm {}\".format(\"John\",36)\n",
    "print(txt1)\n",
    "print(txt2)\n",
    "print(txt3)"
   ]
  },
  {
   "cell_type": "markdown",
   "id": "92177f24",
   "metadata": {},
   "source": [
    "# Python String index()\n",
    "* The index() method returns the index of a substring inside the string (if found). If the substring is not found, it raises an exception."
   ]
  },
  {
   "cell_type": "code",
   "execution_count": 65,
   "id": "69a17e25",
   "metadata": {},
   "outputs": [
    {
     "name": "stdout",
     "output_type": "stream",
     "text": [
      "60\n"
     ]
    }
   ],
   "source": [
    "card=\"\"\"InstitutË NamË: Saylani Mass IT Training\n",
    "StudËnt Full NamË: Muhammad Qasim\n",
    "AgË: 40\n",
    "\"\"\"\n",
    "x= card.index(\"Muhammad\")\n",
    "print(x)"
   ]
  },
  {
   "cell_type": "markdown",
   "id": "117320d5",
   "metadata": {},
   "source": [
    "# Python string isalnum()\n",
    "* Python string isalnum() function returns True if it's made of alphanumeric characters only. A character is alphanumeric if it's either an alpha or a number. If the string is empty, then isalnum() returns False ."
   ]
  },
  {
   "cell_type": "code",
   "execution_count": 70,
   "id": "63872a19",
   "metadata": {},
   "outputs": [
    {
     "ename": "TypeError",
     "evalue": "str.isalnum() takes no arguments (1 given)",
     "output_type": "error",
     "traceback": [
      "\u001b[1;31m---------------------------------------------------------------------------\u001b[0m",
      "\u001b[1;31mTypeError\u001b[0m                                 Traceback (most recent call last)",
      "\u001b[1;32m~\\AppData\\Local\\Temp\\ipykernel_11384\\2383937725.py\u001b[0m in \u001b[0;36m<module>\u001b[1;34m\u001b[0m\n\u001b[0;32m      3\u001b[0m \u001b[0mAge40\u001b[0m\u001b[1;33m\u001b[0m\u001b[1;33m\u001b[0m\u001b[0m\n\u001b[0;32m      4\u001b[0m \"\"\"\n\u001b[1;32m----> 5\u001b[1;33m \u001b[0mx\u001b[0m\u001b[1;33m=\u001b[0m \u001b[0mcard\u001b[0m\u001b[1;33m.\u001b[0m\u001b[0misalnum\u001b[0m\u001b[1;33m(\u001b[0m\u001b[1;34m\"Age40\"\u001b[0m\u001b[1;33m)\u001b[0m\u001b[1;33m\u001b[0m\u001b[1;33m\u001b[0m\u001b[0m\n\u001b[0m\u001b[0;32m      6\u001b[0m \u001b[0mprint\u001b[0m\u001b[1;33m(\u001b[0m\u001b[0mx\u001b[0m\u001b[1;33m)\u001b[0m\u001b[1;33m\u001b[0m\u001b[1;33m\u001b[0m\u001b[0m\n",
      "\u001b[1;31mTypeError\u001b[0m: str.isalnum() takes no arguments (1 given)"
     ]
    }
   ],
   "source": [
    "card=\"\"\"InstitutË NamË: Saylani Mass IT Training\n",
    "StudËnt Full NamË: Muhammad Qasim\n",
    "Age40\n",
    "\"\"\"\n",
    "x= card.isalnum(\"Age40\")\n",
    "print(x)"
   ]
  },
  {
   "cell_type": "code",
   "execution_count": 72,
   "id": "eb81b080",
   "metadata": {},
   "outputs": [
    {
     "name": "stdout",
     "output_type": "stream",
     "text": [
      "True\n"
     ]
    }
   ],
   "source": [
    "txt= \"company12\"\n",
    "x=txt.isalnum()\n",
    "print(x)"
   ]
  },
  {
   "cell_type": "markdown",
   "id": "262695d1",
   "metadata": {},
   "source": [
    "# Python String isalpha() Method\n",
    "* The isalpha() method returns True if all the characters are alphabet letters (a-z). Example of characters that are not alphabet letters: (space)!#%&? etc."
   ]
  },
  {
   "cell_type": "code",
   "execution_count": 73,
   "id": "e8513b3a",
   "metadata": {},
   "outputs": [
    {
     "name": "stdout",
     "output_type": "stream",
     "text": [
      "True\n"
     ]
    }
   ],
   "source": [
    "txt = \"CompanyX\"\n",
    "\n",
    "x = txt.isalpha()\n",
    "\n",
    "print(x)"
   ]
  },
  {
   "cell_type": "code",
   "execution_count": 74,
   "id": "3a2b7663",
   "metadata": {},
   "outputs": [
    {
     "name": "stdout",
     "output_type": "stream",
     "text": [
      "False\n"
     ]
    }
   ],
   "source": [
    "txt = \"Company10\"\n",
    "\n",
    "x = txt.isalpha()\n",
    "\n",
    "print(x)"
   ]
  },
  {
   "cell_type": "markdown",
   "id": "c75e2063",
   "metadata": {},
   "source": [
    "# Python String isascii() Method\n",
    "* The isascii() method returns True if the string is empty or all characters in the string are ASCII. ASCII stands for American Standard Code for Information Interchange. It is a character endcoding standard that uses numbers from 0 to 127 to represent English characters."
   ]
  },
  {
   "cell_type": "code",
   "execution_count": 75,
   "id": "52c2fb4f",
   "metadata": {},
   "outputs": [
    {
     "name": "stdout",
     "output_type": "stream",
     "text": [
      "True\n"
     ]
    }
   ],
   "source": [
    "txt = \"Company123\"\n",
    "\n",
    "x = txt.isascii()\n",
    "\n",
    "print(x)"
   ]
  },
  {
   "cell_type": "code",
   "execution_count": 76,
   "id": "2cd92025",
   "metadata": {},
   "outputs": [
    {
     "name": "stdout",
     "output_type": "stream",
     "text": [
      "The input string is in ASCII =  True\n"
     ]
    }
   ],
   "source": [
    "string = \"ASCII\"\n",
    "\n",
    "res = string.isascii()\n",
    "\n",
    "print(\"The input string is in ASCII = \",res)"
   ]
  },
  {
   "cell_type": "markdown",
   "id": "74592f91",
   "metadata": {},
   "source": [
    "# Python String isdecimal()\n",
    "* The isdecimal() method returns True if all characters in a string are decimal characters. If not, it returns False.\n"
   ]
  },
  {
   "cell_type": "code",
   "execution_count": 77,
   "id": "82459e7c",
   "metadata": {},
   "outputs": [
    {
     "name": "stdout",
     "output_type": "stream",
     "text": [
      "True\n",
      "False\n",
      "False\n"
     ]
    }
   ],
   "source": [
    "s = \"12345\"\n",
    "print(s.isdecimal())\n",
    "  \n",
    "# contains alphabets\n",
    "s = \"12geeks34\"\n",
    "print(s.isdecimal())\n",
    "  \n",
    "# contains numbers and spaces\n",
    "s = \"12 34\"\n",
    "print(s.isdecimal())"
   ]
  },
  {
   "cell_type": "markdown",
   "id": "9f0abcd5",
   "metadata": {},
   "source": [
    "# Python String isdigit()\n",
    "* The isdigit() method returns True if all characters in a string are digits.\n"
   ]
  },
  {
   "cell_type": "code",
   "execution_count": 78,
   "id": "6aadb9a1",
   "metadata": {},
   "outputs": [
    {
     "name": "stdout",
     "output_type": "stream",
     "text": [
      "True\n"
     ]
    }
   ],
   "source": [
    "txt = \"50800\"\n",
    "\n",
    "x = txt.isdigit()\n",
    "\n",
    "print(x)"
   ]
  },
  {
   "cell_type": "code",
   "execution_count": 79,
   "id": "ad9b53e5",
   "metadata": {},
   "outputs": [
    {
     "name": "stdout",
     "output_type": "stream",
     "text": [
      "True\n",
      "False\n"
     ]
    }
   ],
   "source": [
    "# checking for digit\n",
    "string = '15460'\n",
    "print(string.isdigit())\n",
    "\n",
    "string = '154ayush60'\n",
    "print(string.isdigit())"
   ]
  },
  {
   "cell_type": "markdown",
   "id": "5a0ad28e",
   "metadata": {},
   "source": [
    "# Python String isidentifier() Method\n",
    "* The isidentifier() method returns True if the string is a valid identifier, otherwise False. A string is considered a valid identifier if it only contains alphanumeric letters (a-z) and (0-9), or underscores (_). A valid identifier cannot start with a number, or contain any spaces."
   ]
  },
  {
   "cell_type": "code",
   "execution_count": 80,
   "id": "8a4504ad",
   "metadata": {},
   "outputs": [
    {
     "name": "stdout",
     "output_type": "stream",
     "text": [
      "True\n"
     ]
    }
   ],
   "source": [
    "string = \"Coding_101\"\n",
    "print(string.isidentifier())"
   ]
  },
  {
   "cell_type": "code",
   "execution_count": 81,
   "id": "f1243f4b",
   "metadata": {},
   "outputs": [
    {
     "name": "stdout",
     "output_type": "stream",
     "text": [
      "False\n",
      "True\n",
      "False\n",
      "True\n",
      "False\n"
     ]
    }
   ],
   "source": [
    "# String with spaces\n",
    "string = \"Geeks for Geeks\"\n",
    "print(string.isidentifier())\n",
    " \n",
    "# A Perfect identifier\n",
    "string = \"GeeksforGeeks\"\n",
    "print(string.isidentifier())\n",
    " \n",
    "# Empty string\n",
    "string = \"\"\n",
    "print(string.isidentifier())\n",
    " \n",
    "# Alphanumerical string\n",
    "string = \"Geeks0for0Geeks\"\n",
    "print(string.isidentifier())\n",
    " \n",
    "# Beginning with an integer\n",
    "string = \"54Geeks0for0Geeks\"\n",
    "print(string.isidentifier())"
   ]
  },
  {
   "cell_type": "markdown",
   "id": "378790ef",
   "metadata": {},
   "source": [
    "# Python string Islower() Method\n",
    "* The islower() method returns True if all the characters are in lower case, otherwise False. Numbers, symbols and spaces are not checked, only alphabet characters.\n"
   ]
  },
  {
   "cell_type": "code",
   "execution_count": 82,
   "id": "e9973068",
   "metadata": {},
   "outputs": [
    {
     "name": "stdout",
     "output_type": "stream",
     "text": [
      "True\n"
     ]
    }
   ],
   "source": [
    "\n",
    "print(\"geeks\".islower())"
   ]
  },
  {
   "cell_type": "code",
   "execution_count": 83,
   "id": "4cdad04f",
   "metadata": {},
   "outputs": [
    {
     "name": "stdout",
     "output_type": "stream",
     "text": [
      "Is geeksforgeeks full lower ? : True\n",
      "Is Geeksforgeeks full lower ? : False\n"
     ]
    }
   ],
   "source": [
    "\n",
    "# initializing string\n",
    "islow_str = \"geeksforgeeks\"\n",
    "not_islow = \"Geeksforgeeks\"\n",
    " \n",
    "# checking which string is\n",
    "# completely lower\n",
    "print (\"Is\", islow_str, \"full lower ? : \" + str(islow_str.islower()))\n",
    "print (\"Is\", not_islow, \"full lower ? : \" + str(not_islow.islower()))"
   ]
  },
  {
   "cell_type": "markdown",
   "id": "93dbb730",
   "metadata": {},
   "source": [
    "# Python String isnumeric() Method\n",
    "* Python String isnumeric() method returns “True” if all characters in the string are numeric characters, otherwise returns “False”. \n"
   ]
  },
  {
   "cell_type": "code",
   "execution_count": 84,
   "id": "dfc691c7",
   "metadata": {},
   "outputs": [
    {
     "name": "stdout",
     "output_type": "stream",
     "text": [
      "True\n"
     ]
    }
   ],
   "source": [
    "print(\"1299\".isnumeric())\n"
   ]
  },
  {
   "cell_type": "code",
   "execution_count": 85,
   "id": "28728477",
   "metadata": {},
   "outputs": [
    {
     "name": "stdout",
     "output_type": "stream",
     "text": [
      "False\n",
      "True\n"
     ]
    }
   ],
   "source": [
    "string = '123ayu456'\n",
    "print(string.isnumeric())\n",
    "\n",
    "string = '123456'\n",
    "print( string.isnumeric())\n"
   ]
  },
  {
   "cell_type": "markdown",
   "id": "f1494967",
   "metadata": {},
   "source": [
    "# Python String isprintable() Method\n",
    "* Python String isprintable() is a built-in method used for string handling. The isprintable() method returns “True” if all characters in the string are printable or the string is empty, Otherwise, It returns “False”. This function is used to check if the argument contains any printable characters such as:\n",
    "\n",
    " * Digits ( 0123456789 )\n",
    " * Uppercase letters ( ABCDEFGHIJKLMNOPQRSTUVWXYZ )\n",
    " * Lowercase letters ( abcdefghijklmnopqrstuvwxyz )\n",
    " * Punctuation characters ( !”#$%&'()*+, -./:;?@[\\]^_`{ | }~ )\n",
    " *  Space( )"
   ]
  },
  {
   "cell_type": "code",
   "execution_count": 86,
   "id": "066b5a5a",
   "metadata": {},
   "outputs": [
    {
     "name": "stdout",
     "output_type": "stream",
     "text": [
      "True\n",
      "False\n",
      "True\n"
     ]
    }
   ],
   "source": [
    "# Python code for implementation of isprintable()\n",
    "\n",
    "# checking for printable characters\n",
    "string = 'My name is Mehmood'\n",
    "print(string.isprintable())\n",
    "\n",
    "# checking if \\n is a printable character\n",
    "string = 'My name is \\n Mehmood'\n",
    "print(string.isprintable())\n",
    "\n",
    "# checking if space is a printable character\n",
    "string = ''\n",
    "print( string.isprintable())\n"
   ]
  },
  {
   "cell_type": "markdown",
   "id": "62fecf0d",
   "metadata": {},
   "source": [
    "# Python String isspace() Method\n",
    "* Python String isspace() method returns “True” if all characters in the string are whitespace characters, Otherwise, It returns “False”. This function is used to check if the argument contains all whitespace characters, such as:\n",
    "\n",
    " * ‘ ‘ – Space\n",
    " * ‘\\t’ – Horizontal tab\n",
    " * ‘\\n’ – Newline\n",
    " * ‘\\v’ – Vertical tab\n",
    " * ‘\\f’ – Feed\n",
    " * ‘\\r’ – Carriage return"
   ]
  },
  {
   "cell_type": "code",
   "execution_count": 87,
   "id": "075a1066",
   "metadata": {},
   "outputs": [
    {
     "name": "stdout",
     "output_type": "stream",
     "text": [
      "False\n",
      "True\n",
      "False\n"
     ]
    }
   ],
   "source": [
    "# checking for whitespace characters\n",
    "string = 'Geeksforgeeks'\n",
    "\n",
    "print(string.isspace())\n",
    "\n",
    "# checking if \\n is a whitespace character\n",
    "string = '\\n \\n \\n'\n",
    "\n",
    "print(string.isspace())\n",
    "\n",
    "string = 'Geeks\\nfor\\ngeeks'\n",
    "print( string.isspace())\n"
   ]
  },
  {
   "cell_type": "markdown",
   "id": "dc7e06da",
   "metadata": {},
   "source": [
    "# Python String istitle() Method\n",
    "* Python String istitle() Method is a built-in string function that returns True if all the words in the string are title         cased, otherwise returns False."
   ]
  },
  {
   "cell_type": "code",
   "execution_count": 88,
   "id": "8a45d3d3",
   "metadata": {},
   "outputs": [
    {
     "name": "stdout",
     "output_type": "stream",
     "text": [
      "True\n"
     ]
    }
   ],
   "source": [
    "string = \"Geeks\"\n",
    "print(string.istitle())\n"
   ]
  },
  {
   "cell_type": "code",
   "execution_count": 89,
   "id": "72aad88d",
   "metadata": {},
   "outputs": [
    {
     "name": "stdout",
     "output_type": "stream",
     "text": [
      "True\n",
      "False\n",
      "False\n",
      "True\n",
      "False\n"
     ]
    }
   ],
   "source": [
    "# First character in each word is\n",
    "# uppercase and remaining lowercase\n",
    "s = 'Geeks For Geeks'\n",
    "print(s.istitle())\n",
    "\n",
    "# First character in first\n",
    "# word is lowercase\n",
    "s = 'geeks For Geeks'\n",
    "print(s.istitle())\n",
    "\n",
    "# Third word has uppercase\n",
    "# characters at middle\n",
    "s = 'Geeks For GEEKs'\n",
    "print(s.istitle())\n",
    "# Ignore the digit 6041, hence returns True\n",
    "s = '6041 Is My Number'\n",
    "print(s.istitle())\n",
    "\n",
    "# word has uppercase\n",
    "# characters at middle\n",
    "s = 'GEEKS'\n",
    "print(s.istitle())\n"
   ]
  },
  {
   "cell_type": "markdown",
   "id": "f0148440",
   "metadata": {},
   "source": [
    "# Python String isupper() method\n",
    "* Python String isupper() method returns whether all characters in a string are uppercase or not."
   ]
  },
  {
   "cell_type": "code",
   "execution_count": 90,
   "id": "987bda50",
   "metadata": {},
   "outputs": [
    {
     "name": "stdout",
     "output_type": "stream",
     "text": [
      "True\n"
     ]
    }
   ],
   "source": [
    "print((\"GEEKS\").isupper())\n"
   ]
  },
  {
   "cell_type": "code",
   "execution_count": 91,
   "id": "f1ac7cc2",
   "metadata": {},
   "outputs": [
    {
     "name": "stdout",
     "output_type": "stream",
     "text": [
      "Is GEEKSFORGEEKS full uppercase ? : True\n",
      "Is Geeksforgeeks full uppercase ? : False\n"
     ]
    }
   ],
   "source": [
    "# Python3 code to demonstrate\n",
    "# working of isupper()\n",
    "\n",
    "# initializing string\n",
    "isupp_str = \"GEEKSFORGEEKS\"\n",
    "not_isupp = \"Geeksforgeeks\"\n",
    "\n",
    "# Checking which string is\n",
    "# completely uppercase\n",
    "print (\"Is GEEKSFORGEEKS full uppercase ? : \" + str(isupp_str.isupper()))\n",
    "print (\"Is Geeksforgeeks full uppercase ? : \" + str(not_isupp.isupper()))\n"
   ]
  },
  {
   "cell_type": "markdown",
   "id": "87eca687",
   "metadata": {},
   "source": [
    "# Python String join() Method\n",
    "* join() is an inbuilt string function in Python used to join elements of the sequence separated by a string separator. This function joins elements of a sequence and makes it a string. \n",
    "\n"
   ]
  },
  {
   "cell_type": "code",
   "execution_count": 92,
   "id": "5ef6a2da",
   "metadata": {},
   "outputs": [
    {
     "name": "stdout",
     "output_type": "stream",
     "text": [
      "geeks\n",
      " $g$e$e$k$s$ \n"
     ]
    }
   ],
   "source": [
    "# Joining with empty separator\n",
    "list1 = ['g', 'e', 'e', 'k', 's']\n",
    "print(\"\".join(list1))\n",
    "\n",
    "# Joining with string\n",
    "list1 = \" geeks \"\n",
    "print(\"$\".join(list1))\n"
   ]
  },
  {
   "cell_type": "markdown",
   "id": "ce066e25",
   "metadata": {},
   "source": [
    "# Python String ljust() Method\n",
    "* Python String ljust() method left aligns the string according to the width specified and fills the remaining space of the line with blank space if ‘fillchr‘ argument is not passed.\n",
    "\n"
   ]
  },
  {
   "cell_type": "code",
   "execution_count": 94,
   "id": "2ae91d3b",
   "metadata": {},
   "outputs": [
    {
     "name": "stdout",
     "output_type": "stream",
     "text": [
      "geeks-----\n"
     ]
    }
   ],
   "source": [
    "string = \"geeks\"\n",
    "print(string.ljust(10, '-'))\n"
   ]
  },
  {
   "cell_type": "code",
   "execution_count": 95,
   "id": "b15d68e2",
   "metadata": {},
   "outputs": [
    {
     "name": "stdout",
     "output_type": "stream",
     "text": [
      "banana               is my favorite fruit.\n"
     ]
    }
   ],
   "source": [
    "txt = \"banana\"\n",
    "\n",
    "x = txt.ljust(20)\n",
    "\n",
    "print(x, \"is my favorite fruit.\")"
   ]
  },
  {
   "cell_type": "markdown",
   "id": "0ee6205b",
   "metadata": {},
   "source": [
    "# Python String lower() Method\n",
    "* The lower() method returns a string where all characters are lower case. Symbols and Numbers are ignored.\n"
   ]
  },
  {
   "cell_type": "code",
   "execution_count": 96,
   "id": "7b78fa44",
   "metadata": {},
   "outputs": [
    {
     "name": "stdout",
     "output_type": "stream",
     "text": [
      "hello my friends\n"
     ]
    }
   ],
   "source": [
    "txt = \"Hello my FRIENDS\"\n",
    "\n",
    "x = txt.lower()\n",
    "\n",
    "print(x)"
   ]
  },
  {
   "cell_type": "markdown",
   "id": "83c76072",
   "metadata": {},
   "source": [
    "# Python String IsTrip() Method\n",
    "* The strip() method removes any leading (spaces at the beginning) and trailing (spaces at the end) characters (space is the default leading character to remove)\n",
    "\n"
   ]
  },
  {
   "cell_type": "code",
   "execution_count": 97,
   "id": "0750fa82",
   "metadata": {},
   "outputs": [
    {
     "name": "stdout",
     "output_type": "stream",
     "text": [
      "of all fruits banana is my favorite\n"
     ]
    }
   ],
   "source": [
    "txt = \"     banana     \"\n",
    "\n",
    "x = txt.strip()\n",
    "\n",
    "print(\"of all fruits\", x, \"is my favorite\")"
   ]
  },
  {
   "cell_type": "markdown",
   "id": "e6061877",
   "metadata": {},
   "source": [
    "# python string maketrans function\n",
    "* The string maketrans() method returns a mapping table for translation usable for translate() method. In simple terms, maketrans() method is a static method that creates a one to one mapping of a character to its translation/replacement. It creates a Unicode representation of each character for translation.\n"
   ]
  },
  {
   "cell_type": "code",
   "execution_count": 98,
   "id": "d2467f9a",
   "metadata": {},
   "outputs": [
    {
     "name": "stdout",
     "output_type": "stream",
     "text": [
      "Hello Pam!\n"
     ]
    }
   ],
   "source": [
    "txt = \"Hello Sam!\"\n",
    "mytable = str.maketrans(\"S\", \"P\")\n",
    "print(txt.translate(mytable))"
   ]
  },
  {
   "cell_type": "markdown",
   "id": "01432b24",
   "metadata": {},
   "source": [
    "# Python String partition() Method\n",
    "* The partition() method searches for a specified string, and splits the string into a tuple containing three elements. The first element contains the part before the specified string. The second element contains the specified string. The third element contains the part after the string.\n"
   ]
  },
  {
   "cell_type": "code",
   "execution_count": 99,
   "id": "0cdf33d1",
   "metadata": {},
   "outputs": [
    {
     "name": "stdout",
     "output_type": "stream",
     "text": [
      "('I could eat bananas all day', '', '')\n"
     ]
    }
   ],
   "source": [
    "txt = \"I could eat bananas all day\"\n",
    "\n",
    "x = txt.partition(\"apples\")\n",
    "\n",
    "print(x)"
   ]
  },
  {
   "cell_type": "code",
   "execution_count": 100,
   "id": "5b5d128d",
   "metadata": {},
   "outputs": [
    {
     "name": "stdout",
     "output_type": "stream",
     "text": [
      "('I could eat ', 'bananas', ' all day')\n"
     ]
    }
   ],
   "source": [
    "txt = \"I could eat bananas all day\"\n",
    "\n",
    "x = txt.partition(\"bananas\")\n",
    "\n",
    "print(x)"
   ]
  },
  {
   "cell_type": "markdown",
   "id": "893e64a5",
   "metadata": {},
   "source": [
    "# python string removeprefix function\n",
    "* The method creates a new string from the original string by removing the prefix passed as an argument. Formally, returns string[len(prefix):] if the string starts with prefix , and string[:] otherwise.\n"
   ]
  },
  {
   "cell_type": "code",
   "execution_count": 101,
   "id": "ebf4ec6d",
   "metadata": {},
   "outputs": [
    {
     "name": "stdout",
     "output_type": "stream",
     "text": [
      "Geeks\n"
     ]
    }
   ],
   "source": [
    "new_string = 'GeeksforGeeks'.removeprefix(\"Geeksfor\")\n",
    "print(new_string)"
   ]
  },
  {
   "cell_type": "markdown",
   "id": "20dd14b4",
   "metadata": {},
   "source": [
    "# Python String removesuffix Function\n",
    "* removesuffix(substring: string) is a method which returns a new string with the trimmed suffix if the str ends with it else it will return the original string."
   ]
  },
  {
   "cell_type": "code",
   "execution_count": 102,
   "id": "ff45b772",
   "metadata": {},
   "outputs": [
    {
     "name": "stdout",
     "output_type": "stream",
     "text": [
      "Computer\n",
      "GeeksforGeeks\n"
     ]
    }
   ],
   "source": [
    "# Python 3.9 code explaining\n",
    "# str.removesuffix()\n",
    "\n",
    "# suffix exists\n",
    "print('ComputerScience'.removesuffix('Science'))\n",
    "\n",
    "# suffix doesn't exist\n",
    "print('GeeksforGeeks'.removesuffix('for'))\n"
   ]
  },
  {
   "cell_type": "markdown",
   "id": "fcb54700",
   "metadata": {},
   "source": [
    "# Python String replace() Method\n",
    "* The replace() method replaces a specified phrase with another specified phrase. Note: All occurrences of the specified phrase will be replaced, if nothing else is specified.\n"
   ]
  },
  {
   "cell_type": "code",
   "execution_count": 103,
   "id": "b3c162fc",
   "metadata": {},
   "outputs": [
    {
     "name": "stdout",
     "output_type": "stream",
     "text": [
      "grrks FOR grrks\n",
      "geeks FOR geeks\n"
     ]
    }
   ],
   "source": [
    "string = \"grrks FOR grrks\"\n",
    "\n",
    "# replace all instances of 'r' (old) with 'e' (new)\n",
    "new_string = string.replace(\"r\", \"e\" )\n",
    "\n",
    "print(string)\n",
    "print(new_string)\n"
   ]
  },
  {
   "cell_type": "markdown",
   "id": "9761ff1d",
   "metadata": {},
   "source": [
    "# Python String rfind() Mehtod\n",
    "* The rfind() method finds the last occurrence of the specified value. The rfind() method returns -1 if the value is not found. The rfind() method is almost the same as the rindex() method.\n"
   ]
  },
  {
   "cell_type": "code",
   "execution_count": 104,
   "id": "595d607f",
   "metadata": {},
   "outputs": [
    {
     "name": "stdout",
     "output_type": "stream",
     "text": [
      "12\n"
     ]
    }
   ],
   "source": [
    "txt = \"Mi casa, su casa.\"\n",
    "\n",
    "x = txt.rfind(\"casa\")\n",
    "\n",
    "print(x)"
   ]
  },
  {
   "cell_type": "code",
   "execution_count": 105,
   "id": "d0fd495e",
   "metadata": {},
   "outputs": [
    {
     "name": "stdout",
     "output_type": "stream",
     "text": [
      "8\n"
     ]
    }
   ],
   "source": [
    "string = \"GeeksForGeeks\"\n",
    "print(string.rfind(\"Geeks\"))\n"
   ]
  },
  {
   "cell_type": "markdown",
   "id": "ea758aa7",
   "metadata": {},
   "source": [
    "# Python String rindex() Method\n",
    "* The rindex() method finds the last occurrence of the specified value. The rindex() method raises an exception if the value is not found. The rindex() method is almost the same as the rfind() method.\n"
   ]
  },
  {
   "cell_type": "code",
   "execution_count": 106,
   "id": "c8a554e6",
   "metadata": {},
   "outputs": [
    {
     "name": "stdout",
     "output_type": "stream",
     "text": [
      "Substring 'geeks': 10\n"
     ]
    }
   ],
   "source": [
    "text = 'geeks for geeks'\n",
    "\n",
    "result = text.rindex('geeks')\n",
    "print(\"Substring 'geeks':\", result)\n"
   ]
  },
  {
   "cell_type": "markdown",
   "id": "d5e6503d",
   "metadata": {},
   "source": [
    "# Python String rjust()\n",
    "* Python rjust() is a built-in function that returns a right-justified string according to the width specified and fills the remaining spaces with blank spaces if the character argument is not passed. The rjust() function returns a new string of the specified length with the source string right-justified.\n"
   ]
  },
  {
   "cell_type": "code",
   "execution_count": 107,
   "id": "af2167fb",
   "metadata": {},
   "outputs": [
    {
     "name": "stdout",
     "output_type": "stream",
     "text": [
      "              banana is my favorite fruit.\n"
     ]
    }
   ],
   "source": [
    "txt = \"banana\"\n",
    "\n",
    "x = txt.rjust(20)\n",
    "\n",
    "print(x, \"is my favorite fruit.\")"
   ]
  },
  {
   "cell_type": "markdown",
   "id": "b40e9b0f",
   "metadata": {},
   "source": [
    "# Python String rpartition() Method\n",
    "* Python String rpartition() Method split the given string into three parts. rpartition() starts looking for separator from the right side, till the separator is found and return a tuple which contains part of the string before separator, the separator and the part after the separator.\n",
    "\n"
   ]
  },
  {
   "cell_type": "code",
   "execution_count": 108,
   "id": "603c7115",
   "metadata": {},
   "outputs": [
    {
     "name": "stdout",
     "output_type": "stream",
     "text": [
      "('Geeks@for@Geeks@is@for', '@', 'geeks')\n",
      "('Ram is not eating but Mohan ', 'is', ' eating')\n"
     ]
    }
   ],
   "source": [
    "# String need to split\n",
    "string1 = \"Geeks@for@Geeks@is@for@geeks\"\n",
    "\n",
    "string2 = \"Ram is not eating but Mohan is eating\"\n",
    "\n",
    "# Here '@' is a separator\n",
    "print(string1.rpartition('@'))\n",
    "\n",
    "# Here 'is' is separator\n",
    "print(string2.rpartition('is'))\n"
   ]
  },
  {
   "cell_type": "markdown",
   "id": "e0c81df1",
   "metadata": {},
   "source": [
    "# Python String rsplit() Method\n",
    "* Python String rsplit() method returns a list of strings after breaking the given string from the right side by the specified separator.\n",
    "\n"
   ]
  },
  {
   "cell_type": "code",
   "execution_count": 109,
   "id": "0e0c3374",
   "metadata": {},
   "outputs": [
    {
     "name": "stdout",
     "output_type": "stream",
     "text": [
      "['tic', 'tac', 'toe']\n"
     ]
    }
   ],
   "source": [
    "string = \"tic-tac-toe\"\n",
    "print(string.rsplit('-'))\n"
   ]
  },
  {
   "cell_type": "markdown",
   "id": "dd7425e0",
   "metadata": {},
   "source": [
    "# Python String rstrip() Method\n",
    "* Python String rstrip() method returns a copy of the string with trailing characters removed (based on the string argument passed). If no argument is passed, it removes trailing spaces.\n",
    "\n"
   ]
  },
  {
   "cell_type": "code",
   "execution_count": 110,
   "id": "c4391cde",
   "metadata": {},
   "outputs": [
    {
     "name": "stdout",
     "output_type": "stream",
     "text": [
      "geek\n"
     ]
    }
   ],
   "source": [
    "# string which is to be stripped\n",
    "string = \"geekssss\"\n",
    "print(string.rstrip('s'))\n"
   ]
  },
  {
   "cell_type": "markdown",
   "id": "22fa9714",
   "metadata": {},
   "source": [
    "# Python String | split()\n",
    "* Python String split() method in Python split a string into a list of strings after breaking the given string by the specified separator.\n",
    "\n"
   ]
  },
  {
   "cell_type": "code",
   "execution_count": 111,
   "id": "7094c81a",
   "metadata": {},
   "outputs": [
    {
     "name": "stdout",
     "output_type": "stream",
     "text": [
      "['one', 'two', 'three']\n"
     ]
    }
   ],
   "source": [
    "string = \"one,two,three\"\n",
    "words = string.split(',')\n",
    "print(words)\n"
   ]
  },
  {
   "cell_type": "markdown",
   "id": "6416f06d",
   "metadata": {},
   "source": [
    "# Python String splitlines() Method\n",
    "* Python String splitlines() method is used to split the lines at line boundaries. The function returns a list of lines in the string, including the line break(optional).\n",
    "\n"
   ]
  },
  {
   "cell_type": "code",
   "execution_count": 112,
   "id": "cbacfb32",
   "metadata": {},
   "outputs": [
    {
     "name": "stdout",
     "output_type": "stream",
     "text": [
      "['Welcome everyone to', 'the world of Geeks', 'GeeksforGeeks']\n",
      "['Welcome everyone to', 'the world of Geeks', 'GeeksforGeeks']\n",
      "['Welcome everyone to\\r', 'the world of Geeks\\n', 'GeeksforGeeks']\n"
     ]
    }
   ],
   "source": [
    "# Python code to illustrate splitlines()\n",
    "string = \"Welcome everyone to\\rthe world of Geeks\\nGeeksforGeeks\"\n",
    "\n",
    "# No parameters has been passed\n",
    "print (string.splitlines( ))\n",
    "\n",
    "# A specified number is passed\n",
    "print (string.splitlines(0))\n",
    "\n",
    "# True has been passed\n",
    "print (string.splitlines(True))\n"
   ]
  },
  {
   "cell_type": "markdown",
   "id": "4395d34b",
   "metadata": {},
   "source": [
    "# Python | String startswith()\n",
    "* Python String startswith() method returns True if a string starts with the specified prefix (string). If not, it returns False.\n",
    "\n"
   ]
  },
  {
   "cell_type": "code",
   "execution_count": 113,
   "id": "5352b815",
   "metadata": {},
   "outputs": [
    {
     "name": "stdout",
     "output_type": "stream",
     "text": [
      "True\n",
      "False\n"
     ]
    }
   ],
   "source": [
    "var = \"Geeks for Geeks\"\n",
    "\n",
    "print(var.startswith(\"Geeks\"))\n",
    "print(var.startswith(\"Hello\"))\n"
   ]
  },
  {
   "cell_type": "markdown",
   "id": "70cb0ff8",
   "metadata": {},
   "source": [
    "# Python string | strip()\n",
    "* Python String strip() is an inbuilt function in the Python programming language that returns a copy of the string with both leading and trailing characters removed (based on the string argument passed). \n",
    "\n"
   ]
  },
  {
   "cell_type": "code",
   "execution_count": 114,
   "id": "0de7d0f6",
   "metadata": {},
   "outputs": [
    {
     "name": "stdout",
     "output_type": "stream",
     "text": [
      " geeks for geeks \n",
      "geeks for geeks\n",
      "for\n"
     ]
    }
   ],
   "source": [
    "# Python3 program to demonstrate the use of\n",
    "# strip() method\n",
    "\n",
    "string = \"\"\" geeks for geeks \"\"\"\n",
    "\n",
    "# prints the string without stripping\n",
    "print(string)\n",
    "\n",
    "# prints the string by removing leading and trailing whitespaces\n",
    "print(string.strip())\n",
    "\n",
    "# prints the string by removing geeks\n",
    "print(string.strip(' geeks'))\n"
   ]
  },
  {
   "cell_type": "markdown",
   "id": "b30a7822",
   "metadata": {},
   "source": [
    "# Python string swapcase() Method\n",
    "* Python String swapcase() method converts all uppercase characters to lowercase and vice versa of the given string and returns it.\n",
    "\n"
   ]
  },
  {
   "cell_type": "code",
   "execution_count": 115,
   "id": "25f82975",
   "metadata": {},
   "outputs": [
    {
     "name": "stdout",
     "output_type": "stream",
     "text": [
      "GeeKSforGEEKS\n",
      "GEEKSFORGEEKS\n",
      "geeksforgeeks\n"
     ]
    }
   ],
   "source": [
    "# Python program to demonstrate the use of\n",
    "# swapcase() method\n",
    "\n",
    "string = \"gEEksFORgeeks\"\n",
    "\n",
    "# prints after swapping all cases\n",
    "print(string.swapcase())\n",
    "\n",
    "string = \"geeksforgeeks\"\n",
    "print(string.swapcase())\n",
    "\n",
    "string = \"GEEKSFORGEEKS\"\n",
    "print(string.swapcase())\n"
   ]
  },
  {
   "cell_type": "markdown",
   "id": "53df07fc",
   "metadata": {},
   "source": [
    "# Python String Title method\n",
    "* The String title() method in Python is used to convert the first character in each word to uppercase and the remaining characters to lowercase in the string and returns a new string.\n",
    "\n"
   ]
  },
  {
   "cell_type": "code",
   "execution_count": 116,
   "id": "e681821f",
   "metadata": {},
   "outputs": [
    {
     "name": "stdout",
     "output_type": "stream",
     "text": [
      "Geeks_For_Geeks\n"
     ]
    }
   ],
   "source": [
    "print(\"geeks_for_geeks\".title())\n"
   ]
  },
  {
   "cell_type": "markdown",
   "id": "564e3d88",
   "metadata": {},
   "source": [
    "# Python String translate() Method\n",
    "* Python String translate() returns a string that is a modified string of givens string according to given translation     mappings. \n",
    "\n",
    " * There are two ways to translate.\n",
    "\n",
    "   * Python String translate() with mapping as a dictionary\n",
    "   * Mapping using maketrans()"
   ]
  },
  {
   "cell_type": "code",
   "execution_count": 117,
   "id": "d1cf1571",
   "metadata": {},
   "outputs": [
    {
     "name": "stdout",
     "output_type": "stream",
     "text": [
      "The string before translating is : weeksyourweeks\n",
      "The string after translating is : geeksforgeeks\n"
     ]
    }
   ],
   "source": [
    "# Python3 code to demonstrate\n",
    "# translations without\n",
    "# maketrans()\n",
    "\n",
    "# specifying the mapping\n",
    "# using ASCII\n",
    "table = { 119 : 103, 121 : 102, 117 : None }\n",
    "\n",
    "# target string\n",
    "trg = \"weeksyourweeks\"\n",
    "\n",
    "# Printing original string\n",
    "print (\"The string before translating is : \", end =\"\")\n",
    "print (trg)\n",
    "\n",
    "# using translate() to make translations.\n",
    "print (\"The string after translating is : \", end =\"\")\n",
    "print (trg.translate(table))\n"
   ]
  },
  {
   "cell_type": "markdown",
   "id": "00a6fe63",
   "metadata": {},
   "source": [
    "# Python String upper()\n",
    "* Python String upper() method converts all lowercase characters in a string into uppercase characters and returns it.\n",
    "\n"
   ]
  },
  {
   "cell_type": "code",
   "execution_count": 118,
   "id": "8ad1925f",
   "metadata": {},
   "outputs": [
    {
     "name": "stdout",
     "output_type": "stream",
     "text": [
      "Original String:\n",
      "geeKs For geEkS\n",
      "\n",
      "Converted String:\n",
      "GEEKS FOR GEEKS\n"
     ]
    }
   ],
   "source": [
    "# Python3 program to show the\n",
    "# working of upper() function\n",
    "text = 'geeKs For geEkS'\n",
    "\n",
    "print(\"Original String:\")\n",
    "print(text)\n",
    "\n",
    "# upper() function to convert\n",
    "# string to upper_case\n",
    "print(\"\\nConverted String:\")\n",
    "print(text.upper())\n"
   ]
  },
  {
   "cell_type": "markdown",
   "id": "3b3ba1ca",
   "metadata": {},
   "source": [
    "# Python String zfill()\n",
    "* Python String zfill() method returns a copy of the string with ‘0’ characters padded to the left side of the given string.\n",
    "\n"
   ]
  },
  {
   "cell_type": "code",
   "execution_count": 119,
   "id": "16d69073",
   "metadata": {},
   "outputs": [
    {
     "name": "stdout",
     "output_type": "stream",
     "text": [
      "0000000000geeks for geeks\n",
      "00000geeks for geeks\n",
      "geeks for geeks\n"
     ]
    }
   ],
   "source": [
    "text = \"geeks for geeks\"\n",
    "\n",
    "print(text.zfill(25))\n",
    "\n",
    "print(text.zfill(20))\n",
    "\n",
    "# Given length is less than\n",
    "# the length od original string\n",
    "print(text.zfill(10))\n"
   ]
  },
  {
   "cell_type": "code",
   "execution_count": null,
   "id": "95bb6959",
   "metadata": {},
   "outputs": [],
   "source": []
  }
 ],
 "metadata": {
  "kernelspec": {
   "display_name": "Python 3 (ipykernel)",
   "language": "python",
   "name": "python3"
  },
  "language_info": {
   "codemirror_mode": {
    "name": "ipython",
    "version": 3
   },
   "file_extension": ".py",
   "mimetype": "text/x-python",
   "name": "python",
   "nbconvert_exporter": "python",
   "pygments_lexer": "ipython3",
   "version": "3.9.13"
  }
 },
 "nbformat": 4,
 "nbformat_minor": 5
}
