{
 "cells": [
  {
   "cell_type": "markdown",
   "id": "3070bb65",
   "metadata": {},
   "source": [
    "# Python Operators\n",
    "Operators are used to perform operations on variables and values.\n",
    "\n",
    "In the example below, we use the + operator to add together two values:"
   ]
  },
  {
   "cell_type": "code",
   "execution_count": 2,
   "id": "7ab40ea0",
   "metadata": {},
   "outputs": [
    {
     "name": "stdout",
     "output_type": "stream",
     "text": [
      "4\n",
      "9\n"
     ]
    }
   ],
   "source": [
    "# opand operator operation\n",
    "print( 2 + 2 ) # 4 addition operation\n",
    "print(2 + 7)"
   ]
  },
  {
   "cell_type": "code",
   "execution_count": 3,
   "id": "0d8da912",
   "metadata": {},
   "outputs": [
    {
     "name": "stdout",
     "output_type": "stream",
     "text": [
      "10\n"
     ]
    }
   ],
   "source": [
    "num1 = 7\n",
    "num2 = 3\n",
    "\n",
    "print(num1 + num2)"
   ]
  },
  {
   "cell_type": "code",
   "execution_count": 5,
   "id": "dffc5d65",
   "metadata": {},
   "outputs": [
    {
     "name": "stdout",
     "output_type": "stream",
     "text": [
      "11\n"
     ]
    }
   ],
   "source": [
    "num1 = \"1\"\n",
    "num2= \"1\"\n",
    "print(num1 + num2) # concatenate"
   ]
  },
  {
   "cell_type": "code",
   "execution_count": 7,
   "id": "0529fbd4",
   "metadata": {},
   "outputs": [
    {
     "name": "stdout",
     "output_type": "stream",
     "text": [
      "num1:<class 'str'> num2: <class 'int'>\n"
     ]
    },
    {
     "ename": "TypeError",
     "evalue": "can only concatenate str (not \"int\") to str",
     "output_type": "error",
     "traceback": [
      "\u001b[1;31m---------------------------------------------------------------------------\u001b[0m",
      "\u001b[1;31mTypeError\u001b[0m                                 Traceback (most recent call last)",
      "\u001b[1;32m~\\AppData\\Local\\Temp\\ipykernel_16084\\2104608632.py\u001b[0m in \u001b[0;36m<module>\u001b[1;34m\u001b[0m\n\u001b[0;32m      2\u001b[0m \u001b[0mnum2\u001b[0m\u001b[1;33m=\u001b[0m \u001b[1;36m2\u001b[0m\u001b[1;33m\u001b[0m\u001b[1;33m\u001b[0m\u001b[0m\n\u001b[0;32m      3\u001b[0m \u001b[0mprint\u001b[0m\u001b[1;33m(\u001b[0m\u001b[1;34mf\"num1:{type(num1)} num2: {type(num2)}\"\u001b[0m\u001b[1;33m)\u001b[0m\u001b[1;33m\u001b[0m\u001b[1;33m\u001b[0m\u001b[0m\n\u001b[1;32m----> 4\u001b[1;33m \u001b[0mprint\u001b[0m\u001b[1;33m(\u001b[0m\u001b[0mnum1\u001b[0m \u001b[1;33m+\u001b[0m \u001b[0mnum2\u001b[0m\u001b[1;33m)\u001b[0m\u001b[1;33m\u001b[0m\u001b[1;33m\u001b[0m\u001b[0m\n\u001b[0m",
      "\u001b[1;31mTypeError\u001b[0m: can only concatenate str (not \"int\") to str"
     ]
    }
   ],
   "source": [
    "num1 = \"1\"\n",
    "num2= 2\n",
    "print(f\"num1:{type(num1)} num2: {type(num2)}\")\n",
    "print(num1 + num2)"
   ]
  },
  {
   "cell_type": "code",
   "execution_count": 9,
   "id": "bc1408a3",
   "metadata": {},
   "outputs": [
    {
     "name": "stdout",
     "output_type": "stream",
     "text": [
      "num1:<class 'list'> num2: <class 'list'>\n",
      "['a', 'b', 'c', 1, 2, 3]\n"
     ]
    }
   ],
   "source": [
    "list1= ['a','b','c']\n",
    "list2= [1,2,3]\n",
    "print(f\"num1:{type(list1)} num2: {type(list2)}\")\n",
    "print(list1 + list2)"
   ]
  },
  {
   "cell_type": "markdown",
   "id": "7696c99e",
   "metadata": {},
   "source": [
    "# Python divides the operators in the following groups:\n",
    "\n",
    " * Arithmetic operators\n",
    " * Assignment operators\n",
    " * Comparison operators\n",
    " * Logical operators\n",
    " * Identity operators\n",
    " * Membership operators\n",
    " * Bitwise operators"
   ]
  },
  {
   "cell_type": "code",
   "execution_count": 13,
   "id": "cf7c5546",
   "metadata": {},
   "outputs": [
    {
     "name": "stdout",
     "output_type": "stream",
     "text": [
      "Operator\tName\tExample\tTry it\n",
      "+\tAddition\tx + y\t\n",
      "-\tSubtraction\tx - y\t\n",
      "*\tMultiplication\tx * y\t\n",
      "/\tDivision\tx / y\t\n",
      "%\tModulus\tx % y\t\n",
      "**\tExponentiation\tx ** y\t\n",
      "//\tFloor division\tx // y\t\n",
      "\n"
     ]
    }
   ],
   "source": [
    "x= \"\"\"Operator\tName\tExample\tTry it\n",
    "+\tAddition\tx + y\t\n",
    "-\tSubtraction\tx - y\t\n",
    "*\tMultiplication\tx * y\t\n",
    "/\tDivision\tx / y\t\n",
    "%\tModulus\tx % y\t\n",
    "**\tExponentiation\tx ** y\t\n",
    "//\tFloor division\tx // y\t\n",
    "\"\"\"\n",
    "print(x)"
   ]
  },
  {
   "cell_type": "code",
   "execution_count": 10,
   "id": "9b625757",
   "metadata": {},
   "outputs": [
    {
     "name": "stdout",
     "output_type": "stream",
     "text": [
      "12\n"
     ]
    }
   ],
   "source": [
    "x= 10\n",
    "y= 2\n",
    "print(x+y)"
   ]
  },
  {
   "cell_type": "code",
   "execution_count": 11,
   "id": "20a30b60",
   "metadata": {},
   "outputs": [
    {
     "name": "stdout",
     "output_type": "stream",
     "text": [
      "8\n"
     ]
    }
   ],
   "source": [
    "x= 10\n",
    "y= 2\n",
    "print(x-y)"
   ]
  },
  {
   "cell_type": "code",
   "execution_count": 12,
   "id": "8fd93e97",
   "metadata": {},
   "outputs": [
    {
     "name": "stdout",
     "output_type": "stream",
     "text": [
      "5.0\n"
     ]
    }
   ],
   "source": [
    "x= 10\n",
    "y= 2\n",
    "print(x/y)"
   ]
  },
  {
   "cell_type": "code",
   "execution_count": 15,
   "id": "8d53bb23",
   "metadata": {},
   "outputs": [
    {
     "name": "stdout",
     "output_type": "stream",
     "text": [
      "2\n"
     ]
    }
   ],
   "source": [
    "x= 11\n",
    "y= 3\n",
    "print(x%y)"
   ]
  },
  {
   "cell_type": "code",
   "execution_count": 16,
   "id": "41fd96ab",
   "metadata": {},
   "outputs": [
    {
     "name": "stdout",
     "output_type": "stream",
     "text": [
      "4\n",
      "8\n"
     ]
    }
   ],
   "source": [
    "x= 2\n",
    "y= 2\n",
    "print(x**y)\n",
    "print(2**3)"
   ]
  },
  {
   "cell_type": "code",
   "execution_count": 17,
   "id": "fb155b3e",
   "metadata": {},
   "outputs": [
    {
     "name": "stdout",
     "output_type": "stream",
     "text": [
      "2.5\n",
      "2\n",
      "1.8461538461538463\n",
      "1\n"
     ]
    }
   ],
   "source": [
    "print(5/2)\n",
    "print(5//2)\n",
    "print(24/13)\n",
    "print(24//13)"
   ]
  },
  {
   "cell_type": "markdown",
   "id": "faf76c62",
   "metadata": {},
   "source": [
    "# Python Assignment Operators\n",
    "   Assignment operators are used to assign values to variables:"
   ]
  },
  {
   "cell_type": "code",
   "execution_count": 18,
   "id": "cd08137a",
   "metadata": {},
   "outputs": [
    {
     "name": "stdout",
     "output_type": "stream",
     "text": [
      "5\n",
      "5\n"
     ]
    }
   ],
   "source": [
    "a=5\n",
    "print(a)\n",
    "print(a)"
   ]
  },
  {
   "cell_type": "code",
   "execution_count": 20,
   "id": "aca332da",
   "metadata": {},
   "outputs": [
    {
     "name": "stdout",
     "output_type": "stream",
     "text": [
      "5\n",
      "6\n",
      "7\n"
     ]
    }
   ],
   "source": [
    "a=5\n",
    "print(a)\n",
    "a= a+ 1\n",
    "print(a)\n",
    "a+=1\n",
    "print(a)"
   ]
  },
  {
   "cell_type": "code",
   "execution_count": 21,
   "id": "2210d2ba",
   "metadata": {},
   "outputs": [
    {
     "name": "stdout",
     "output_type": "stream",
     "text": [
      "1\n",
      "3\n",
      "5\n",
      "7\n"
     ]
    }
   ],
   "source": [
    "a= 1\n",
    "print(a)\n",
    "a=3\n",
    "print(a)\n",
    "a=5\n",
    "print(a)\n",
    "a=7\n",
    "print(a)"
   ]
  },
  {
   "cell_type": "code",
   "execution_count": 23,
   "id": "727c645e",
   "metadata": {},
   "outputs": [
    {
     "name": "stdout",
     "output_type": "stream",
     "text": [
      "10\n",
      "9\n",
      "8\n"
     ]
    }
   ],
   "source": [
    "a= 10\n",
    "print(a)\n",
    "a-=1\n",
    "print(a)\n",
    "a= a-1\n",
    "print(a)"
   ]
  },
  {
   "cell_type": "code",
   "execution_count": 24,
   "id": "b94e82f0",
   "metadata": {},
   "outputs": [
    {
     "name": "stdout",
     "output_type": "stream",
     "text": [
      "10\n",
      "100\n"
     ]
    }
   ],
   "source": [
    "a=10\n",
    "print(a)\n",
    "a**=2\n",
    "print(a)"
   ]
  },
  {
   "cell_type": "code",
   "execution_count": 25,
   "id": "0f894756",
   "metadata": {},
   "outputs": [
    {
     "data": {
      "text/plain": [
       "3"
      ]
     },
     "execution_count": 25,
     "metadata": {},
     "output_type": "execute_result"
    }
   ],
   "source": [
    "3 & 3"
   ]
  },
  {
   "cell_type": "code",
   "execution_count": 26,
   "id": "c81722ad",
   "metadata": {},
   "outputs": [
    {
     "name": "stdout",
     "output_type": "stream",
     "text": [
      "1\n"
     ]
    }
   ],
   "source": [
    "x=5\n",
    "x &=3\n",
    "print(x)"
   ]
  },
  {
   "cell_type": "code",
   "execution_count": 27,
   "id": "ea0b8cb4",
   "metadata": {},
   "outputs": [
    {
     "name": "stdout",
     "output_type": "stream",
     "text": [
      "64\n"
     ]
    }
   ],
   "source": [
    "x=65\n",
    "x= x & 66\n",
    "print(x)"
   ]
  },
  {
   "cell_type": "markdown",
   "id": "1dd8f1e1",
   "metadata": {},
   "source": [
    "# Python Comparison Operators\n",
    "Comparison operators are used to compare two values:\n",
    "\n"
   ]
  },
  {
   "cell_type": "code",
   "execution_count": 28,
   "id": "9705469a",
   "metadata": {},
   "outputs": [
    {
     "name": "stdout",
     "output_type": "stream",
     "text": [
      "True\n"
     ]
    }
   ],
   "source": [
    "a= 5\n",
    "b=5\n",
    "print(a==b)"
   ]
  },
  {
   "cell_type": "code",
   "execution_count": 29,
   "id": "0719ca0a",
   "metadata": {},
   "outputs": [
    {
     "name": "stdout",
     "output_type": "stream",
     "text": [
      "False\n"
     ]
    }
   ],
   "source": [
    "a= 5\n",
    "b=7\n",
    "print(a==b)"
   ]
  },
  {
   "cell_type": "code",
   "execution_count": 30,
   "id": "9b77a2d0",
   "metadata": {},
   "outputs": [
    {
     "name": "stdout",
     "output_type": "stream",
     "text": [
      "False\n"
     ]
    }
   ],
   "source": [
    "a= 5\n",
    "b=8\n",
    "print(a>b)"
   ]
  },
  {
   "cell_type": "code",
   "execution_count": 31,
   "id": "d31b5420",
   "metadata": {},
   "outputs": [
    {
     "name": "stdout",
     "output_type": "stream",
     "text": [
      "True\n"
     ]
    }
   ],
   "source": [
    "a= 5\n",
    "b=5\n",
    "print(a<=b)"
   ]
  },
  {
   "cell_type": "code",
   "execution_count": 32,
   "id": "27a5e372",
   "metadata": {},
   "outputs": [
    {
     "name": "stdout",
     "output_type": "stream",
     "text": [
      "True\n"
     ]
    }
   ],
   "source": [
    "a= 3\n",
    "b=5\n",
    "print(a<=b)"
   ]
  },
  {
   "cell_type": "code",
   "execution_count": 33,
   "id": "9642d8e4",
   "metadata": {},
   "outputs": [
    {
     "name": "stdout",
     "output_type": "stream",
     "text": [
      "False\n"
     ]
    }
   ],
   "source": [
    "a= 9\n",
    "b=5\n",
    "print(a<=b)"
   ]
  },
  {
   "cell_type": "code",
   "execution_count": 35,
   "id": "ac77679c",
   "metadata": {},
   "outputs": [
    {
     "name": "stdout",
     "output_type": "stream",
     "text": [
      "False\n"
     ]
    }
   ],
   "source": [
    "a=5\n",
    "b=5\n",
    "print(a!=b)"
   ]
  },
  {
   "cell_type": "code",
   "execution_count": 36,
   "id": "1667e7c6",
   "metadata": {},
   "outputs": [
    {
     "name": "stdout",
     "output_type": "stream",
     "text": [
      "True\n"
     ]
    }
   ],
   "source": [
    "a= \"qasim\"\n",
    "b= \"qasim\"\n",
    "print(a==b)"
   ]
  },
  {
   "cell_type": "code",
   "execution_count": 37,
   "id": "a5db6a06",
   "metadata": {},
   "outputs": [
    {
     "name": "stdout",
     "output_type": "stream",
     "text": [
      "False\n"
     ]
    }
   ],
   "source": [
    "a= \"qasim\"\n",
    "b= \"qasim\"\n",
    "print(a>b)"
   ]
  },
  {
   "cell_type": "code",
   "execution_count": 38,
   "id": "13af9e99",
   "metadata": {},
   "outputs": [
    {
     "data": {
      "text/plain": [
       "'A'"
      ]
     },
     "execution_count": 38,
     "metadata": {},
     "output_type": "execute_result"
    }
   ],
   "source": [
    "chr(65)"
   ]
  },
  {
   "cell_type": "code",
   "execution_count": 39,
   "id": "4a4c5c29",
   "metadata": {},
   "outputs": [
    {
     "data": {
      "text/plain": [
       "55"
      ]
     },
     "execution_count": 39,
     "metadata": {},
     "output_type": "execute_result"
    }
   ],
   "source": [
    "ord('7')"
   ]
  },
  {
   "cell_type": "code",
   "execution_count": 40,
   "id": "949dbcbf",
   "metadata": {},
   "outputs": [
    {
     "data": {
      "text/plain": [
       "109"
      ]
     },
     "execution_count": 40,
     "metadata": {},
     "output_type": "execute_result"
    }
   ],
   "source": [
    "ord('m')"
   ]
  },
  {
   "cell_type": "code",
   "execution_count": 41,
   "id": "9b2c77e8",
   "metadata": {},
   "outputs": [
    {
     "data": {
      "text/plain": [
       "77"
      ]
     },
     "execution_count": 41,
     "metadata": {},
     "output_type": "execute_result"
    }
   ],
   "source": [
    "ord('M')"
   ]
  },
  {
   "cell_type": "markdown",
   "id": "3bd1841e",
   "metadata": {},
   "source": [
    "# Python Logical Operators\n",
    "Logical operators are used to combine conditional statements:"
   ]
  },
  {
   "cell_type": "code",
   "execution_count": 43,
   "id": "39cee6a0",
   "metadata": {},
   "outputs": [
    {
     "name": "stdout",
     "output_type": "stream",
     "text": [
      "True\n",
      "False\n",
      "False\n",
      "False\n",
      "False\n"
     ]
    }
   ],
   "source": [
    "print(True and True and True and True)\n",
    "print(True and True and False and True)\n",
    "print(False and True and True and False)\n",
    "print(False and False and False and True)\n",
    "print(False and False and False and False)"
   ]
  },
  {
   "cell_type": "code",
   "execution_count": 44,
   "id": "5c66d4e1",
   "metadata": {},
   "outputs": [
    {
     "name": "stdout",
     "output_type": "stream",
     "text": [
      "True\n",
      "True\n",
      "True\n",
      "True\n",
      "False\n"
     ]
    }
   ],
   "source": [
    "print(True or True or True or True)\n",
    "print(True or True or False or True)\n",
    "print(False or True or True or False)\n",
    "print(False or False or False or True)\n",
    "print(False or False or False or False)"
   ]
  },
  {
   "cell_type": "code",
   "execution_count": 45,
   "id": "6df98de0",
   "metadata": {},
   "outputs": [
    {
     "data": {
      "text/plain": [
       "False"
      ]
     },
     "execution_count": 45,
     "metadata": {},
     "output_type": "execute_result"
    }
   ],
   "source": [
    "not True"
   ]
  },
  {
   "cell_type": "code",
   "execution_count": 46,
   "id": "830c1e7b",
   "metadata": {},
   "outputs": [
    {
     "data": {
      "text/plain": [
       "True"
      ]
     },
     "execution_count": 46,
     "metadata": {},
     "output_type": "execute_result"
    }
   ],
   "source": [
    "not False"
   ]
  },
  {
   "cell_type": "code",
   "execution_count": 48,
   "id": "f835bc74",
   "metadata": {},
   "outputs": [
    {
     "name": "stdout",
     "output_type": "stream",
     "text": [
      "enter your passwordMehmood\n",
      "False\n",
      "True\n",
      "False\n",
      "True\n",
      "Mehmood\n"
     ]
    }
   ],
   "source": [
    "password= input(\"enter your password\")\n",
    "print(password=='abc')\n",
    "print( not password=='abc')\n",
    "print(not True)\n",
    "print(not False)\n",
    "print(password)"
   ]
  },
  {
   "cell_type": "markdown",
   "id": "9406fbdb",
   "metadata": {},
   "source": [
    "# Python Identity Operators\n",
    "Identity operators are used to compare the objects, not if they are equal, but if they are actually the same object, with the same memory location:"
   ]
  },
  {
   "cell_type": "markdown",
   "id": "f0b7f1e1",
   "metadata": {},
   "source": [
    "# Shallow Copy"
   ]
  },
  {
   "cell_type": "code",
   "execution_count": 50,
   "id": "61220cbc",
   "metadata": {},
   "outputs": [
    {
     "name": "stdout",
     "output_type": "stream",
     "text": [
      "2193042336176 2193042336176 2193042336176\n",
      "5\n",
      "5\n",
      "5\n"
     ]
    }
   ],
   "source": [
    "a= 5\n",
    "b=5\n",
    "c=5\n",
    "print(id(a), id(b), id(c))\n",
    "print(a)\n",
    "print(b)\n",
    "print(c)"
   ]
  },
  {
   "cell_type": "code",
   "execution_count": 51,
   "id": "15c01f81",
   "metadata": {},
   "outputs": [
    {
     "name": "stdout",
     "output_type": "stream",
     "text": [
      "2193042336176 2193048114800\n"
     ]
    }
   ],
   "source": [
    "a=5\n",
    "b='5'\n",
    "print(id(a), id(b))"
   ]
  },
  {
   "cell_type": "markdown",
   "id": "df198c0a",
   "metadata": {},
   "source": [
    "# Deep Copy"
   ]
  },
  {
   "cell_type": "code",
   "execution_count": 53,
   "id": "5043400c",
   "metadata": {},
   "outputs": [
    {
     "name": "stdout",
     "output_type": "stream",
     "text": [
      "['Mehmood'] ['Mehmood']\n",
      "2193125822208 2193125801024\n",
      "True\n",
      "False\n"
     ]
    }
   ],
   "source": [
    "saylani= [\"Mehmood\"]\n",
    "student= saylani.copy()\n",
    "print(saylani, student)\n",
    "print(id(saylani), id(student))\n",
    "print(saylani==student)\n",
    "print(saylani is student)"
   ]
  },
  {
   "cell_type": "code",
   "execution_count": 54,
   "id": "c48fa773",
   "metadata": {},
   "outputs": [
    {
     "name": "stdout",
     "output_type": "stream",
     "text": [
      "['Mehmood'] ['Mehmood']\n",
      "2193125844352 2193126683712\n",
      "True\n",
      "True\n"
     ]
    }
   ],
   "source": [
    "saylani= [\"Mehmood\"]\n",
    "student= saylani.copy()\n",
    "\n",
    "\n",
    "print(saylani, student)\n",
    "print(id(saylani), id(student))\n",
    "print(saylani==student)\n",
    "print(saylani is not student)"
   ]
  },
  {
   "cell_type": "markdown",
   "id": "7cfe99d6",
   "metadata": {},
   "source": [
    "# Python Membership Operators\n",
    "* Membership operators are used to test if a sequence is presented in an object:"
   ]
  },
  {
   "cell_type": "code",
   "execution_count": 55,
   "id": "276e90ee",
   "metadata": {},
   "outputs": [
    {
     "name": "stdout",
     "output_type": "stream",
     "text": [
      "True\n",
      "False\n",
      "False\n"
     ]
    }
   ],
   "source": [
    "message = \"pakistan zinda bad we love our country!\"\n",
    "\n",
    "print('zinda' in message)\n",
    "print('Zinda' in message)\n",
    "print(\"Qasim\" in message)"
   ]
  },
  {
   "cell_type": "code",
   "execution_count": 56,
   "id": "6790d8b6",
   "metadata": {},
   "outputs": [
    {
     "name": "stdout",
     "output_type": "stream",
     "text": [
      "True\n",
      "False\n"
     ]
    }
   ],
   "source": [
    "names = ['Qasim','Hamza','Junaid',\"Yasir\"]\n",
    "\n",
    "print('Hamza' in names)\n",
    "print(\"Asif\" in names)"
   ]
  },
  {
   "cell_type": "code",
   "execution_count": 57,
   "id": "8ae7384b",
   "metadata": {},
   "outputs": [
    {
     "data": {
      "text/plain": [
       "False"
      ]
     },
     "execution_count": 57,
     "metadata": {},
     "output_type": "execute_result"
    }
   ],
   "source": [
    "names = ['Qasim','Hamza','Junaid',\"Yasir\"]\n",
    "'Qasim' not in names"
   ]
  },
  {
   "cell_type": "code",
   "execution_count": null,
   "id": "35c27c7f",
   "metadata": {},
   "outputs": [],
   "source": []
  }
 ],
 "metadata": {
  "kernelspec": {
   "display_name": "Python 3 (ipykernel)",
   "language": "python",
   "name": "python3"
  },
  "language_info": {
   "codemirror_mode": {
    "name": "ipython",
    "version": 3
   },
   "file_extension": ".py",
   "mimetype": "text/x-python",
   "name": "python",
   "nbconvert_exporter": "python",
   "pygments_lexer": "ipython3",
   "version": "3.9.13"
  }
 },
 "nbformat": 4,
 "nbformat_minor": 5
}
