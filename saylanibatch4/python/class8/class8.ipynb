{
 "cells": [
  {
   "cell_type": "markdown",
   "id": "63db604e",
   "metadata": {},
   "source": [
    "# Function\n",
    "* Pre-define/user-define\n",
    " ### sets of statments and expression are called function, decresed the repeation of code\"\n",
    "\n",
    " \n",
    " * Return function\n",
    " * Non-Return function\n",
    " * defualt funtion\n",
    " * required arguments function\n",
    " * required/optional arguments function\n",
    " * lambda function\n",
    " * recursive function\n",
    " * generator function\n",
    " \n",
    "* Function components\n",
    " * Function declaration/function signature\n",
    "   * `def function_name(arg1_variable,arg2_variable,...): `\n",
    " * function body\n",
    " * function call\n",
    "   * ` function_name(arg1_value,arg2_value,..) `\n",
    "   * ` function_name() `"
   ]
  },
  {
   "cell_type": "code",
   "execution_count": 1,
   "id": "ccfd035f",
   "metadata": {},
   "outputs": [
    {
     "name": "stdout",
     "output_type": "stream",
     "text": [
      "we love our country\n",
      "my country name is Pakistan\n",
      "Pakistan Zinda Bad\n"
     ]
    }
   ],
   "source": [
    "print(\"we love our country\")\n",
    "print(\"my country name is Pakistan\")\n",
    "print(\"Pakistan Zinda Bad\")"
   ]
  },
  {
   "cell_type": "code",
   "execution_count": 12,
   "id": "d22ae49e",
   "metadata": {},
   "outputs": [
    {
     "name": "stdout",
     "output_type": "stream",
     "text": [
      "we love our country\n",
      "my country name is Pakistan\n",
      "Pakistan Zinda Bad\n"
     ]
    }
   ],
   "source": [
    "print(\"we love our country\")\n",
    "print(\"my country name is Pakistan\")\n",
    "print(\"Pakistan Zinda Bad\")"
   ]
  },
  {
   "cell_type": "markdown",
   "id": "f64ba76b",
   "metadata": {},
   "source": [
    "# Default Function\n",
    "* not required any argument when it will call"
   ]
  },
  {
   "cell_type": "code",
   "execution_count": 13,
   "id": "5ec7ff04",
   "metadata": {},
   "outputs": [],
   "source": [
    "def country_message():\n",
    "    print(\"we love our country\")\n",
    "    print(\"my country name is Pakistan\")\n",
    "    print(\"Pakistan Zinda Bad\")"
   ]
  },
  {
   "cell_type": "code",
   "execution_count": 14,
   "id": "c3c41f7f",
   "metadata": {},
   "outputs": [
    {
     "name": "stdout",
     "output_type": "stream",
     "text": [
      "we love our country\n",
      "my country name is Pakistan\n",
      "Pakistan Zinda Bad\n",
      "we love our country\n",
      "my country name is Pakistan\n",
      "Pakistan Zinda Bad\n",
      "we love our country\n",
      "my country name is Pakistan\n",
      "Pakistan Zinda Bad\n"
     ]
    }
   ],
   "source": [
    "country_message()\n",
    "country_message()\n",
    "country_message()"
   ]
  },
  {
   "cell_type": "code",
   "execution_count": 15,
   "id": "1eb25049",
   "metadata": {},
   "outputs": [
    {
     "name": "stdout",
     "output_type": "stream",
     "text": [
      "we love our country\n",
      "my country name is America\n",
      "America Zinda Bad\n",
      "we love our country\n",
      "my country name is America\n",
      "America Zinda Bad\n"
     ]
    }
   ],
   "source": [
    "def country_message():\n",
    "    print(\"we love our country\")\n",
    "    print(\"my country name is America\")\n",
    "    print(\"America Zinda Bad\")\n",
    "    \n",
    "country_message()\n",
    "country_message()"
   ]
  },
  {
   "cell_type": "markdown",
   "id": "eaaddb55",
   "metadata": {},
   "source": [
    "# Create required parameter function"
   ]
  },
  {
   "cell_type": "code",
   "execution_count": 16,
   "id": "9c3a8d2c",
   "metadata": {},
   "outputs": [],
   "source": [
    "def any_country(country_name):\n",
    "    print(\"we love our country\")\n",
    "    print(f\"My country name is {country_name}\")\n",
    "    print(f\"{country_name} zinda bad\")"
   ]
  },
  {
   "cell_type": "code",
   "execution_count": 17,
   "id": "c73badda",
   "metadata": {},
   "outputs": [
    {
     "name": "stdout",
     "output_type": "stream",
     "text": [
      "we love our country\n",
      "My country name is Pakistan\n",
      "Pakistan zinda bad\n"
     ]
    }
   ],
   "source": [
    "any_country(\"Pakistan\")"
   ]
  },
  {
   "cell_type": "code",
   "execution_count": 18,
   "id": "b696be28",
   "metadata": {},
   "outputs": [
    {
     "name": "stdout",
     "output_type": "stream",
     "text": [
      "we love our country\n",
      "My country name is China\n",
      "China zinda bad\n"
     ]
    }
   ],
   "source": [
    "any_country(\"China\")"
   ]
  },
  {
   "cell_type": "code",
   "execution_count": 19,
   "id": "b114535c",
   "metadata": {},
   "outputs": [
    {
     "name": "stdout",
     "output_type": "stream",
     "text": [
      "we love our country\n",
      "My country name is USA\n",
      "USA zinda bad\n"
     ]
    }
   ],
   "source": [
    "any_country(\"USA\")"
   ]
  },
  {
   "cell_type": "markdown",
   "id": "dcc633c8",
   "metadata": {},
   "source": [
    "# Return and Non-return Function\n",
    "\n",
    "### Non-Return Function"
   ]
  },
  {
   "cell_type": "code",
   "execution_count": 20,
   "id": "c3084407",
   "metadata": {},
   "outputs": [
    {
     "name": "stdout",
     "output_type": "stream",
     "text": [
      "we love our country\n",
      "My country name is Pakistan\n",
      "Pakistan zinda bad\n",
      "variable of a =  None\n"
     ]
    }
   ],
   "source": [
    "def any_country(country_name):\n",
    "    print(\"we love our country\")\n",
    "    print(f\"My country name is {country_name}\")\n",
    "    print(f\"{country_name} zinda bad\")\n",
    "    \n",
    "a = any_country(\"Pakistan\")\n",
    "print(\"variable of a = \", a)"
   ]
  },
  {
   "cell_type": "markdown",
   "id": "83a9a71f",
   "metadata": {},
   "source": [
    "# Return Function"
   ]
  },
  {
   "cell_type": "code",
   "execution_count": 24,
   "id": "9285f4dd",
   "metadata": {},
   "outputs": [],
   "source": [
    "def any_country(country_name):\n",
    "    result= f\"\"\"\n",
    "    we love our country\n",
    "    My country name is {country_name}\n",
    "    {country_name} zinda bad\n",
    "    \"\"\"\n",
    "    return result\n",
    "\n",
    "a = any_country(\"Pakistan\")\n",
    "b = any_country(\"Japan\")\n",
    "c = any_country(\"USA\")\n",
    "d = any_country(\"India\")"
   ]
  },
  {
   "cell_type": "code",
   "execution_count": 25,
   "id": "05bf6e86",
   "metadata": {},
   "outputs": [
    {
     "name": "stdout",
     "output_type": "stream",
     "text": [
      "\n",
      "    we love our country\n",
      "    My country name is Pakistan\n",
      "    Pakistan zinda bad\n",
      "    \n",
      "\n",
      "    we love our country\n",
      "    My country name is Japan\n",
      "    Japan zinda bad\n",
      "    \n",
      "\n",
      "    we love our country\n",
      "    My country name is USA\n",
      "    USA zinda bad\n",
      "    \n",
      "\n",
      "    we love our country\n",
      "    My country name is India\n",
      "    India zinda bad\n",
      "    \n"
     ]
    }
   ],
   "source": [
    "print(a)\n",
    "print(b)\n",
    "print(c)\n",
    "print(d)"
   ]
  },
  {
   "cell_type": "code",
   "execution_count": 26,
   "id": "578461e2",
   "metadata": {},
   "outputs": [
    {
     "data": {
      "text/plain": [
       "'\\n    we love our country\\n    My country name is Oman\\n    Oman zinda bad\\n    '"
      ]
     },
     "execution_count": 26,
     "metadata": {},
     "output_type": "execute_result"
    }
   ],
   "source": [
    "a = any_country(\"Pakistan\")\n",
    "b = any_country(\"Japan\")\n",
    "c = any_country(\"USA\")\n",
    "d = any_country(\"India\")\n",
    "any_country(\"Oman\")"
   ]
  },
  {
   "cell_type": "code",
   "execution_count": 27,
   "id": "c36be8e6",
   "metadata": {},
   "outputs": [
    {
     "name": "stdout",
     "output_type": "stream",
     "text": [
      "\n",
      "    we love our country\n",
      "    My country name is Pakistan\n",
      "    Pakistan zinda bad\n",
      "    \n"
     ]
    }
   ],
   "source": [
    "print(any_country(\"Pakistan\"))"
   ]
  },
  {
   "cell_type": "code",
   "execution_count": 29,
   "id": "e770c2e6",
   "metadata": {},
   "outputs": [
    {
     "name": "stdout",
     "output_type": "stream",
     "text": [
      "84\n"
     ]
    }
   ],
   "source": [
    "print(len(any_country(\"Pakistan\")))"
   ]
  },
  {
   "cell_type": "code",
   "execution_count": 32,
   "id": "6487bf46",
   "metadata": {},
   "outputs": [
    {
     "name": "stdout",
     "output_type": "stream",
     "text": [
      "Saylani Student Card\n",
      "Student ID:\t 120109\n",
      "Student Name: \t Muhammad Mehmood\n",
      "Class Timing: \t 2pm to 6pm\n",
      "Batch: \t\t AIDS-4\n",
      "\n"
     ]
    }
   ],
   "source": [
    "def student_card(roll_no, name, timing, batch):\n",
    "    card = f\"\"\"Saylani Student Card\n",
    "Student ID:\\t {roll_no}\n",
    "Student Name: \\t {name}\n",
    "Class Timing: \\t {timing}\n",
    "Batch: \\t\\t {batch}\n",
    "\"\"\"\n",
    "    return card\n",
    "print(student_card(120109, \"Muhammad Mehmood\", \"2pm to 6pm\", \"AIDS-4\"))\n"
   ]
  },
  {
   "cell_type": "code",
   "execution_count": 35,
   "id": "fa58894e",
   "metadata": {},
   "outputs": [],
   "source": [
    "data = [[120109, \"Muhammad Mehmood\", \"2pm to 6pm\", \"AIDS-4\"],\n",
    "       [12010, \"Muhammad Qasim\", \"12pm to 3pm\", \"Blockchain\"],\n",
    "       [12109, \"Muhammad Ali\", \"4pm to 7pm\", \"Web-development\"]]"
   ]
  },
  {
   "cell_type": "code",
   "execution_count": 36,
   "id": "fc7d92a3",
   "metadata": {},
   "outputs": [
    {
     "name": "stdout",
     "output_type": "stream",
     "text": [
      "Saylani Student Card\n",
      "Student ID:\t 120109\n",
      "Student Name: \t Muhammad Mehmood\n",
      "Class Timing: \t 2pm to 6pm\n",
      "Batch: \t\t AIDS-4\n",
      "\n",
      "Saylani Student Card\n",
      "Student ID:\t 12010\n",
      "Student Name: \t Muhammad Qasim\n",
      "Class Timing: \t 12pm to 3pm\n",
      "Batch: \t\t Blockchain\n",
      "\n",
      "Saylani Student Card\n",
      "Student ID:\t 12109\n",
      "Student Name: \t Muhammad Ali\n",
      "Class Timing: \t 4pm to 7pm\n",
      "Batch: \t\t Web-development\n",
      "\n"
     ]
    }
   ],
   "source": [
    "for row in data:\n",
    "    print(student_card(row[0], row[1], row[2], row[3]))"
   ]
  },
  {
   "cell_type": "code",
   "execution_count": 37,
   "id": "58eae70e",
   "metadata": {},
   "outputs": [
    {
     "name": "stdout",
     "output_type": "stream",
     "text": [
      "Saylani Student Card\n",
      "Student ID:\t 120109\n",
      "Student Name: \t Muhammad Mehmood\n",
      "Class Timing: \t 2pm to 6pm\n",
      "Batch: \t\t AIDS-4\n",
      "\n",
      "Saylani Student Card\n",
      "Student ID:\t 12010\n",
      "Student Name: \t Muhammad Qasim\n",
      "Class Timing: \t 12pm to 3pm\n",
      "Batch: \t\t Blockchain\n",
      "\n",
      "Saylani Student Card\n",
      "Student ID:\t 12109\n",
      "Student Name: \t Muhammad Ali\n",
      "Class Timing: \t 4pm to 7pm\n",
      "Batch: \t\t Web-development\n",
      "\n"
     ]
    }
   ],
   "source": [
    "for row in data:\n",
    "    print(student_card(*row))"
   ]
  },
  {
   "cell_type": "markdown",
   "id": "19bca198",
   "metadata": {},
   "source": [
    "# Optional parameter/defual parameters value function\n",
    "* define argument value in function declaring time\n",
    "* ` def add_two_numbers(num1=0, num2=0): `"
   ]
  },
  {
   "cell_type": "code",
   "execution_count": 38,
   "id": "9d7e5b6b",
   "metadata": {},
   "outputs": [],
   "source": [
    "def add_two_numbers(num1, num2):\n",
    "    return num1 + num2"
   ]
  },
  {
   "cell_type": "code",
   "execution_count": 39,
   "id": "8823a55a",
   "metadata": {},
   "outputs": [
    {
     "data": {
      "text/plain": [
       "12"
      ]
     },
     "execution_count": 39,
     "metadata": {},
     "output_type": "execute_result"
    }
   ],
   "source": [
    "add_two_numbers(7,5)"
   ]
  },
  {
   "cell_type": "code",
   "execution_count": 40,
   "id": "2f4e5ce0",
   "metadata": {},
   "outputs": [
    {
     "ename": "TypeError",
     "evalue": "add_two_numbers() missing 1 required positional argument: 'num2'",
     "output_type": "error",
     "traceback": [
      "\u001b[1;31m---------------------------------------------------------------------------\u001b[0m",
      "\u001b[1;31mTypeError\u001b[0m                                 Traceback (most recent call last)",
      "\u001b[1;32m~\\AppData\\Local\\Temp\\ipykernel_6032\\1677139088.py\u001b[0m in \u001b[0;36m<module>\u001b[1;34m\u001b[0m\n\u001b[1;32m----> 1\u001b[1;33m \u001b[0madd_two_numbers\u001b[0m\u001b[1;33m(\u001b[0m\u001b[1;36m7\u001b[0m\u001b[1;33m)\u001b[0m\u001b[1;33m\u001b[0m\u001b[1;33m\u001b[0m\u001b[0m\n\u001b[0m",
      "\u001b[1;31mTypeError\u001b[0m: add_two_numbers() missing 1 required positional argument: 'num2'"
     ]
    }
   ],
   "source": [
    "add_two_numbers(7)"
   ]
  },
  {
   "cell_type": "code",
   "execution_count": 41,
   "id": "0688132f",
   "metadata": {},
   "outputs": [
    {
     "ename": "SyntaxError",
     "evalue": "invalid syntax (32318092.py, line 1)",
     "output_type": "error",
     "traceback": [
      "\u001b[1;36m  File \u001b[1;32m\"C:\\Users\\Dell\\AppData\\Local\\Temp\\ipykernel_6032\\32318092.py\"\u001b[1;36m, line \u001b[1;32m1\u001b[0m\n\u001b[1;33m    add_two_numbers(,5)\u001b[0m\n\u001b[1;37m                    ^\u001b[0m\n\u001b[1;31mSyntaxError\u001b[0m\u001b[1;31m:\u001b[0m invalid syntax\n"
     ]
    }
   ],
   "source": [
    "add_two_numbers(,5)"
   ]
  },
  {
   "cell_type": "code",
   "execution_count": 42,
   "id": "b40f3fef",
   "metadata": {},
   "outputs": [
    {
     "ename": "TypeError",
     "evalue": "add_two_numbers() missing 2 required positional arguments: 'num1' and 'num2'",
     "output_type": "error",
     "traceback": [
      "\u001b[1;31m---------------------------------------------------------------------------\u001b[0m",
      "\u001b[1;31mTypeError\u001b[0m                                 Traceback (most recent call last)",
      "\u001b[1;32m~\\AppData\\Local\\Temp\\ipykernel_6032\\3771738019.py\u001b[0m in \u001b[0;36m<module>\u001b[1;34m\u001b[0m\n\u001b[1;32m----> 1\u001b[1;33m \u001b[0madd_two_numbers\u001b[0m\u001b[1;33m(\u001b[0m\u001b[1;33m)\u001b[0m\u001b[1;33m\u001b[0m\u001b[1;33m\u001b[0m\u001b[0m\n\u001b[0m",
      "\u001b[1;31mTypeError\u001b[0m: add_two_numbers() missing 2 required positional arguments: 'num1' and 'num2'"
     ]
    }
   ],
   "source": [
    "add_two_numbers()"
   ]
  },
  {
   "cell_type": "markdown",
   "id": "ebf1eed2",
   "metadata": {},
   "source": [
    "def add_two_numbers(num1=0, num2=0):\n",
    "    return num1 + num2\n",
    "\n",
    "print(add_two_numbers())\n",
    "print(add_two_numbers(9))\n",
    "print(add_two_numbers(9,9))"
   ]
  },
  {
   "cell_type": "markdown",
   "id": "13ef6063",
   "metadata": {},
   "source": [
    "# pass postional parameters/argument during calling\n"
   ]
  },
  {
   "cell_type": "code",
   "execution_count": 44,
   "id": "5a630203",
   "metadata": {},
   "outputs": [
    {
     "name": "stdout",
     "output_type": "stream",
     "text": [
      "0\n",
      "81\n",
      "810\n"
     ]
    }
   ],
   "source": [
    "def add_two_numbers(num1=0, num2=0):\n",
    "    return num1 + num2\n",
    "\n",
    "print(add_two_numbers())\n",
    "print(add_two_numbers(81))\n",
    "print(add_two_numbers(729,81))"
   ]
  },
  {
   "cell_type": "markdown",
   "id": "514345f0",
   "metadata": {},
   "source": [
    "# key/word parameters/argument during calling\n"
   ]
  },
  {
   "cell_type": "code",
   "execution_count": 45,
   "id": "464edf41",
   "metadata": {},
   "outputs": [
    {
     "name": "stdout",
     "output_type": "stream",
     "text": [
      "81\n",
      "81\n",
      "81\n",
      "18\n"
     ]
    }
   ],
   "source": [
    "def add_two_numbers(num1=0, num2=0):\n",
    "    return num1 + num2\n",
    "\n",
    "print(add_two_numbers(num1=9, num2=72))\n",
    "print(add_two_numbers(num2=42, num1=39))\n",
    "print(add_two_numbers(num2=81))\n",
    "print(add_two_numbers(num1=18))"
   ]
  },
  {
   "cell_type": "code",
   "execution_count": 46,
   "id": "d47eb53b",
   "metadata": {},
   "outputs": [
    {
     "ename": "TypeError",
     "evalue": "add_two_numbers() takes from 0 to 2 positional arguments but 3 were given",
     "output_type": "error",
     "traceback": [
      "\u001b[1;31m---------------------------------------------------------------------------\u001b[0m",
      "\u001b[1;31mTypeError\u001b[0m                                 Traceback (most recent call last)",
      "\u001b[1;32m~\\AppData\\Local\\Temp\\ipykernel_6032\\3857724225.py\u001b[0m in \u001b[0;36m<module>\u001b[1;34m\u001b[0m\n\u001b[1;32m----> 1\u001b[1;33m \u001b[0madd_two_numbers\u001b[0m\u001b[1;33m(\u001b[0m\u001b[1;36m7\u001b[0m\u001b[1;33m,\u001b[0m\u001b[1;36m8\u001b[0m\u001b[1;33m,\u001b[0m\u001b[1;36m9\u001b[0m\u001b[1;33m)\u001b[0m\u001b[1;33m\u001b[0m\u001b[1;33m\u001b[0m\u001b[0m\n\u001b[0m",
      "\u001b[1;31mTypeError\u001b[0m: add_two_numbers() takes from 0 to 2 positional arguments but 3 were given"
     ]
    }
   ],
   "source": [
    "add_two_numbers(7,8,9)"
   ]
  },
  {
   "cell_type": "code",
   "execution_count": 47,
   "id": "4b8dee26",
   "metadata": {},
   "outputs": [
    {
     "data": {
      "text/plain": [
       "17"
      ]
     },
     "execution_count": 47,
     "metadata": {},
     "output_type": "execute_result"
    }
   ],
   "source": [
    "add_two_numbers(8,9)"
   ]
  },
  {
   "cell_type": "markdown",
   "id": "fc6cea32",
   "metadata": {},
   "source": [
    "# Create unlimited positional arguments for calling\n",
    "* add ***** before any parameter during decrlaring time\n",
    "* `def my_sum(num1,*value): `"
   ]
  },
  {
   "cell_type": "code",
   "execution_count": 49,
   "id": "42774a85",
   "metadata": {},
   "outputs": [
    {
     "name": "stdout",
     "output_type": "stream",
     "text": [
      "7 9\n"
     ]
    },
    {
     "data": {
      "text/plain": [
       "16"
      ]
     },
     "execution_count": 49,
     "metadata": {},
     "output_type": "execute_result"
    }
   ],
   "source": [
    "def my_sum(num1,num2):\n",
    "    print(num1,num2)\n",
    "    return num1 + num2\n",
    "\n",
    "my_sum(7,9)"
   ]
  },
  {
   "cell_type": "code",
   "execution_count": 50,
   "id": "264552fc",
   "metadata": {},
   "outputs": [
    {
     "name": "stdout",
     "output_type": "stream",
     "text": [
      "7 (9,)\n",
      "<class 'int'> <class 'tuple'>\n"
     ]
    }
   ],
   "source": [
    "def my_sum(num1, *value):\n",
    "    print(num1, value)\n",
    "    print(type(num1), type(value))\n",
    "    \n",
    "my_sum(7,9)"
   ]
  },
  {
   "cell_type": "code",
   "execution_count": 52,
   "id": "95aab372",
   "metadata": {},
   "outputs": [
    {
     "name": "stdout",
     "output_type": "stream",
     "text": [
      "7 (9, 1, 3, 5)\n",
      "<class 'int'> <class 'tuple'>\n"
     ]
    },
    {
     "data": {
      "text/plain": [
       "25"
      ]
     },
     "execution_count": 52,
     "metadata": {},
     "output_type": "execute_result"
    }
   ],
   "source": [
    "def my_sum(num1,*value):\n",
    "    print(num1,value)\n",
    "    print(type(num1), type(value))\n",
    "    result = num1\n",
    "    for n in value:\n",
    "        result += n\n",
    "    return result\n",
    "   \n",
    "\n",
    "my_sum(7,9,1,3,5)"
   ]
  },
  {
   "cell_type": "code",
   "execution_count": 53,
   "id": "d00f83e7",
   "metadata": {},
   "outputs": [
    {
     "name": "stdout",
     "output_type": "stream",
     "text": [
      "7 (8, 9, 10, 11)\n",
      "<class 'int'> <class 'tuple'>\n"
     ]
    },
    {
     "data": {
      "text/plain": [
       "45"
      ]
     },
     "execution_count": 53,
     "metadata": {},
     "output_type": "execute_result"
    }
   ],
   "source": [
    "def my_sum(num1, *value):\n",
    "    print(num1, value)\n",
    "    print(type(num1), type(value))\n",
    "    result = num1\n",
    "    for n in value:\n",
    "        result += n\n",
    "    return result\n",
    "my_sum(7,8,9,10,11)"
   ]
  },
  {
   "cell_type": "markdown",
   "id": "4a8f26bc",
   "metadata": {},
   "source": [
    "# Create unlimited key/word arguments for calling\n",
    "* add ** before any parameter during decrlaring time\n",
    "* ` def my_sum(num1,**value): `"
   ]
  },
  {
   "cell_type": "code",
   "execution_count": 54,
   "id": "d2206cd1",
   "metadata": {},
   "outputs": [
    {
     "name": "stdout",
     "output_type": "stream",
     "text": [
      "{'num1': 7, 'tea': 2, 'milk': '1 Kg'}\n",
      "<class 'dict'>\n"
     ]
    }
   ],
   "source": [
    "def abc(**values):\n",
    "    print(values)\n",
    "    print(type(values))\n",
    "    \n",
    "abc(num1=7, tea= 2, milk= \"1 Kg\")"
   ]
  },
  {
   "cell_type": "markdown",
   "id": "c4eee72f",
   "metadata": {},
   "source": [
    "# Create function with required argument, optional, ulimited positional, ulimited key/word argument\n"
   ]
  },
  {
   "cell_type": "code",
   "execution_count": 67,
   "id": "9698ae36",
   "metadata": {},
   "outputs": [
    {
     "name": "stdout",
     "output_type": "stream",
     "text": [
      "required positional argument num1 =  200 <class 'int'>\n",
      "Positional defual parameter value argument num2 =  7 <class 'int'>\n",
      "postional ulimited arguments value1 =  () <class 'tuple'>\n",
      "key/word ulimited arguments dict1 =  {} <class 'dict'>\n"
     ]
    }
   ],
   "source": [
    "def my_custom_function(num1, num2=7, *value1, **dict1):\n",
    "    print(\"required positional argument num1 = \", num1, type(num1))\n",
    "    print(\"Positional defual parameter value argument num2 = \", num2, type(num2))\n",
    "    print(\"postional ulimited arguments value1 = \", value1, type(value1))\n",
    "    print(\"key/word ulimited arguments dict1 = \", dict1, type(dict1))\n",
    "my_custom_function(200)\n",
    "    "
   ]
  },
  {
   "cell_type": "code",
   "execution_count": 68,
   "id": "18e26b94",
   "metadata": {},
   "outputs": [
    {
     "name": "stdout",
     "output_type": "stream",
     "text": [
      "required positional argument num1 =  200 <class 'int'>\n",
      "Positional defual parameter value argument num2 =  100 <class 'int'>\n",
      "postional ulimited arguments value1 =  ('a', 'b', 'c') <class 'tuple'>\n",
      "key/word ulimited arguments dict1 =  {'tea': 7, 'milk': '1kg'} <class 'dict'>\n"
     ]
    }
   ],
   "source": [
    "my_custom_function(200,100,'a','b','c', tea=7,milk='1kg')"
   ]
  },
  {
   "cell_type": "code",
   "execution_count": 69,
   "id": "05b5efee",
   "metadata": {},
   "outputs": [
    {
     "name": "stdout",
     "output_type": "stream",
     "text": [
      "required positional argument num1 =  200 <class 'int'>\n",
      "Positional defual parameter value argument num2 =  0 <class 'int'>\n",
      "postional ulimited arguments value1 =  ('a', 'b', 'c') <class 'tuple'>\n",
      "key/word ulimited arguments dict1 =  {'tea': 7, 'milk': '1kg'} <class 'dict'>\n"
     ]
    }
   ],
   "source": [
    "my_custom_function(200,0,'a','b','c', tea=7,milk='1kg')"
   ]
  },
  {
   "cell_type": "code",
   "execution_count": 73,
   "id": "f7bcf72c",
   "metadata": {},
   "outputs": [
    {
     "name": "stdout",
     "output_type": "stream",
     "text": [
      "Student Roll no:  120109\n",
      "Student Name:  Muhammad Mehmood\n",
      "Skills:\n",
      "\t\t python\n",
      "\t\t Javascript\n",
      "\t\t Html\n",
      "\t\t CSS\n"
     ]
    }
   ],
   "source": [
    "def student_card(roll_no, name, *skills):\n",
    "    print(\"Student Roll no: \", roll_no)\n",
    "    print(\"Student Name: \", name)\n",
    "    print(\"Skills:\")\n",
    "    for s in skills:\n",
    "        print(\"\\t\\t\",s)\n",
    "student_card(120109, \"Muhammad Mehmood\", \"python\", \"Javascript\",\"Html\",\"CSS\")"
   ]
  },
  {
   "cell_type": "code",
   "execution_count": 74,
   "id": "53438417",
   "metadata": {},
   "outputs": [
    {
     "name": "stdout",
     "output_type": "stream",
     "text": [
      "Student Roll no:  12009\n",
      "Student Name:  Muhammad Umar\n",
      "Skills:\n",
      "\t\t C#\n",
      "\t\t Javascript\n",
      "\t\t Html\n",
      "\t\t CSS\n"
     ]
    }
   ],
   "source": [
    "student_card(12009, \"Muhammad Umar\", \"C#\", \"Javascript\",\"Html\",\"CSS\")"
   ]
  },
  {
   "cell_type": "code",
   "execution_count": 76,
   "id": "c0a4593e",
   "metadata": {},
   "outputs": [
    {
     "data": {
      "text/plain": [
       "18"
      ]
     },
     "execution_count": 76,
     "metadata": {},
     "output_type": "execute_result"
    }
   ],
   "source": [
    "def add_two_num(num1:int, num2:int) -> int:\n",
    "    return num1 + num2\n",
    "add_two_num(9,9)"
   ]
  },
  {
   "cell_type": "code",
   "execution_count": 77,
   "id": "48e45884",
   "metadata": {},
   "outputs": [
    {
     "data": {
      "text/plain": [
       "'77'"
      ]
     },
     "execution_count": 77,
     "metadata": {},
     "output_type": "execute_result"
    }
   ],
   "source": [
    "add_two_num('7', '7')"
   ]
  },
  {
   "cell_type": "code",
   "execution_count": 78,
   "id": "9cfcacec",
   "metadata": {},
   "outputs": [],
   "source": [
    "def add_two_num(num1:int, num2:int):\n",
    "    return num1 + num2"
   ]
  },
  {
   "cell_type": "code",
   "execution_count": 79,
   "id": "b8bcb24c",
   "metadata": {},
   "outputs": [
    {
     "data": {
      "text/plain": [
       "16"
      ]
     },
     "execution_count": 79,
     "metadata": {},
     "output_type": "execute_result"
    }
   ],
   "source": [
    "a = lambda num1, num2: num1 + num2\n",
    "a(7,9)"
   ]
  },
  {
   "cell_type": "code",
   "execution_count": 91,
   "id": "ed6a4691",
   "metadata": {},
   "outputs": [
    {
     "data": {
      "text/plain": [
       "[[1, 'a', 'z'], [2, 'b', 'y'], [3, 'c', 'X']]"
      ]
     },
     "execution_count": 91,
     "metadata": {},
     "output_type": "execute_result"
    }
   ],
   "source": [
    "l = [[1,'a','z'],\n",
    "    [2,'b','y'],\n",
    "    [3,'c',\"X\"]]\n",
    "l"
   ]
  },
  {
   "cell_type": "code",
   "execution_count": 92,
   "id": "581c9611",
   "metadata": {},
   "outputs": [
    {
     "data": {
      "text/plain": [
       "[[3, 'c', 'X'], [2, 'b', 'y'], [1, 'a', 'z']]"
      ]
     },
     "execution_count": 92,
     "metadata": {},
     "output_type": "execute_result"
    }
   ],
   "source": [
    "sorted(l, key=lambda x:x[2])"
   ]
  },
  {
   "cell_type": "markdown",
   "id": "49b281c8",
   "metadata": {},
   "source": [
    "# Generator Function\n",
    "* A Python generator function allows you to declare a function that behaves like an iterator, providing a faster and easier way to create iterators. They can be used on an abstract container of data to turn it into an iterable object like lists, dictionaries and strings."
   ]
  },
  {
   "cell_type": "code",
   "execution_count": 97,
   "id": "b8a3a3fa",
   "metadata": {},
   "outputs": [
    {
     "name": "stdout",
     "output_type": "stream",
     "text": [
      "<generator object my_range at 0x000001935D37EDD0>\n"
     ]
    }
   ],
   "source": [
    "def my_range(start,end):\n",
    "    for i in range(start,end+1):\n",
    "        yield i\n",
    "a= my_range(1,10)\n",
    "print(a)"
   ]
  },
  {
   "cell_type": "code",
   "execution_count": 99,
   "id": "d441583a",
   "metadata": {},
   "outputs": [
    {
     "name": "stdout",
     "output_type": "stream",
     "text": [
      "1\n",
      "2\n",
      "3\n",
      "4\n",
      "5\n",
      "6\n",
      "7\n",
      "8\n",
      "9\n",
      "10\n"
     ]
    }
   ],
   "source": [
    "a=my_range(1,10)\n",
    "print(next(a))\n",
    "print(next(a))\n",
    "print(next(a))\n",
    "print(next(a))\n",
    "print(next(a))\n",
    "print(next(a))\n",
    "print(next(a))\n",
    "print(next(a))\n",
    "print(next(a))\n",
    "print(next(a))\n"
   ]
  },
  {
   "cell_type": "code",
   "execution_count": 100,
   "id": "241d71b6",
   "metadata": {},
   "outputs": [],
   "source": [
    "a = my_range(1,10)"
   ]
  },
  {
   "cell_type": "code",
   "execution_count": 101,
   "id": "4bf3cf03",
   "metadata": {},
   "outputs": [
    {
     "name": "stdout",
     "output_type": "stream",
     "text": [
      "1\n"
     ]
    }
   ],
   "source": [
    "print(next(a))"
   ]
  },
  {
   "cell_type": "code",
   "execution_count": 103,
   "id": "f0112ca8",
   "metadata": {},
   "outputs": [
    {
     "data": {
      "text/plain": [
       "[1, 2, 3, 4, 5, 6, 7, 8, 9, 10]"
      ]
     },
     "execution_count": 103,
     "metadata": {},
     "output_type": "execute_result"
    }
   ],
   "source": [
    "a = my_range(1,10)\n",
    "list(a)"
   ]
  },
  {
   "cell_type": "code",
   "execution_count": 120,
   "id": "5a20856b",
   "metadata": {},
   "outputs": [
    {
     "data": {
      "text/plain": [
       "[{'apple': 2, 'banana': 4, 'orange': 1, 'kiwi': 3},\n",
       " {'melon': 5, 'peach': 6, 'mango': 7, 'blueberry': 8}]"
      ]
     },
     "execution_count": 120,
     "metadata": {},
     "output_type": "execute_result"
    }
   ],
   "source": [
    "my_dict= [{'apple': 2, 'banana': 4, 'orange': 1, 'kiwi': 3},\n",
    "          {'melon': 5, 'peach': 6, 'mango' : 7,'blueberry':8}]\n",
    "\n",
    "my_dict"
   ]
  },
  {
   "cell_type": "code",
   "execution_count": 118,
   "id": "80d6ac1b",
   "metadata": {},
   "outputs": [
    {
     "ename": "KeyError",
     "evalue": "0",
     "output_type": "error",
     "traceback": [
      "\u001b[1;31m---------------------------------------------------------------------------\u001b[0m",
      "\u001b[1;31mKeyError\u001b[0m                                  Traceback (most recent call last)",
      "\u001b[1;32m~\\AppData\\Local\\Temp\\ipykernel_6032\\3426957797.py\u001b[0m in \u001b[0;36m<module>\u001b[1;34m\u001b[0m\n\u001b[1;32m----> 1\u001b[1;33m \u001b[0msorted\u001b[0m\u001b[1;33m(\u001b[0m\u001b[0mmy_dict\u001b[0m\u001b[1;33m,\u001b[0m \u001b[0mkey\u001b[0m\u001b[1;33m=\u001b[0m \u001b[1;32mlambda\u001b[0m \u001b[0mx\u001b[0m\u001b[1;33m:\u001b[0m\u001b[0mx\u001b[0m\u001b[1;33m[\u001b[0m\u001b[1;36m0\u001b[0m\u001b[1;33m]\u001b[0m\u001b[1;33m)\u001b[0m\u001b[1;33m\u001b[0m\u001b[1;33m\u001b[0m\u001b[0m\n\u001b[0m",
      "\u001b[1;32m~\\AppData\\Local\\Temp\\ipykernel_6032\\3426957797.py\u001b[0m in \u001b[0;36m<lambda>\u001b[1;34m(x)\u001b[0m\n\u001b[1;32m----> 1\u001b[1;33m \u001b[0msorted\u001b[0m\u001b[1;33m(\u001b[0m\u001b[0mmy_dict\u001b[0m\u001b[1;33m,\u001b[0m \u001b[0mkey\u001b[0m\u001b[1;33m=\u001b[0m \u001b[1;32mlambda\u001b[0m \u001b[0mx\u001b[0m\u001b[1;33m:\u001b[0m\u001b[0mx\u001b[0m\u001b[1;33m[\u001b[0m\u001b[1;36m0\u001b[0m\u001b[1;33m]\u001b[0m\u001b[1;33m)\u001b[0m\u001b[1;33m\u001b[0m\u001b[1;33m\u001b[0m\u001b[0m\n\u001b[0m",
      "\u001b[1;31mKeyError\u001b[0m: 0"
     ]
    }
   ],
   "source": [
    "sorted(my_dict, key= lambda x:x[0])"
   ]
  },
  {
   "cell_type": "code",
   "execution_count": 115,
   "id": "25109725",
   "metadata": {},
   "outputs": [
    {
     "ename": "KeyError",
     "evalue": "1",
     "output_type": "error",
     "traceback": [
      "\u001b[1;31m---------------------------------------------------------------------------\u001b[0m",
      "\u001b[1;31mKeyError\u001b[0m                                  Traceback (most recent call last)",
      "\u001b[1;32m~\\AppData\\Local\\Temp\\ipykernel_6032\\84848148.py\u001b[0m in \u001b[0;36m<module>\u001b[1;34m\u001b[0m\n\u001b[1;32m----> 1\u001b[1;33m \u001b[0msorted\u001b[0m\u001b[1;33m(\u001b[0m\u001b[0mmy_dict\u001b[0m\u001b[1;33m,\u001b[0m \u001b[0mkey\u001b[0m\u001b[1;33m=\u001b[0m \u001b[1;32mlambda\u001b[0m \u001b[0mx\u001b[0m\u001b[1;33m:\u001b[0m\u001b[0mx\u001b[0m\u001b[1;33m[\u001b[0m\u001b[1;36m1\u001b[0m\u001b[1;33m]\u001b[0m\u001b[1;33m)\u001b[0m\u001b[1;33m\u001b[0m\u001b[1;33m\u001b[0m\u001b[0m\n\u001b[0m",
      "\u001b[1;32m~\\AppData\\Local\\Temp\\ipykernel_6032\\84848148.py\u001b[0m in \u001b[0;36m<lambda>\u001b[1;34m(x)\u001b[0m\n\u001b[1;32m----> 1\u001b[1;33m \u001b[0msorted\u001b[0m\u001b[1;33m(\u001b[0m\u001b[0mmy_dict\u001b[0m\u001b[1;33m,\u001b[0m \u001b[0mkey\u001b[0m\u001b[1;33m=\u001b[0m \u001b[1;32mlambda\u001b[0m \u001b[0mx\u001b[0m\u001b[1;33m:\u001b[0m\u001b[0mx\u001b[0m\u001b[1;33m[\u001b[0m\u001b[1;36m1\u001b[0m\u001b[1;33m]\u001b[0m\u001b[1;33m)\u001b[0m\u001b[1;33m\u001b[0m\u001b[1;33m\u001b[0m\u001b[0m\n\u001b[0m",
      "\u001b[1;31mKeyError\u001b[0m: 1"
     ]
    }
   ],
   "source": [
    "sorted(my_dict, key= lambda x:x[1])"
   ]
  },
  {
   "cell_type": "code",
   "execution_count": 111,
   "id": "c30f5a2d",
   "metadata": {},
   "outputs": [
    {
     "name": "stdout",
     "output_type": "stream",
     "text": [
      "{'orange': 1, 'apple': 2, 'kiwi': 3, 'banana': 4}\n"
     ]
    }
   ],
   "source": [
    "my_dict = {'apple': 2, 'banana': 4, 'orange': 1, 'kiwi': 3}\n",
    "sorted_dict = dict(sorted(my_dict.items(), key=lambda item: item[1]))\n",
    "print(sorted_dict)"
   ]
  },
  {
   "cell_type": "code",
   "execution_count": null,
   "id": "b6be21e0",
   "metadata": {},
   "outputs": [],
   "source": []
  }
 ],
 "metadata": {
  "kernelspec": {
   "display_name": "Python 3 (ipykernel)",
   "language": "python",
   "name": "python3"
  },
  "language_info": {
   "codemirror_mode": {
    "name": "ipython",
    "version": 3
   },
   "file_extension": ".py",
   "mimetype": "text/x-python",
   "name": "python",
   "nbconvert_exporter": "python",
   "pygments_lexer": "ipython3",
   "version": "3.9.13"
  }
 },
 "nbformat": 4,
 "nbformat_minor": 5
}
