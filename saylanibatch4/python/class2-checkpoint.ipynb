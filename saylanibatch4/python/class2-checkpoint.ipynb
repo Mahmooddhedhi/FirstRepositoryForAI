{
 "cells": [
  {
   "cell_type": "markdown",
   "id": "515fece8-d76d-4463-a90d-ec5cab4e79d9",
   "metadata": {},
   "source": [
    "# class 2\n",
    "* help\n",
    "  * **Function_name()**\n",
    "  * help function\n",
    "  * function?\n",
    "  * function_name(press shift + tab in round brackets)\n",
    "  * function??\n",
    "  * ?function\n",
    "  * ??function\n",
    "* print\n",
    "  * value,\n",
    "  * sep\n",
    "  * end\n",
    "* variable\n",
    "  * string\n",
    "   * start with **\"** and end with **\"**\n",
    "   ''' \"Muhammad mehmood\"'''\n",
    "     * you can also use these symbols for define string\n",
    "       * '''' single line string\n",
    "      \n",
    "       * '''\"''' single line string\n",
    "      \n",
    "       * '''\"\"\"''' multiline string\n",
    "  * number\n",
    "    * int\n",
    "      * '''1'''\n",
    "    * float\n",
    "      * '''1.5'''\n",
    "*  with print  "
   ]
  },
  {
   "cell_type": "code",
   "execution_count": 1,
   "id": "39ac6d4b-7e14-4ce6-8e0d-6f3262c74839",
   "metadata": {},
   "outputs": [
    {
     "name": "stdout",
     "output_type": "stream",
     "text": [
      "The Zen of Python, by Tim Peters\n",
      "\n",
      "Beautiful is better than ugly.\n",
      "Explicit is better than implicit.\n",
      "Simple is better than complex.\n",
      "Complex is better than complicated.\n",
      "Flat is better than nested.\n",
      "Sparse is better than dense.\n",
      "Readability counts.\n",
      "Special cases aren't special enough to break the rules.\n",
      "Although practicality beats purity.\n",
      "Errors should never pass silently.\n",
      "Unless explicitly silenced.\n",
      "In the face of ambiguity, refuse the temptation to guess.\n",
      "There should be one-- and preferably only one --obvious way to do it.\n",
      "Although that way may not be obvious at first unless you're Dutch.\n",
      "Now is better than never.\n",
      "Although never is often better than *right* now.\n",
      "If the implementation is hard to explain, it's a bad idea.\n",
      "If the implementation is easy to explain, it may be a good idea.\n",
      "Namespaces are one honking great idea -- let's do more of those!\n"
     ]
    }
   ],
   "source": [
    "import this"
   ]
  },
  {
   "cell_type": "markdown",
   "id": "10c63a48-12a6-45b6-8aa9-863cffa77ebd",
   "metadata": {},
   "source": [
    "# pass values in print function"
   ]
  },
  {
   "cell_type": "code",
   "execution_count": 1,
   "id": "b98a9182-c4bd-4488-81a0-fe849539eafa",
   "metadata": {},
   "outputs": [
    {
     "name": "stdout",
     "output_type": "stream",
     "text": [
      "A B C D\n"
     ]
    }
   ],
   "source": [
    "print(\"A\", \"B\",\"C\",\"D\")"
   ]
  },
  {
   "cell_type": "code",
   "execution_count": 3,
   "id": "8757cfa9-69bc-4360-a592-26df090aca50",
   "metadata": {},
   "outputs": [
    {
     "name": "stdout",
     "output_type": "stream",
     "text": [
      "ABCD\n"
     ]
    }
   ],
   "source": [
    "print(\"A\", \"B\",\"C\",\"D\", sep='')"
   ]
  },
  {
   "cell_type": "code",
   "execution_count": 4,
   "id": "cdea0c39-39ec-4703-b963-4389490a6696",
   "metadata": {},
   "outputs": [
    {
     "name": "stdout",
     "output_type": "stream",
     "text": [
      "A***B***C***D\n"
     ]
    }
   ],
   "source": [
    "print(\"A\", \"B\",\"C\",\"D\", sep='***')"
   ]
  },
  {
   "cell_type": "code",
   "execution_count": 5,
   "id": "fdbd05c1-4932-4935-ae53-379a0e2814ac",
   "metadata": {},
   "outputs": [
    {
     "name": "stdout",
     "output_type": "stream",
     "text": [
      "line1\n",
      "line2\n",
      "line3\n"
     ]
    }
   ],
   "source": [
    "print(\"line1\")\n",
    "print(\"line2\")\n",
    "print(\"line3\")"
   ]
  },
  {
   "cell_type": "code",
   "execution_count": 6,
   "id": "3c0a3a83-37ff-4c79-a4f9-e0c977f3fece",
   "metadata": {},
   "outputs": [
    {
     "name": "stdout",
     "output_type": "stream",
     "text": [
      "line1\n",
      "line2\n",
      "line3\n"
     ]
    }
   ],
   "source": [
    "print(\"line1\", end='\\n')\n",
    "print(\"line2\", end='\\n')\n",
    "print(\"line3\", end='\\n')"
   ]
  },
  {
   "cell_type": "code",
   "execution_count": 7,
   "id": "23c41c30-0f20-45a2-ac02-7482194bfe90",
   "metadata": {},
   "outputs": [
    {
     "name": "stdout",
     "output_type": "stream",
     "text": [
      "line1>>>line2>>>line3>>>"
     ]
    }
   ],
   "source": [
    "print(\"line1\", end='>>>')\n",
    "print(\"line2\", end='>>>')\n",
    "print(\"line3\", end='>>>')"
   ]
  },
  {
   "cell_type": "code",
   "execution_count": 8,
   "id": "698a8a1d-38c0-470d-9061-ef248564c7df",
   "metadata": {},
   "outputs": [
    {
     "name": "stdout",
     "output_type": "stream",
     "text": [
      "1 2 3 4\n",
      "A B C D\n",
      "i ii iii iv\n"
     ]
    }
   ],
   "source": [
    "print(1,2,3,4)\n",
    "print(\"A\",\"B\",\"C\",\"D\")\n",
    "print(\"i\",\"ii\",\"iii\",\"iv\")"
   ]
  },
  {
   "cell_type": "code",
   "execution_count": 9,
   "id": "c4421cd3-7bed-44fd-9d80-3c5f296a5229",
   "metadata": {},
   "outputs": [
    {
     "name": "stdout",
     "output_type": "stream",
     "text": [
      "1*2*3*4\n",
      "A>B>C>D\n",
      "i<ii<iii<iv\n"
     ]
    }
   ],
   "source": [
    "print(1,2,3,4, sep='*')\n",
    "print(\"A\",\"B\",\"C\",\"D\", sep='>')\n",
    "print(\"i\",\"ii\",\"iii\",\"iv\", sep='<')"
   ]
  },
  {
   "cell_type": "code",
   "execution_count": 10,
   "id": "0323cc38-5b76-4930-85de-a34a48bdd794",
   "metadata": {},
   "outputs": [
    {
     "name": "stdout",
     "output_type": "stream",
     "text": [
      "1*2*3*4 A>B>C>D i<ii<iii<iv "
     ]
    }
   ],
   "source": [
    "print(1,2,3,4, sep='*', end= \" \")\n",
    "print(\"A\",\"B\",\"C\",\"D\", sep='>', end= \" \")\n",
    "print(\"i\",\"ii\",\"iii\",\"iv\", sep='<', end= \" \")"
   ]
  },
  {
   "cell_type": "markdown",
   "id": "310a1d40-b08d-499a-99ab-56672fdc214b",
   "metadata": {},
   "source": [
    "# Variable\n",
    "# www.peps.python.org/pep-0020/\n",
    "**variable_name = value**"
   ]
  },
  {
   "cell_type": "code",
   "execution_count": 17,
   "id": "39988017-3195-41d9-ac4c-0e21b452b245",
   "metadata": {},
   "outputs": [],
   "source": [
    "name=\"Muhammad Mehmood\""
   ]
  },
  {
   "cell_type": "code",
   "execution_count": 14,
   "id": "58ac36df-051a-4b56-be30-e5500ae9d649",
   "metadata": {},
   "outputs": [
    {
     "name": "stdout",
     "output_type": "stream",
     "text": [
      "muhammad mehmood\n",
      "muhammad mehmood\n",
      "muhammad mehmood\n"
     ]
    }
   ],
   "source": [
    "print(name)\n",
    "print(name)\n",
    "print(name)"
   ]
  },
  {
   "cell_type": "code",
   "execution_count": 15,
   "id": "7b3f5e0b-0c3b-4bf8-9b4d-7c0e4e75f980",
   "metadata": {},
   "outputs": [
    {
     "name": "stdout",
     "output_type": "stream",
     "text": [
      "Muhammad Mehmood\n",
      "Muhammad Mehmood\n",
      "Muhammad Mehmood\n"
     ]
    }
   ],
   "source": [
    "print(\"Muhammad Mehmood\")\n",
    "print(\"Muhammad Mehmood\")\n",
    "print(\"Muhammad Mehmood\")"
   ]
  },
  {
   "cell_type": "code",
   "execution_count": 19,
   "id": "d05d9713-a29e-47e5-8b66-492d9bd76c33",
   "metadata": {},
   "outputs": [
    {
     "name": "stdout",
     "output_type": "stream",
     "text": [
      "welcome dear Muhammad Mehmood happy birthday on your 35\n"
     ]
    }
   ],
   "source": [
    "name = \"Muhammad Mehmood\"\n",
    "age= 35\n",
    "education= \"intermediate\"\n",
    "\n",
    "print(\"welcome dear\", name, \"happy birthday on your\", age)"
   ]
  },
  {
   "cell_type": "code",
   "execution_count": 22,
   "id": "355873c9-8616-446b-a3c7-6d86cfc4f4bd",
   "metadata": {},
   "outputs": [
    {
     "name": "stdout",
     "output_type": "stream",
     "text": [
      "\n",
      "Saylani Mass IT Program\n",
      "Batch-4 AI and DS\n",
      "class days: tue and fri\n",
      "\n"
     ]
    }
   ],
   "source": [
    "card= \"\"\"\n",
    "Saylani Mass IT Program\n",
    "Batch-4 AI and DS\n",
    "class days: tue and fri\n",
    "\"\"\"\n",
    "print(card)"
   ]
  },
  {
   "cell_type": "code",
   "execution_count": 21,
   "id": "7fc984e3-f230-4326-b71b-f99f2c1d835c",
   "metadata": {},
   "outputs": [
    {
     "ename": "SyntaxError",
     "evalue": "EOL while scanning string literal (1693969206.py, line 1)",
     "output_type": "error",
     "traceback": [
      "\u001b[1;36m  File \u001b[1;32m\"C:\\Users\\Dell\\AppData\\Local\\Temp\\ipykernel_6508\\1693969206.py\"\u001b[1;36m, line \u001b[1;32m1\u001b[0m\n\u001b[1;33m    card= \"saylani Mass IT program\\nbatch-4 AI and ds\\nclass days: tue and fri\u001b[0m\n\u001b[1;37m                                                                              ^\u001b[0m\n\u001b[1;31mSyntaxError\u001b[0m\u001b[1;31m:\u001b[0m EOL while scanning string literal\n"
     ]
    }
   ],
   "source": [
    "card= \"saylani Mass IT program\\nbatch-4 AI and ds\\nclass days: tue and fri"
   ]
  },
  {
   "cell_type": "code",
   "execution_count": 23,
   "id": "38edfd7a-cdf5-4303-a6f2-51bd09cb80f5",
   "metadata": {},
   "outputs": [
    {
     "name": "stdout",
     "output_type": "stream",
     "text": [
      "welcome dear Muhammad mehmood\n"
     ]
    }
   ],
   "source": [
    "message = \"welcome dear Muhammad mehmood\"\n",
    "print(message)"
   ]
  },
  {
   "cell_type": "markdown",
   "id": "f2ba1e64-2e71-428e-ad17-123c5a7c94a5",
   "metadata": {},
   "source": [
    "# convert special character into normal character put back slash \\  before this character"
   ]
  },
  {
   "cell_type": "code",
   "execution_count": 24,
   "id": "e73aebf4-12e1-49a3-8037-bd70fbebfeab",
   "metadata": {},
   "outputs": [
    {
     "name": "stdout",
     "output_type": "stream",
     "text": [
      "welcome Dear\"muhammad qasim\" \n"
     ]
    }
   ],
   "source": [
    "message= \"welcome Dear\\\"muhammad qasim\\\" \"\n",
    "print(message)"
   ]
  },
  {
   "cell_type": "markdown",
   "id": "60fa58d2-e4ad-4523-9d7a-be0db83ef20c",
   "metadata": {},
   "source": [
    "# apply some function on variable\n",
    "* help()\n",
    "* len()\n",
    "* id()\n",
    "* type()\n",
    "* idr()"
   ]
  },
  {
   "cell_type": "code",
   "execution_count": 29,
   "id": "c97d7034-0eaa-44e1-abe8-0e9b947a3eb3",
   "metadata": {},
   "outputs": [
    {
     "name": "stdout",
     "output_type": "stream",
     "text": [
      "Muhammad Mehmood\n",
      "16\n",
      "<class 'str'>\n",
      "1944692866144\n",
      "['__add__', '__class__', '__contains__', '__delattr__', '__dir__', '__doc__', '__eq__', '__format__', '__ge__', '__getattribute__', '__getitem__', '__getnewargs__', '__gt__', '__hash__', '__init__', '__init_subclass__', '__iter__', '__le__', '__len__', '__lt__', '__mod__', '__mul__', '__ne__', '__new__', '__reduce__', '__reduce_ex__', '__repr__', '__rmod__', '__rmul__', '__setattr__', '__sizeof__', '__str__', '__subclasshook__', 'capitalize', 'casefold', 'center', 'count', 'encode', 'endswith', 'expandtabs', 'find', 'format', 'format_map', 'index', 'isalnum', 'isalpha', 'isascii', 'isdecimal', 'isdigit', 'isidentifier', 'islower', 'isnumeric', 'isprintable', 'isspace', 'istitle', 'isupper', 'join', 'ljust', 'lower', 'lstrip', 'maketrans', 'partition', 'removeprefix', 'removesuffix', 'replace', 'rfind', 'rindex', 'rjust', 'rpartition', 'rsplit', 'rstrip', 'split', 'splitlines', 'startswith', 'strip', 'swapcase', 'title', 'translate', 'upper', 'zfill']\n"
     ]
    }
   ],
   "source": [
    "name= \"Muhammad Mehmood\"\n",
    "print(name)\n",
    "print(len(name)) # length of variable\n",
    "print(type(name)) # variable type\n",
    "print(id(name)) # memory address of vraiable\n",
    "print(dir(name)) # all methods  and attributes of variable"
   ]
  },
  {
   "cell_type": "code",
   "execution_count": 31,
   "id": "86733495-0b36-4863-99b1-798ce838fb3f",
   "metadata": {},
   "outputs": [
    {
     "name": "stdout",
     "output_type": "stream",
     "text": [
      "35\n",
      "<class 'int'>\n",
      "1944609123696\n",
      "['__abs__', '__add__', '__and__', '__bool__', '__ceil__', '__class__', '__delattr__', '__dir__', '__divmod__', '__doc__', '__eq__', '__float__', '__floor__', '__floordiv__', '__format__', '__ge__', '__getattribute__', '__getnewargs__', '__gt__', '__hash__', '__index__', '__init__', '__init_subclass__', '__int__', '__invert__', '__le__', '__lshift__', '__lt__', '__mod__', '__mul__', '__ne__', '__neg__', '__new__', '__or__', '__pos__', '__pow__', '__radd__', '__rand__', '__rdivmod__', '__reduce__', '__reduce_ex__', '__repr__', '__rfloordiv__', '__rlshift__', '__rmod__', '__rmul__', '__ror__', '__round__', '__rpow__', '__rrshift__', '__rshift__', '__rsub__', '__rtruediv__', '__rxor__', '__setattr__', '__sizeof__', '__str__', '__sub__', '__subclasshook__', '__truediv__', '__trunc__', '__xor__', 'as_integer_ratio', 'bit_length', 'conjugate', 'denominator', 'from_bytes', 'imag', 'numerator', 'real', 'to_bytes']\n"
     ]
    }
   ],
   "source": [
    "age= 35\n",
    "print(age)\n",
    "print(type(age)) # variable type\n",
    "print(id(age)) # memory address of vraiable\n",
    "print(dir(age)) # all methods  and attributes of variable"
   ]
  },
  {
   "cell_type": "code",
   "execution_count": null,
   "id": "34d80b5a-d60b-448c-8b02-dc60d4ad562e",
   "metadata": {},
   "outputs": [],
   "source": []
  }
 ],
 "metadata": {
  "kernelspec": {
   "display_name": "Python 3 (ipykernel)",
   "language": "python",
   "name": "python3"
  },
  "language_info": {
   "codemirror_mode": {
    "name": "ipython",
    "version": 3
   },
   "file_extension": ".py",
   "mimetype": "text/x-python",
   "name": "python",
   "nbconvert_exporter": "python",
   "pygments_lexer": "ipython3",
   "version": "3.9.13"
  }
 },
 "nbformat": 4,
 "nbformat_minor": 5
}
