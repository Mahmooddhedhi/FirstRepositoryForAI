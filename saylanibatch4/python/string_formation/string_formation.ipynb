{
 "cells": [
  {
   "cell_type": "markdown",
   "id": "3d2c3271",
   "metadata": {},
   "source": [
    "# Text Formating/formation/concatenation"
   ]
  },
  {
   "cell_type": "code",
   "execution_count": 1,
   "id": "f0dcae08",
   "metadata": {},
   "outputs": [
    {
     "ename": "SyntaxError",
     "evalue": "invalid syntax (3763877357.py, line 1)",
     "output_type": "error",
     "traceback": [
      "\u001b[1;36m  File \u001b[1;32m\"C:\\Users\\Dell\\AppData\\Local\\Temp\\ipykernel_4596\\3763877357.py\"\u001b[1;36m, line \u001b[1;32m1\u001b[0m\n\u001b[1;33m    first name = \"Muhammad Mehmood\"\u001b[0m\n\u001b[1;37m          ^\u001b[0m\n\u001b[1;31mSyntaxError\u001b[0m\u001b[1;31m:\u001b[0m invalid syntax\n"
     ]
    }
   ],
   "source": [
    "first name = \"Muhammad Mehmood\""
   ]
  },
  {
   "cell_type": "markdown",
   "id": "181747bf",
   "metadata": {},
   "source": [
    "# Rules for Python variables:\n",
    "   * A variable name must start with a letter or the underscore character.\n",
    "   * A variable name cannot start with a number.\n",
    "   * A variable name can only contain alpha-numeric characters and underscores (A-z, 0-9, and _ )\n",
    "   * Variable names are case-sensitive (age, Age and AGE are three different variables)"
   ]
  },
  {
   "cell_type": "code",
   "execution_count": 2,
   "id": "c9c670f2",
   "metadata": {},
   "outputs": [
    {
     "name": "stdout",
     "output_type": "stream",
     "text": [
      "Muhammad Mehmood\n"
     ]
    }
   ],
   "source": [
    "student_name = \"Muhammad Mehmood\"\n",
    "print(student_name)"
   ]
  },
  {
   "cell_type": "code",
   "execution_count": 3,
   "id": "18b41857",
   "metadata": {},
   "outputs": [
    {
     "name": "stdout",
     "output_type": "stream",
     "text": [
      "15\n"
     ]
    }
   ],
   "source": [
    "a = len(\"Muhaamd mehmood\") # return function\n",
    "print(a)"
   ]
  },
  {
   "cell_type": "code",
   "execution_count": 4,
   "id": "9d6da5b2",
   "metadata": {},
   "outputs": [
    {
     "name": "stdout",
     "output_type": "stream",
     "text": [
      "Muhammad Mehmood\n",
      "None\n",
      "None\n",
      "None\n"
     ]
    }
   ],
   "source": [
    "a = print(\"Muhammad Mehmood\")\n",
    "print(a)\n",
    "print(a)\n",
    "print(a)"
   ]
  },
  {
   "cell_type": "code",
   "execution_count": 5,
   "id": "f4497097",
   "metadata": {},
   "outputs": [
    {
     "name": "stdout",
     "output_type": "stream",
     "text": [
      "\n",
      "Saylani Mass IT Program\n",
      "Batch-4 AI and DS\n",
      "class days: tue and fri\n",
      "\n",
      "None\n",
      "None\n",
      "None\n"
     ]
    }
   ],
   "source": [
    "a = print(\"\"\"\n",
    "Saylani Mass IT Program\n",
    "Batch-4 AI and DS\n",
    "class days: tue and fri\n",
    "\"\"\")\n",
    "print(a)\n",
    "print(a)\n",
    "print(a)"
   ]
  },
  {
   "cell_type": "markdown",
   "id": "547fcfb0",
   "metadata": {},
   "source": [
    "# concatination\n",
    "* **+**\n",
    "* varaiable_name.format(var1, var2, var3)\n",
    "* '"
   ]
  },
  {
   "cell_type": "code",
   "execution_count": 11,
   "id": "45ef86af",
   "metadata": {},
   "outputs": [
    {
     "name": "stdout",
     "output_type": "stream",
     "text": [
      " Insitute Name: Saylani Mass IT Training\n",
      "Student Full Name:Muhammad Mehmood\n",
      "Student Last Name:yaseen\n"
     ]
    }
   ],
   "source": [
    "first_name = \"Muhammad Mehmood\"\n",
    "last_name= \"yaseen\"\n",
    "institute_name= \"Saylani Mass IT Training\"\n",
    "age= 35\n",
    "\n",
    "card = \" Insitute Name: \" + institute_name + \"\\nStudent Full Name:\" + first_name + \"\\nStudent Last Name:\" + last_name\n",
    "print(card)"
   ]
  },
  {
   "cell_type": "code",
   "execution_count": 13,
   "id": "7ee66e56",
   "metadata": {},
   "outputs": [
    {
     "name": "stdout",
     "output_type": "stream",
     "text": [
      "Institute Name: saylani mass it training Saylani Mass IT Training\n",
      "student full name: Muhammad Mehmood yaseen\n",
      "age: 35\n",
      "\n"
     ]
    }
   ],
   "source": [
    "first_name = \"Muhammad Mehmood\"\n",
    "last_name= \"yaseen\"\n",
    "institute_name= \"Saylani Mass IT Training\"\n",
    "age= 35\n",
    "\n",
    "card = \"\"\"Institute Name: saylani mass it training {}\n",
    "student full name: {} {}\n",
    "age: {}\n",
    "\"\"\".format(institute_name, first_name, last_name,age)\n",
    "print(card)\n"
   ]
  },
  {
   "cell_type": "markdown",
   "id": "eb80998b",
   "metadata": {},
   "source": [
    "# with f '"
   ]
  },
  {
   "cell_type": "code",
   "execution_count": 16,
   "id": "75117673",
   "metadata": {},
   "outputs": [
    {
     "name": "stdout",
     "output_type": "stream",
     "text": [
      "Institute Name: Saylani Mass IT Training\n",
      "student full name: Muhammad Mehmood yaseen\n",
      "age: 35\n",
      "\n"
     ]
    }
   ],
   "source": [
    "first_name = \"Muhammad Mehmood\"\n",
    "last_name= \"yaseen\"\n",
    "institute_name= \"Saylani Mass IT Training\"\n",
    "age= 35\n",
    "\n",
    "card = f\"\"\"Institute Name: {institute_name}\n",
    "student full name: {first_name} {last_name}\n",
    "age: {age}\n",
    "\"\"\"\n",
    "print(card)"
   ]
  },
  {
   "cell_type": "code",
   "execution_count": 18,
   "id": "1e89a344",
   "metadata": {},
   "outputs": [
    {
     "name": "stdout",
     "output_type": "stream",
     "text": [
      "Institute Name: Saylani Mass IT Training\n",
      "student full name: Muhammad Mehmood yaseen\n",
      "age: 35\n",
      "\n"
     ]
    }
   ],
   "source": [
    "card = \"\"\"Institute Name: %s\n",
    "student full name: %s %s\n",
    "age: %d\n",
    "\"\"\" % (institute_name, first_name, last_name,age)\n",
    "print(card)"
   ]
  },
  {
   "cell_type": "code",
   "execution_count": 19,
   "id": "5d8bdd87",
   "metadata": {},
   "outputs": [
    {
     "name": "stdout",
     "output_type": "stream",
     "text": [
      "Institute Name: Saylani Mass IT Training\n",
      "student full name: Muhammad Mehmood yaseen\n",
      "age: 35\n",
      "\n"
     ]
    }
   ],
   "source": [
    "print(card)"
   ]
  },
  {
   "cell_type": "code",
   "execution_count": 21,
   "id": "9f403d53",
   "metadata": {},
   "outputs": [
    {
     "ename": "SyntaxError",
     "evalue": "invalid syntax (4063154226.py, line 1)",
     "output_type": "error",
     "traceback": [
      "\u001b[1;36m  File \u001b[1;32m\"C:\\Users\\Dell\\AppData\\Local\\Temp\\ipykernel_4596\\4063154226.py\"\u001b[1;36m, line \u001b[1;32m1\u001b[0m\n\u001b[1;33m    i for i in dir(card) if \"_\" not in i\u001b[0m\n\u001b[1;37m      ^\u001b[0m\n\u001b[1;31mSyntaxError\u001b[0m\u001b[1;31m:\u001b[0m invalid syntax\n"
     ]
    }
   ],
   "source": [
    "i for i in dir(card) if \"_\" not in i "
   ]
  },
  {
   "cell_type": "code",
   "execution_count": 22,
   "id": "481bbdb6",
   "metadata": {},
   "outputs": [
    {
     "name": "stdout",
     "output_type": "stream",
     "text": [
      "Institute name: saylani mass it training\n",
      "student full name: muhammad mehmood yaseen\n",
      "age: 35\n",
      "\n"
     ]
    }
   ],
   "source": [
    "print(card.capitalize())"
   ]
  },
  {
   "cell_type": "code",
   "execution_count": 23,
   "id": "13ed231a",
   "metadata": {},
   "outputs": [
    {
     "name": "stdout",
     "output_type": "stream",
     "text": [
      "institute name: saylani mass it training\n",
      "student full name: muhammad mehmood yaseen\n",
      "age: 35\n",
      "\n"
     ]
    }
   ],
   "source": [
    "print(card.casefold()) # inline"
   ]
  },
  {
   "cell_type": "code",
   "execution_count": 24,
   "id": "4e7b559d",
   "metadata": {},
   "outputs": [
    {
     "data": {
      "text/plain": [
       "10"
      ]
     },
     "execution_count": 24,
     "metadata": {},
     "output_type": "execute_result"
    }
   ],
   "source": [
    "card.count('a')"
   ]
  },
  {
   "cell_type": "code",
   "execution_count": 26,
   "id": "9a86044a",
   "metadata": {},
   "outputs": [
    {
     "name": "stdout",
     "output_type": "stream",
     "text": [
      "Institute Name: Saylani Mass IT Training\n",
      "student full name: Muhammad Mehmood yaseen\n",
      "age: 35\n",
      "\n"
     ]
    },
    {
     "data": {
      "text/plain": [
       "1"
      ]
     },
     "execution_count": 26,
     "metadata": {},
     "output_type": "execute_result"
    }
   ],
   "source": [
    "print(card)\n",
    "card.count('Mehmood')"
   ]
  },
  {
   "cell_type": "code",
   "execution_count": null,
   "id": "a89ca915",
   "metadata": {},
   "outputs": [],
   "source": []
  }
 ],
 "metadata": {
  "kernelspec": {
   "display_name": "Python 3 (ipykernel)",
   "language": "python",
   "name": "python3"
  },
  "language_info": {
   "codemirror_mode": {
    "name": "ipython",
    "version": 3
   },
   "file_extension": ".py",
   "mimetype": "text/x-python",
   "name": "python",
   "nbconvert_exporter": "python",
   "pygments_lexer": "ipython3",
   "version": "3.9.13"
  }
 },
 "nbformat": 4,
 "nbformat_minor": 5
}
