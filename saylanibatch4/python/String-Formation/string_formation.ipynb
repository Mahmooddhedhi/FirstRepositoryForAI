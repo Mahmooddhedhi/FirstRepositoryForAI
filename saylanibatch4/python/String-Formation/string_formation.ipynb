{
 "cells": [
  {
   "cell_type": "markdown",
   "id": "fbc83e20",
   "metadata": {},
   "source": [
    "# Text formating/formation/concatination"
   ]
  },
  {
   "cell_type": "code",
   "execution_count": 1,
   "id": "748353ed",
   "metadata": {},
   "outputs": [
    {
     "ename": "SyntaxError",
     "evalue": "invalid syntax (254255428.py, line 1)",
     "output_type": "error",
     "traceback": [
      "\u001b[1;36m  File \u001b[1;32m\"C:\\Users\\Dell\\AppData\\Local\\Temp\\ipykernel_11152\\254255428.py\"\u001b[1;36m, line \u001b[1;32m1\u001b[0m\n\u001b[1;33m    first name \"Muhammad\"\u001b[0m\n\u001b[1;37m          ^\u001b[0m\n\u001b[1;31mSyntaxError\u001b[0m\u001b[1;31m:\u001b[0m invalid syntax\n"
     ]
    }
   ],
   "source": [
    "first name \"Muhammad\""
   ]
  },
  {
   "cell_type": "code",
   "execution_count": 2,
   "id": "9293bea7",
   "metadata": {},
   "outputs": [
    {
     "ename": "SyntaxError",
     "evalue": "invalid syntax (2778844188.py, line 1)",
     "output_type": "error",
     "traceback": [
      "\u001b[1;36m  File \u001b[1;32m\"C:\\Users\\Dell\\AppData\\Local\\Temp\\ipykernel_11152\\2778844188.py\"\u001b[1;36m, line \u001b[1;32m1\u001b[0m\n\u001b[1;33m    0name = \"qasim\"\u001b[0m\n\u001b[1;37m     ^\u001b[0m\n\u001b[1;31mSyntaxError\u001b[0m\u001b[1;31m:\u001b[0m invalid syntax\n"
     ]
    }
   ],
   "source": [
    "0name = \"qasim\""
   ]
  },
  {
   "cell_type": "code",
   "execution_count": 3,
   "id": "85bd1519",
   "metadata": {},
   "outputs": [
    {
     "ename": "SyntaxError",
     "evalue": "cannot assign to operator (4190806953.py, line 1)",
     "output_type": "error",
     "traceback": [
      "\u001b[1;36m  File \u001b[1;32m\"C:\\Users\\Dell\\AppData\\Local\\Temp\\ipykernel_11152\\4190806953.py\"\u001b[1;36m, line \u001b[1;32m1\u001b[0m\n\u001b[1;33m    student^name =\"qasim\"\u001b[0m\n\u001b[1;37m    ^\u001b[0m\n\u001b[1;31mSyntaxError\u001b[0m\u001b[1;31m:\u001b[0m cannot assign to operator\n"
     ]
    }
   ],
   "source": [
    "student^name =\"qasim\""
   ]
  },
  {
   "cell_type": "code",
   "execution_count": 5,
   "id": "84f4efeb",
   "metadata": {},
   "outputs": [
    {
     "name": "stdout",
     "output_type": "stream",
     "text": [
      "30\n"
     ]
    }
   ],
   "source": [
    "age=30\n",
    "print(age)"
   ]
  },
  {
   "cell_type": "code",
   "execution_count": 7,
   "id": "48345e6c",
   "metadata": {},
   "outputs": [
    {
     "ename": "NameError",
     "evalue": "name 'Age' is not defined",
     "output_type": "error",
     "traceback": [
      "\u001b[1;31m---------------------------------------------------------------------------\u001b[0m",
      "\u001b[1;31mNameError\u001b[0m                                 Traceback (most recent call last)",
      "\u001b[1;32m~\\AppData\\Local\\Temp\\ipykernel_11152\\2955847039.py\u001b[0m in \u001b[0;36m<module>\u001b[1;34m\u001b[0m\n\u001b[1;32m----> 1\u001b[1;33m \u001b[0mprint\u001b[0m\u001b[1;33m(\u001b[0m\u001b[0mAge\u001b[0m\u001b[1;33m)\u001b[0m\u001b[1;33m\u001b[0m\u001b[1;33m\u001b[0m\u001b[0m\n\u001b[0m",
      "\u001b[1;31mNameError\u001b[0m: name 'Age' is not defined"
     ]
    }
   ],
   "source": [
    "print(Age)"
   ]
  },
  {
   "cell_type": "markdown",
   "id": "17d45ce3",
   "metadata": {},
   "source": [
    "# Rules for Python variables:\n",
    "* A variable name must start with a letter or the underscore character\n",
    "* A variable name cannot start with a number\n",
    "* A variable name can only contain alpha-numeric characters and underscores (A-z, 0-9, and _ )\n",
    "* Variable names are case-sensitive (age, Age and AGE are three different variables)"
   ]
  },
  {
   "cell_type": "code",
   "execution_count": 8,
   "id": "579597fd",
   "metadata": {},
   "outputs": [
    {
     "name": "stdout",
     "output_type": "stream",
     "text": [
      "Muhammad Mehmood\n"
     ]
    }
   ],
   "source": [
    "student_name= \"Muhammad Mehmood\"\n",
    "print(student_name)"
   ]
  },
  {
   "cell_type": "code",
   "execution_count": 9,
   "id": "ad89920b",
   "metadata": {},
   "outputs": [
    {
     "name": "stdout",
     "output_type": "stream",
     "text": [
      "16\n",
      "16\n",
      "16\n"
     ]
    }
   ],
   "source": [
    "a = len(\"Muhammad Mehmood\")\n",
    "print(a)\n",
    "print(a)\n",
    "print(a)"
   ]
  },
  {
   "cell_type": "code",
   "execution_count": 10,
   "id": "64c003e3",
   "metadata": {},
   "outputs": [
    {
     "name": "stdout",
     "output_type": "stream",
     "text": [
      "Muhammad Mehmood\n",
      "None\n",
      "None\n",
      "None\n"
     ]
    }
   ],
   "source": [
    "a= print(\"Muhammad Mehmood\")\n",
    "print(a)\n",
    "print(a)\n",
    "print(a)"
   ]
  },
  {
   "cell_type": "code",
   "execution_count": 11,
   "id": "16d62cb4",
   "metadata": {},
   "outputs": [
    {
     "name": "stdout",
     "output_type": "stream",
     "text": [
      "\n",
      "Saylani Mass IT program\n",
      "Batch-4 AI and DS\n",
      "Class days: Tue and Fri\n",
      "\n",
      "None\n",
      "None\n",
      "None\n"
     ]
    }
   ],
   "source": [
    "a= print(\"\"\"\n",
    "Saylani Mass IT program\n",
    "Batch-4 AI and DS\n",
    "Class days: Tue and Fri\n",
    "\"\"\")\n",
    "print(a)\n",
    "print(a)\n",
    "print(a)"
   ]
  },
  {
   "cell_type": "markdown",
   "id": "f8f8cb6a",
   "metadata": {},
   "source": [
    "# Concatination\n",
    "* +\n",
    "* variable_name.format(var1,var2,var3)\n",
    "* f' Student name: {var1}  '"
   ]
  },
  {
   "cell_type": "code",
   "execution_count": 12,
   "id": "032b273b",
   "metadata": {},
   "outputs": [
    {
     "name": "stdout",
     "output_type": "stream",
     "text": [
      "Institute Name: Saylani Mass IT program\n",
      "Student Full Name: Muhammad Mehmood Yaseen\n"
     ]
    }
   ],
   "source": [
    "first_name=\"Muhammad Mehmood\"\n",
    "last_name=\"Yaseen\"\n",
    "institute_name=\"Saylani Mass IT program\"\n",
    "\n",
    "card= \"Institute Name: \" + institute_name + \"\\nStudent Full Name: \" + first_name+ \" \" + last_name\n",
    "print(card)"
   ]
  },
  {
   "cell_type": "code",
   "execution_count": 13,
   "id": "f096f5f3",
   "metadata": {},
   "outputs": [
    {
     "ename": "TypeError",
     "evalue": "can only concatenate str (not \"int\") to str",
     "output_type": "error",
     "traceback": [
      "\u001b[1;31m---------------------------------------------------------------------------\u001b[0m",
      "\u001b[1;31mTypeError\u001b[0m                                 Traceback (most recent call last)",
      "\u001b[1;32m~\\AppData\\Local\\Temp\\ipykernel_11152\\1145661298.py\u001b[0m in \u001b[0;36m<module>\u001b[1;34m\u001b[0m\n\u001b[0;32m      4\u001b[0m \u001b[0mage\u001b[0m\u001b[1;33m=\u001b[0m \u001b[1;36m35\u001b[0m\u001b[1;33m\u001b[0m\u001b[1;33m\u001b[0m\u001b[0m\n\u001b[0;32m      5\u001b[0m \u001b[1;33m\u001b[0m\u001b[0m\n\u001b[1;32m----> 6\u001b[1;33m \u001b[0mcard\u001b[0m\u001b[1;33m=\u001b[0m \u001b[1;34m\"Institute Name: \"\u001b[0m \u001b[1;33m+\u001b[0m \u001b[0minstitute_name\u001b[0m \u001b[1;33m+\u001b[0m \u001b[1;34m\"\\nStudent Full Name: \"\u001b[0m \u001b[1;33m+\u001b[0m \u001b[0mfirst_name\u001b[0m\u001b[1;33m+\u001b[0m \u001b[1;34m\" \"\u001b[0m \u001b[1;33m+\u001b[0m \u001b[0mlast_name\u001b[0m\u001b[1;33m+\u001b[0m\u001b[0mage\u001b[0m\u001b[1;33m\u001b[0m\u001b[1;33m\u001b[0m\u001b[0m\n\u001b[0m",
      "\u001b[1;31mTypeError\u001b[0m: can only concatenate str (not \"int\") to str"
     ]
    }
   ],
   "source": [
    "first_name=\"Muhammad Mehmood\"\n",
    "last_name=\"Yaseen\"\n",
    "institute_name=\"Saylani Mass IT program\"\n",
    "age= 35\n",
    "\n",
    "card= \"Institute Name: \" + institute_name + \"\\nStudent Full Name: \" + first_name+ \" \" + last_name+age"
   ]
  },
  {
   "cell_type": "code",
   "execution_count": 14,
   "id": "3a5c083d",
   "metadata": {},
   "outputs": [
    {
     "name": "stdout",
     "output_type": "stream",
     "text": [
      "35 <class 'int'>\n",
      "35 <class 'str'>\n"
     ]
    }
   ],
   "source": [
    "age = 35\n",
    "print(age, type(age))\n",
    "\n",
    "# type casting\n",
    "age= str(age)\n",
    "print(age, type(age))\n"
   ]
  },
  {
   "cell_type": "code",
   "execution_count": 17,
   "id": "b342909e",
   "metadata": {},
   "outputs": [
    {
     "name": "stdout",
     "output_type": "stream",
     "text": [
      "Institute Name: Saylani Mass IT Training\n",
      "Student Full Name Muahammad Mehmood Yaseen\n",
      "Age: 35\n"
     ]
    }
   ],
   "source": [
    "first_name=\"Muahammad Mehmood\"\n",
    "last_name=\"Yaseen\"\n",
    "institute_name=\"Saylani Mass IT Training\"\n",
    "age=35\n",
    "\n",
    "card=\"Institute Name: \" + institute_name + \"\\nStudent Full Name \" + first_name + \" \" + last_name + \"\\nAge: \" + str(age)\n",
    "\n",
    "print(card)"
   ]
  },
  {
   "cell_type": "code",
   "execution_count": 18,
   "id": "b450ca1c",
   "metadata": {},
   "outputs": [
    {
     "name": "stdout",
     "output_type": "stream",
     "text": [
      "Institute Name: Saylani Mass IT Training\n",
      "Student Full Name: Muhammad Mehmood Yaseen\n",
      "Age: 45\n",
      "\n"
     ]
    }
   ],
   "source": [
    "first_name=\"Muahammad Mehmood\"\n",
    "last_name=\"Yaseen\"\n",
    "institute_name=\"Saylani Mass IT Training\"\n",
    "age=35\n",
    "\n",
    "card= \"\"\"Institute Name: Saylani Mass IT Training\n",
    "Student Full Name: Muhammad Mehmood Yaseen\n",
    "Age: 45\n",
    "\"\"\"\n",
    "print(card)"
   ]
  },
  {
   "cell_type": "code",
   "execution_count": 20,
   "id": "fb907fc9",
   "metadata": {},
   "outputs": [
    {
     "name": "stdout",
     "output_type": "stream",
     "text": [
      "Institute Name: Saylani Mass IT Training\n",
      "Student Full Name: Muahammad MehmoodYaseen\n",
      "Age: 35\n",
      "\n"
     ]
    }
   ],
   "source": [
    "first_name=\"Muahammad Mehmood\"\n",
    "last_name=\"Yaseen\"\n",
    "institute_name=\"Saylani Mass IT Training\"\n",
    "age=35\n",
    " \n",
    "card= \"\"\"Institute Name: {}\n",
    "Student Full Name: {}{}\n",
    "Age: {}\n",
    "\"\"\".format(institute_name,first_name,last_name,age)\n",
    "print(card)"
   ]
  },
  {
   "cell_type": "markdown",
   "id": "f8721c64",
   "metadata": {},
   "source": [
    "# With F'"
   ]
  },
  {
   "cell_type": "code",
   "execution_count": 21,
   "id": "607876c1",
   "metadata": {},
   "outputs": [
    {
     "name": "stdout",
     "output_type": "stream",
     "text": [
      "Institute Name: Saylani Mass IT Training\n",
      "Student Full Name: MuhammadQasim\n",
      "Age: 30\n",
      "\n"
     ]
    }
   ],
   "source": [
    "first_name = \"Muhammad\"\n",
    "last_name = \"Qasim\"\n",
    "institute_name = \"Saylani Mass IT Training\"\n",
    "age = 30\n",
    "\n",
    "card= f\"\"\"Institute Name: {institute_name}\n",
    "Student Full Name: {first_name}{last_name}\n",
    "Age: {age}\n",
    "\"\"\"\n",
    "print(card)"
   ]
  },
  {
   "cell_type": "code",
   "execution_count": 23,
   "id": "bc9a1e3e",
   "metadata": {},
   "outputs": [
    {
     "name": "stdout",
     "output_type": "stream",
     "text": [
      "Institute Name: Saylani Mass IT Training\n",
      "Student Full Name: Muhammad Qasim\n",
      "Age: 30\n",
      "\n"
     ]
    }
   ],
   "source": [
    "first_name = \"Muhammad\"\n",
    "last_name = \"Qasim\"\n",
    "institute_name = \"Saylani Mass IT Training\"\n",
    "age = 30\n",
    "\n",
    "card= \"\"\"Institute Name: %s\n",
    "Student Full Name: %s %s\n",
    "Age: %s\n",
    "\"\"\" % (institute_name, first_name, last_name, age)\n",
    "print(card)"
   ]
  },
  {
   "cell_type": "code",
   "execution_count": 24,
   "id": "f1eb5439",
   "metadata": {},
   "outputs": [
    {
     "name": "stdout",
     "output_type": "stream",
     "text": [
      "Institute Name: Saylani Mass IT Training\n",
      "Student Full Name: Muhammad Qasim\n",
      "Age: 30\n",
      "\n"
     ]
    }
   ],
   "source": [
    "print(card)"
   ]
  },
  {
   "cell_type": "code",
   "execution_count": 25,
   "id": "6067f31d",
   "metadata": {},
   "outputs": [
    {
     "name": "stdout",
     "output_type": "stream",
     "text": [
      "0 capitalize\n",
      "1 casefold\n",
      "2 center\n",
      "3 count\n",
      "4 encode\n",
      "5 endswith\n",
      "6 expandtabs\n",
      "7 find\n",
      "8 format\n",
      "9 index\n",
      "10 isalnum\n",
      "11 isalpha\n",
      "12 isascii\n",
      "13 isdecimal\n",
      "14 isdigit\n",
      "15 isidentifier\n",
      "16 islower\n",
      "17 isnumeric\n",
      "18 isprintable\n",
      "19 isspace\n",
      "20 istitle\n",
      "21 isupper\n",
      "22 join\n",
      "23 ljust\n",
      "24 lower\n",
      "25 lstrip\n",
      "26 maketrans\n",
      "27 partition\n",
      "28 removeprefix\n",
      "29 removesuffix\n",
      "30 replace\n",
      "31 rfind\n",
      "32 rindex\n",
      "33 rjust\n",
      "34 rpartition\n",
      "35 rsplit\n",
      "36 rstrip\n",
      "37 split\n",
      "38 splitlines\n",
      "39 startswith\n",
      "40 strip\n",
      "41 swapcase\n",
      "42 title\n",
      "43 translate\n",
      "44 upper\n",
      "45 zfill\n"
     ]
    }
   ],
   "source": [
    "for idx, i in enumerate([i for i in dir(card) if \"_\" not in i]):\n",
    "    print(idx,i)"
   ]
  },
  {
   "cell_type": "code",
   "execution_count": 26,
   "id": "cc6c620f",
   "metadata": {},
   "outputs": [
    {
     "name": "stdout",
     "output_type": "stream",
     "text": [
      "Institute Name: Saylani Mass IT Training\n",
      "Student Full Name: Muhammad Qasim\n",
      "Age: 30\n",
      "\n"
     ]
    }
   ],
   "source": [
    "print(card)"
   ]
  },
  {
   "cell_type": "code",
   "execution_count": 27,
   "id": "98ff4302",
   "metadata": {},
   "outputs": [
    {
     "name": "stdout",
     "output_type": "stream",
     "text": [
      "Institute name: saylani mass it training\n",
      "student full name: muhammad qasim\n",
      "age: 30\n",
      "\n"
     ]
    }
   ],
   "source": [
    "print(card.capitalize())"
   ]
  },
  {
   "cell_type": "code",
   "execution_count": 29,
   "id": "be45c3ea",
   "metadata": {},
   "outputs": [
    {
     "name": "stdout",
     "output_type": "stream",
     "text": [
      "institute name: saylani mass it training\n",
      "student full name: muhammad qasim\n",
      "age: 30\n",
      "\n"
     ]
    }
   ],
   "source": [
    "print(card.casefold())"
   ]
  },
  {
   "cell_type": "code",
   "execution_count": 31,
   "id": "09af95fb",
   "metadata": {},
   "outputs": [
    {
     "name": "stdout",
     "output_type": "stream",
     "text": [
      "Institute Name: Saylani Mass IT Training\n",
      "Student Full Name: Muhammad Qasim\n",
      "Age: 30\n",
      "\n"
     ]
    },
    {
     "data": {
      "text/plain": [
       "1"
      ]
     },
     "execution_count": 31,
     "metadata": {},
     "output_type": "execute_result"
    }
   ],
   "source": [
    "print(card)\n",
    "card.count(\"Qasim\")"
   ]
  },
  {
   "cell_type": "code",
   "execution_count": 34,
   "id": "89240594",
   "metadata": {},
   "outputs": [
    {
     "name": "stdout",
     "output_type": "stream",
     "text": [
      "Institute Name: Saylani Mass IT Training\n",
      "Student Full Name: Muhammad Qasim\n",
      "Age: 30\n",
      "\n"
     ]
    },
    {
     "data": {
      "text/plain": [
       "1"
      ]
     },
     "execution_count": 34,
     "metadata": {},
     "output_type": "execute_result"
    }
   ],
   "source": [
    "print(card)\n",
    "card.casefold().count('qasim')"
   ]
  },
  {
   "cell_type": "code",
   "execution_count": 36,
   "id": "58e8edfc",
   "metadata": {},
   "outputs": [
    {
     "name": "stdout",
     "output_type": "stream",
     "text": [
      "b'My name is St\\xc3\\xa5le'\n"
     ]
    }
   ],
   "source": [
    "txt= \"My name is Ståle\"\n",
    "x=txt.encode()\n",
    "print(x)"
   ]
  },
  {
   "cell_type": "code",
   "execution_count": 37,
   "id": "8c7441a5",
   "metadata": {},
   "outputs": [
    {
     "name": "stdout",
     "output_type": "stream",
     "text": [
      "Institute Name: Saylani Mass IT Training\n",
      "Student Full Name: Muhammad Qasim\n",
      "Age: 30\n",
      "\n"
     ]
    },
    {
     "data": {
      "text/plain": [
       "0"
      ]
     },
     "execution_count": 37,
     "metadata": {},
     "output_type": "execute_result"
    }
   ],
   "source": [
    "print(card)\n",
    "card.count('qasim')"
   ]
  },
  {
   "cell_type": "code",
   "execution_count": 38,
   "id": "51a8a5d7",
   "metadata": {},
   "outputs": [
    {
     "name": "stdout",
     "output_type": "stream",
     "text": [
      "b'My name is St\\\\xe5le'\n",
      "b'My name is Stle'\n",
      "b'My name is St\\\\N{LATIN SMALL LETTER A WITH RING ABOVE}le'\n",
      "b'My name is St?le'\n",
      "b'My name is St&#229;le'\n"
     ]
    }
   ],
   "source": [
    "txt = \"My name is Ståle\"\n",
    "\n",
    "print(txt.encode(encoding=\"ascii\",errors=\"backslashreplace\"))\n",
    "print(txt.encode(encoding=\"ascii\",errors=\"ignore\"))\n",
    "print(txt.encode(encoding=\"ascii\",errors=\"namereplace\"))\n",
    "print(txt.encode(encoding=\"ascii\",errors=\"replace\"))\n",
    "print(txt.encode(encoding=\"ascii\",errors=\"xmlcharrefreplace\"))"
   ]
  },
  {
   "cell_type": "code",
   "execution_count": null,
   "id": "376f7f89",
   "metadata": {},
   "outputs": [],
   "source": []
  }
 ],
 "metadata": {
  "kernelspec": {
   "display_name": "Python 3 (ipykernel)",
   "language": "python",
   "name": "python3"
  },
  "language_info": {
   "codemirror_mode": {
    "name": "ipython",
    "version": 3
   },
   "file_extension": ".py",
   "mimetype": "text/x-python",
   "name": "python",
   "nbconvert_exporter": "python",
   "pygments_lexer": "ipython3",
   "version": "3.9.13"
  }
 },
 "nbformat": 4,
 "nbformat_minor": 5
}
